{
 "cells": [
  {
   "cell_type": "code",
   "execution_count": 1,
   "id": "cdde2a93",
   "metadata": {},
   "outputs": [
    {
     "data": {
      "text/plain": [
       "'local[*]'"
      ]
     },
     "execution_count": 1,
     "metadata": {},
     "output_type": "execute_result"
    }
   ],
   "source": [
    "# sc master - running locally\n",
    "sc.master"
   ]
  },
  {
   "cell_type": "code",
   "execution_count": 2,
   "id": "cd265fe6",
   "metadata": {},
   "outputs": [],
   "source": [
    "import warnings\n",
    "import time # For measuring the code execution time\n",
    "\n",
    "warnings.filterwarnings(\"ignore\")"
   ]
  },
  {
   "cell_type": "code",
   "execution_count": 3,
   "id": "d73b0e86",
   "metadata": {
    "scrolled": true
   },
   "outputs": [],
   "source": [
    "sc = spark.sparkContext"
   ]
  },
  {
   "cell_type": "code",
   "execution_count": 4,
   "id": "d5c6bf99",
   "metadata": {},
   "outputs": [],
   "source": [
    "purchasesDirectoryPath = \"./data/area-grocery-purchase/\"\n",
    "categoriesDirectoryPath = \"/data/\"\n",
    "purchasesDirectoryPathWithFile = \"file:///home/hduser/MScDA-Sem2-CA1/data/area-grocery-purchase/\""
   ]
  },
  {
   "cell_type": "code",
   "execution_count": 42,
   "id": "774333d7",
   "metadata": {},
   "outputs": [],
   "source": [
    "from pyspark.sql.functions import lit\n",
    "\n",
    "def extractAggregate(filename:str):\n",
    "    start = filename.find('_')+1\n",
    "    stop = filename[start:].find('_')+start\n",
    "    return filename[start:stop]\n",
    "\n",
    "def extractAndCreateDataFrame(filename:str):\n",
    "    month=filename[:3]\n",
    "    aggregate = extractAggregate(filename)\n",
    "    tempDF = spark.read.csv(purchasesDirectoryPathWithFile + filename, header=True)\n",
    "    tempDF = tempDF.withColumn(\"month\", lit(month))\n",
    "    tempDF = tempDF.withColumn(\"aggregate\", lit(aggregate))\n",
    "    return tempDF"
   ]
  },
  {
   "cell_type": "code",
   "execution_count": 43,
   "id": "f0b1f237",
   "metadata": {},
   "outputs": [],
   "source": [
    "from functools import reduce\n",
    "import os\n",
    "\n",
    "# get all the files from the aera grocery purchase CSV\n",
    "files = os.listdir(purchasesDirectoryPath)\n",
    "\n",
    "start = time.time()\n",
    "dataframes = []\n",
    "\n",
    "for filename in files:\n",
    "    dataframes.append(extractAndCreateDataFrame(filename))\n",
    "\n",
    "purchaseDF = reduce(lambda x, y: x.union(y), dataframes)\n",
    "\n",
    "end = time.time()\n",
    "\n",
    "elapsedTime = end - start;"
   ]
  },
  {
   "cell_type": "code",
   "execution_count": 44,
   "id": "c0ec0660",
   "metadata": {},
   "outputs": [
    {
     "name": "stdout",
     "output_type": "stream",
     "text": [
      "Elapsed time:  6.792416572570801\n"
     ]
    }
   ],
   "source": [
    "print(\"Elapsed time: \", elapsedTime)"
   ]
  },
  {
   "cell_type": "code",
   "execution_count": 45,
   "id": "0cd913d7",
   "metadata": {},
   "outputs": [
    {
     "name": "stdout",
     "output_type": "stream",
     "text": [
      "root\n",
      " |-- area_id: string (nullable = true)\n",
      " |-- weight: string (nullable = true)\n",
      " |-- weight_perc2.5: string (nullable = true)\n",
      " |-- weight_perc25: string (nullable = true)\n",
      " |-- weight_perc50: string (nullable = true)\n",
      " |-- weight_perc75: string (nullable = true)\n",
      " |-- weight_perc97.5: string (nullable = true)\n",
      " |-- weight_std: string (nullable = true)\n",
      " |-- weight_ci95: string (nullable = true)\n",
      " |-- volume: string (nullable = true)\n",
      " |-- volume_perc2.5: string (nullable = true)\n",
      " |-- volume_perc25: string (nullable = true)\n",
      " |-- volume_perc50: string (nullable = true)\n",
      " |-- volume_perc75: string (nullable = true)\n",
      " |-- volume_perc97.5: string (nullable = true)\n",
      " |-- volume_std: string (nullable = true)\n",
      " |-- volume_ci95: string (nullable = true)\n",
      " |-- fat: string (nullable = true)\n",
      " |-- fat_perc2.5: string (nullable = true)\n",
      " |-- fat_perc25: string (nullable = true)\n",
      " |-- fat_perc50: string (nullable = true)\n",
      " |-- fat_perc75: string (nullable = true)\n",
      " |-- fat_perc97.5: string (nullable = true)\n",
      " |-- fat_std: string (nullable = true)\n",
      " |-- fat_ci95: string (nullable = true)\n",
      " |-- saturate: string (nullable = true)\n",
      " |-- saturate_perc2.5: string (nullable = true)\n",
      " |-- saturate_perc25: string (nullable = true)\n",
      " |-- saturate_perc50: string (nullable = true)\n",
      " |-- saturate_perc75: string (nullable = true)\n",
      " |-- saturate_perc97.5: string (nullable = true)\n",
      " |-- saturate_std: string (nullable = true)\n",
      " |-- saturate_ci95: string (nullable = true)\n",
      " |-- salt: string (nullable = true)\n",
      " |-- salt_perc2.5: string (nullable = true)\n",
      " |-- salt_perc25: string (nullable = true)\n",
      " |-- salt_perc50: string (nullable = true)\n",
      " |-- salt_perc75: string (nullable = true)\n",
      " |-- salt_perc97.5: string (nullable = true)\n",
      " |-- salt_std: string (nullable = true)\n",
      " |-- salt_ci95: string (nullable = true)\n",
      " |-- sugar: string (nullable = true)\n",
      " |-- sugar_perc2.5: string (nullable = true)\n",
      " |-- sugar_perc25: string (nullable = true)\n",
      " |-- sugar_perc50: string (nullable = true)\n",
      " |-- sugar_perc75: string (nullable = true)\n",
      " |-- sugar_perc97.5: string (nullable = true)\n",
      " |-- sugar_std: string (nullable = true)\n",
      " |-- sugar_ci95: string (nullable = true)\n",
      " |-- protein: string (nullable = true)\n",
      " |-- protein_perc2.5: string (nullable = true)\n",
      " |-- protein_perc25: string (nullable = true)\n",
      " |-- protein_perc50: string (nullable = true)\n",
      " |-- protein_perc75: string (nullable = true)\n",
      " |-- protein_perc97.5: string (nullable = true)\n",
      " |-- protein_std: string (nullable = true)\n",
      " |-- protein_ci95: string (nullable = true)\n",
      " |-- carb: string (nullable = true)\n",
      " |-- carb_perc2.5: string (nullable = true)\n",
      " |-- carb_perc25: string (nullable = true)\n",
      " |-- carb_perc50: string (nullable = true)\n",
      " |-- carb_perc75: string (nullable = true)\n",
      " |-- carb_perc97.5: string (nullable = true)\n",
      " |-- carb_std: string (nullable = true)\n",
      " |-- carb_ci95: string (nullable = true)\n",
      " |-- fibre: string (nullable = true)\n",
      " |-- fibre_perc2.5: string (nullable = true)\n",
      " |-- fibre_perc25: string (nullable = true)\n",
      " |-- fibre_perc50: string (nullable = true)\n",
      " |-- fibre_perc75: string (nullable = true)\n",
      " |-- fibre_perc97.5: string (nullable = true)\n",
      " |-- fibre_std: string (nullable = true)\n",
      " |-- fibre_ci95: string (nullable = true)\n",
      " |-- alcohol: string (nullable = true)\n",
      " |-- alcohol_perc2.5: string (nullable = true)\n",
      " |-- alcohol_perc25: string (nullable = true)\n",
      " |-- alcohol_perc50: string (nullable = true)\n",
      " |-- alcohol_perc75: string (nullable = true)\n",
      " |-- alcohol_perc97.5: string (nullable = true)\n",
      " |-- alcohol_std: string (nullable = true)\n",
      " |-- alcohol_ci95: string (nullable = true)\n",
      " |-- energy_fat: string (nullable = true)\n",
      " |-- energy_fat_perc2.5: string (nullable = true)\n",
      " |-- energy_fat_perc25: string (nullable = true)\n",
      " |-- energy_fat_perc50: string (nullable = true)\n",
      " |-- energy_fat_perc75: string (nullable = true)\n",
      " |-- energy_fat_perc97.5: string (nullable = true)\n",
      " |-- energy_fat_std: string (nullable = true)\n",
      " |-- energy_fat_ci95: string (nullable = true)\n",
      " |-- energy_saturate: string (nullable = true)\n",
      " |-- energy_saturate_perc2.5: string (nullable = true)\n",
      " |-- energy_saturate_perc25: string (nullable = true)\n",
      " |-- energy_saturate_perc50: string (nullable = true)\n",
      " |-- energy_saturate_perc75: string (nullable = true)\n",
      " |-- energy_saturate_perc97.5: string (nullable = true)\n",
      " |-- energy_saturate_std: string (nullable = true)\n",
      " |-- energy_saturate_ci95: string (nullable = true)\n",
      " |-- energy_sugar: string (nullable = true)\n",
      " |-- energy_sugar_perc2.5: string (nullable = true)\n",
      " |-- energy_sugar_perc25: string (nullable = true)\n",
      " |-- energy_sugar_perc50: string (nullable = true)\n",
      " |-- energy_sugar_perc75: string (nullable = true)\n",
      " |-- energy_sugar_perc97.5: string (nullable = true)\n",
      " |-- energy_sugar_std: string (nullable = true)\n",
      " |-- energy_sugar_ci95: string (nullable = true)\n",
      " |-- energy_protein: string (nullable = true)\n",
      " |-- energy_protein_perc2.5: string (nullable = true)\n",
      " |-- energy_protein_perc25: string (nullable = true)\n",
      " |-- energy_protein_perc50: string (nullable = true)\n",
      " |-- energy_protein_perc75: string (nullable = true)\n",
      " |-- energy_protein_perc97.5: string (nullable = true)\n",
      " |-- energy_protein_std: string (nullable = true)\n",
      " |-- energy_protein_ci95: string (nullable = true)\n",
      " |-- energy_carb: string (nullable = true)\n",
      " |-- energy_carb_perc2.5: string (nullable = true)\n",
      " |-- energy_carb_perc25: string (nullable = true)\n",
      " |-- energy_carb_perc50: string (nullable = true)\n",
      " |-- energy_carb_perc75: string (nullable = true)\n",
      " |-- energy_carb_perc97.5: string (nullable = true)\n",
      " |-- energy_carb_std: string (nullable = true)\n",
      " |-- energy_carb_ci95: string (nullable = true)\n",
      " |-- energy_fibre: string (nullable = true)\n",
      " |-- energy_fibre_perc2.5: string (nullable = true)\n",
      " |-- energy_fibre_perc25: string (nullable = true)\n",
      " |-- energy_fibre_perc50: string (nullable = true)\n",
      " |-- energy_fibre_perc75: string (nullable = true)\n",
      " |-- energy_fibre_perc97.5: string (nullable = true)\n",
      " |-- energy_fibre_std: string (nullable = true)\n",
      " |-- energy_fibre_ci95: string (nullable = true)\n",
      " |-- energy_alcohol: string (nullable = true)\n",
      " |-- energy_alcohol_perc2.5: string (nullable = true)\n",
      " |-- energy_alcohol_perc25: string (nullable = true)\n",
      " |-- energy_alcohol_perc50: string (nullable = true)\n",
      " |-- energy_alcohol_perc75: string (nullable = true)\n",
      " |-- energy_alcohol_perc97.5: string (nullable = true)\n",
      " |-- energy_alcohol_std: string (nullable = true)\n",
      " |-- energy_alcohol_ci95: string (nullable = true)\n",
      " |-- energy_tot: string (nullable = true)\n",
      " |-- energy_tot_perc2.5: string (nullable = true)\n",
      " |-- energy_tot_perc25: string (nullable = true)\n",
      " |-- energy_tot_perc50: string (nullable = true)\n",
      " |-- energy_tot_perc75: string (nullable = true)\n",
      " |-- energy_tot_perc97.5: string (nullable = true)\n",
      " |-- energy_tot_std: string (nullable = true)\n",
      " |-- energy_tot_ci95: string (nullable = true)\n",
      " |-- f_energy_fat: string (nullable = true)\n",
      " |-- f_energy_saturate: string (nullable = true)\n",
      " |-- f_energy_sugar: string (nullable = true)\n",
      " |-- f_energy_protein: string (nullable = true)\n",
      " |-- f_energy_carb: string (nullable = true)\n",
      " |-- f_energy_fibre: string (nullable = true)\n",
      " |-- f_energy_alcohol: string (nullable = true)\n",
      " |-- energy_density: string (nullable = true)\n",
      " |-- h_nutrients_weight: string (nullable = true)\n",
      " |-- h_nutrients_weight_norm: string (nullable = true)\n",
      " |-- h_nutrients_calories: string (nullable = true)\n",
      " |-- h_nutrients_calories_norm: string (nullable = true)\n",
      " |-- f_beer: string (nullable = true)\n",
      " |-- f_dairy: string (nullable = true)\n",
      " |-- f_eggs: string (nullable = true)\n",
      " |-- f_fats_oils: string (nullable = true)\n",
      " |-- f_fish: string (nullable = true)\n",
      " |-- f_fruit_veg: string (nullable = true)\n",
      " |-- f_grains: string (nullable = true)\n",
      " |-- f_meat_red: string (nullable = true)\n",
      " |-- f_poultry: string (nullable = true)\n",
      " |-- f_readymade: string (nullable = true)\n",
      " |-- f_sauces: string (nullable = true)\n",
      " |-- f_soft_drinks: string (nullable = true)\n",
      " |-- f_spirits: string (nullable = true)\n",
      " |-- f_sweets: string (nullable = true)\n",
      " |-- f_tea_coffee: string (nullable = true)\n",
      " |-- f_water: string (nullable = true)\n",
      " |-- f_wine: string (nullable = true)\n",
      " |-- f_dairy_weight: string (nullable = true)\n",
      " |-- f_eggs_weight: string (nullable = true)\n",
      " |-- f_fats_oils_weight: string (nullable = true)\n",
      " |-- f_fish_weight: string (nullable = true)\n",
      " |-- f_fruit_veg_weight: string (nullable = true)\n",
      " |-- f_grains_weight: string (nullable = true)\n",
      " |-- f_meat_red_weight: string (nullable = true)\n",
      " |-- f_poultry_weight: string (nullable = true)\n",
      " |-- f_readymade_weight: string (nullable = true)\n",
      " |-- f_sauces_weight: string (nullable = true)\n",
      " |-- f_sweets_weight: string (nullable = true)\n",
      " |-- h_items: string (nullable = true)\n",
      " |-- h_items_norm: string (nullable = true)\n",
      " |-- h_items_weight: string (nullable = true)\n",
      " |-- h_items_weight_norm: string (nullable = true)\n",
      " |-- representativeness_norm: string (nullable = true)\n",
      " |-- transaction_days: string (nullable = true)\n",
      " |-- num_transactions: string (nullable = true)\n",
      " |-- man_day: string (nullable = true)\n",
      " |-- population: string (nullable = true)\n",
      " |-- male: string (nullable = true)\n",
      " |-- female: string (nullable = true)\n",
      " |-- age_0_17: string (nullable = true)\n",
      " |-- age_18_64: string (nullable = true)\n",
      " |-- age_65+: string (nullable = true)\n",
      " |-- avg_age: string (nullable = true)\n",
      " |-- area_sq_km: string (nullable = true)\n",
      " |-- people_per_sq_km: string (nullable = true)\n",
      " |-- month: string (nullable = false)\n",
      " |-- aggregate: string (nullable = false)\n",
      "\n"
     ]
    }
   ],
   "source": [
    "purchaseDF.printSchema()"
   ]
  },
  {
   "cell_type": "code",
   "execution_count": 34,
   "id": "2d98f5c0",
   "metadata": {},
   "outputs": [
    {
     "name": "stderr",
     "output_type": "stream",
     "text": [
      "2023-10-05 15:56:47,309 WARN util.package: Truncated the string representation of a plan since it was too large. This behavior can be adjusted by setting 'spark.sql.debug.maxToStringFields'.\n"
     ]
    }
   ],
   "source": [
    "purchaseDF.createOrReplaceTempView(\"purchases\")"
   ]
  },
  {
   "cell_type": "code",
   "execution_count": 37,
   "id": "e4bfc7d8",
   "metadata": {},
   "outputs": [
    {
     "name": "stdout",
     "output_type": "stream",
     "text": [
      "+---------+-----+---------+\n",
      "|      _c0|month|aggregate|\n",
      "+---------+-----+---------+\n",
      "|  area_id|  May|   osward|\n",
      "|E05000026|  May|   osward|\n",
      "|E05000027|  May|   osward|\n",
      "|E05000028|  May|   osward|\n",
      "|E05000029|  May|   osward|\n",
      "+---------+-----+---------+\n",
      "\n"
     ]
    }
   ],
   "source": [
    "sampleDF = spark.sql(\"SELECT _c0, month, aggregate FROM purchases LIMIT 5\")\n",
    "sampleDF.show()"
   ]
  },
  {
   "cell_type": "code",
   "execution_count": null,
   "id": "9850aa96",
   "metadata": {},
   "outputs": [],
   "source": []
  }
 ],
 "metadata": {
  "kernelspec": {
   "display_name": "Python 3 (ipykernel)",
   "language": "python",
   "name": "python3"
  },
  "language_info": {
   "codemirror_mode": {
    "name": "ipython",
    "version": 3
   },
   "file_extension": ".py",
   "mimetype": "text/x-python",
   "name": "python",
   "nbconvert_exporter": "python",
   "pygments_lexer": "ipython3",
   "version": "3.10.12"
  }
 },
 "nbformat": 4,
 "nbformat_minor": 5
}
