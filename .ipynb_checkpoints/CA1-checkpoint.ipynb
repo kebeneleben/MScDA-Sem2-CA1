{
 "cells": [
  {
   "cell_type": "code",
   "execution_count": 1,
   "id": "cdde2a93",
   "metadata": {},
   "outputs": [
    {
     "data": {
      "text/plain": [
       "'local[*]'"
      ]
     },
     "execution_count": 1,
     "metadata": {},
     "output_type": "execute_result"
    }
   ],
   "source": [
    "# sc master - running locally\n",
    "sc.master"
   ]
  },
  {
   "cell_type": "code",
   "execution_count": 2,
   "id": "cd265fe6",
   "metadata": {},
   "outputs": [],
   "source": [
    "import warnings\n",
    "import time # For measuring the code execution time\n",
    "\n",
    "warnings.filterwarnings(\"ignore\")"
   ]
  },
  {
   "cell_type": "code",
   "execution_count": 3,
   "id": "d73b0e86",
   "metadata": {
    "scrolled": true
   },
   "outputs": [],
   "source": [
    "sc = spark.sparkContext"
   ]
  },
  {
   "cell_type": "code",
   "execution_count": 4,
   "id": "ef91f1a9",
   "metadata": {},
   "outputs": [],
   "source": [
    "purchasesDirectoryPath = \"./data/area-grocery-purchase/\"\n",
    "categoriesDirectoryPath = \"/data/\"\n",
    "purchasesDirectoryPathWithFile = \"file:///home/hduser/MScDA-Sem2-CA1/data/area-grocery-purchase/\""
   ]
  },
  {
   "cell_type": "code",
   "execution_count": 20,
   "id": "87189115",
   "metadata": {},
   "outputs": [],
   "source": [
    "from pyspark.sql.functions import lit\n",
    "\n",
    "def extractAggregate(filename:str):\n",
    "    start = filename.find('_')+1\n",
    "    stop = filename[start:].find('_')+start\n",
    "    return filename[start:stop]\n",
    "\n",
    "def extractAndCreateDataFrame(filename:str):\n",
    "    month=filename[:3]\n",
    "    aggregate = extractAggregate(filename)\n",
    "    print(purchasesDirectoryPathWithFile + filename)\n",
    "    tempDF = spark.read.csv(purchasesDirectoryPathWithFile + filename)\n",
    "    tempDF = tempDF.withColumn(\"month\", lit(month))\n",
    "    tempDF = tempDF.withColumn(\"aggregate\", lit(aggregate))\n",
    "    return tempDF"
   ]
  },
  {
   "cell_type": "code",
   "execution_count": 21,
   "id": "f0b1f237",
   "metadata": {},
   "outputs": [
    {
     "name": "stdout",
     "output_type": "stream",
     "text": [
      "file:///home/hduser/MScDA-Sem2-CA1/data/area-grocery-purchase/May_osward_grocery.csv\n",
      "file:///home/hduser/MScDA-Sem2-CA1/data/area-grocery-purchase/Jun_msoa_grocery.csv\n",
      "file:///home/hduser/MScDA-Sem2-CA1/data/area-grocery-purchase/Aug_lsoa_grocery.csv\n",
      "file:///home/hduser/MScDA-Sem2-CA1/data/area-grocery-purchase/Dec_msoa_grocery.csv\n",
      "file:///home/hduser/MScDA-Sem2-CA1/data/area-grocery-purchase/Mar_borough_grocery.csv\n",
      "file:///home/hduser/MScDA-Sem2-CA1/data/area-grocery-purchase/Aug_borough_grocery.csv\n",
      "file:///home/hduser/MScDA-Sem2-CA1/data/area-grocery-purchase/Nov_borough_grocery.csv\n",
      "file:///home/hduser/MScDA-Sem2-CA1/data/area-grocery-purchase/Jul_osward_grocery.csv\n",
      "file:///home/hduser/MScDA-Sem2-CA1/data/area-grocery-purchase/year_msoa_grocery.csv\n",
      "file:///home/hduser/MScDA-Sem2-CA1/data/area-grocery-purchase/Feb_osward_grocery.csv\n",
      "file:///home/hduser/MScDA-Sem2-CA1/data/area-grocery-purchase/Apr_osward_grocery.csv\n",
      "file:///home/hduser/MScDA-Sem2-CA1/data/area-grocery-purchase/Dec_lsoa_grocery.csv\n",
      "file:///home/hduser/MScDA-Sem2-CA1/data/area-grocery-purchase/year_osward_grocery.csv\n",
      "file:///home/hduser/MScDA-Sem2-CA1/data/area-grocery-purchase/Sep_lsoa_grocery.csv\n",
      "file:///home/hduser/MScDA-Sem2-CA1/data/area-grocery-purchase/Jun_lsoa_grocery.csv\n",
      "file:///home/hduser/MScDA-Sem2-CA1/data/area-grocery-purchase/Apr_msoa_grocery.csv\n",
      "file:///home/hduser/MScDA-Sem2-CA1/data/area-grocery-purchase/Feb_lsoa_grocery.csv\n",
      "file:///home/hduser/MScDA-Sem2-CA1/data/area-grocery-purchase/May_borough_grocery.csv\n",
      "file:///home/hduser/MScDA-Sem2-CA1/data/area-grocery-purchase/Jul_msoa_grocery.csv\n",
      "file:///home/hduser/MScDA-Sem2-CA1/data/area-grocery-purchase/Sep_borough_grocery.csv\n",
      "file:///home/hduser/MScDA-Sem2-CA1/data/area-grocery-purchase/Oct_msoa_grocery.csv\n",
      "file:///home/hduser/MScDA-Sem2-CA1/data/area-grocery-purchase/Jun_borough_grocery.csv\n",
      "file:///home/hduser/MScDA-Sem2-CA1/data/area-grocery-purchase/Mar_lsoa_grocery.csv\n",
      "file:///home/hduser/MScDA-Sem2-CA1/data/area-grocery-purchase/Nov_lsoa_grocery.csv\n",
      "file:///home/hduser/MScDA-Sem2-CA1/data/area-grocery-purchase/Mar_osward_grocery.csv\n",
      "file:///home/hduser/MScDA-Sem2-CA1/data/area-grocery-purchase/year_lsoa_grocery.csv\n",
      "file:///home/hduser/MScDA-Sem2-CA1/data/area-grocery-purchase/Mar_msoa_grocery.csv\n",
      "file:///home/hduser/MScDA-Sem2-CA1/data/area-grocery-purchase/Jun_osward_grocery.csv\n",
      "file:///home/hduser/MScDA-Sem2-CA1/data/area-grocery-purchase/.~lock.Apr_borough_grocery.csv#\n"
     ]
    },
    {
     "name": "stderr",
     "output_type": "stream",
     "text": [
      "2023-10-05 15:53:22,111 WARN datasources.DataSource: All paths were ignored:\n",
      "  file:/home/hduser/MScDA-Sem2-CA1/data/area-grocery-purchase/.~lock.Apr_borough_grocery.csv#\n"
     ]
    },
    {
     "ename": "AnalysisException",
     "evalue": "Unable to infer schema for CSV. It must be specified manually.",
     "output_type": "error",
     "traceback": [
      "\u001b[0;31m---------------------------------------------------------------------------\u001b[0m",
      "\u001b[0;31mAnalysisException\u001b[0m                         Traceback (most recent call last)",
      "\u001b[0;32m/tmp/ipykernel_5679/1477371873.py\u001b[0m in \u001b[0;36m<module>\u001b[0;34m\u001b[0m\n\u001b[1;32m      9\u001b[0m \u001b[0;34m\u001b[0m\u001b[0m\n\u001b[1;32m     10\u001b[0m \u001b[0;32mfor\u001b[0m \u001b[0mfilename\u001b[0m \u001b[0;32min\u001b[0m \u001b[0mfiles\u001b[0m\u001b[0;34m:\u001b[0m\u001b[0;34m\u001b[0m\u001b[0;34m\u001b[0m\u001b[0m\n\u001b[0;32m---> 11\u001b[0;31m     \u001b[0mdataframes\u001b[0m\u001b[0;34m.\u001b[0m\u001b[0mappend\u001b[0m\u001b[0;34m(\u001b[0m\u001b[0mextractAndCreateDataFrame\u001b[0m\u001b[0;34m(\u001b[0m\u001b[0mfilename\u001b[0m\u001b[0;34m)\u001b[0m\u001b[0;34m)\u001b[0m\u001b[0;34m\u001b[0m\u001b[0;34m\u001b[0m\u001b[0m\n\u001b[0m\u001b[1;32m     12\u001b[0m \u001b[0;34m\u001b[0m\u001b[0m\n\u001b[1;32m     13\u001b[0m \u001b[0;31m# purchaseDF = reduce(lambda x, y: x.union(y), dataframes)\u001b[0m\u001b[0;34m\u001b[0m\u001b[0;34m\u001b[0m\u001b[0m\n",
      "\u001b[0;32m/tmp/ipykernel_5679/1287844208.py\u001b[0m in \u001b[0;36mextractAndCreateDataFrame\u001b[0;34m(filename)\u001b[0m\n\u001b[1;32m     10\u001b[0m     \u001b[0maggregate\u001b[0m \u001b[0;34m=\u001b[0m \u001b[0mextractAggregate\u001b[0m\u001b[0;34m(\u001b[0m\u001b[0mfilename\u001b[0m\u001b[0;34m)\u001b[0m\u001b[0;34m\u001b[0m\u001b[0;34m\u001b[0m\u001b[0m\n\u001b[1;32m     11\u001b[0m     \u001b[0mprint\u001b[0m\u001b[0;34m(\u001b[0m\u001b[0mpurchasesDirectoryPathWithFile\u001b[0m \u001b[0;34m+\u001b[0m \u001b[0mfilename\u001b[0m\u001b[0;34m)\u001b[0m\u001b[0;34m\u001b[0m\u001b[0;34m\u001b[0m\u001b[0m\n\u001b[0;32m---> 12\u001b[0;31m     \u001b[0mtempDF\u001b[0m \u001b[0;34m=\u001b[0m \u001b[0mspark\u001b[0m\u001b[0;34m.\u001b[0m\u001b[0mread\u001b[0m\u001b[0;34m.\u001b[0m\u001b[0moption\u001b[0m\u001b[0;34m(\u001b[0m\u001b[0;34m\"header\"\u001b[0m\u001b[0;34m,\u001b[0m \u001b[0;34m\"true\"\u001b[0m\u001b[0;34m)\u001b[0m\u001b[0;34m.\u001b[0m\u001b[0moption\u001b[0m\u001b[0;34m(\u001b[0m\u001b[0;34m\"inferSchema\"\u001b[0m\u001b[0;34m,\u001b[0m \u001b[0;32mFalse\u001b[0m\u001b[0;34m)\u001b[0m\u001b[0;34m.\u001b[0m\u001b[0mcsv\u001b[0m\u001b[0;34m(\u001b[0m\u001b[0mpurchasesDirectoryPathWithFile\u001b[0m \u001b[0;34m+\u001b[0m \u001b[0mfilename\u001b[0m\u001b[0;34m)\u001b[0m\u001b[0;34m\u001b[0m\u001b[0;34m\u001b[0m\u001b[0m\n\u001b[0m\u001b[1;32m     13\u001b[0m \u001b[0;31m#     tempDF = spark.read.csv(purchasesDirectoryPathWithFile + filename)\u001b[0m\u001b[0;34m\u001b[0m\u001b[0;34m\u001b[0m\u001b[0m\n\u001b[1;32m     14\u001b[0m     \u001b[0mtempDF\u001b[0m \u001b[0;34m=\u001b[0m \u001b[0mtempDF\u001b[0m\u001b[0;34m.\u001b[0m\u001b[0mwithColumn\u001b[0m\u001b[0;34m(\u001b[0m\u001b[0;34m\"month\"\u001b[0m\u001b[0;34m,\u001b[0m \u001b[0mlit\u001b[0m\u001b[0;34m(\u001b[0m\u001b[0mmonth\u001b[0m\u001b[0;34m)\u001b[0m\u001b[0;34m)\u001b[0m\u001b[0;34m\u001b[0m\u001b[0;34m\u001b[0m\u001b[0m\n",
      "\u001b[0;32m/usr/local/spark/python/pyspark/sql/readwriter.py\u001b[0m in \u001b[0;36mcsv\u001b[0;34m(self, path, schema, sep, encoding, quote, escape, comment, header, inferSchema, ignoreLeadingWhiteSpace, ignoreTrailingWhiteSpace, nullValue, nanValue, positiveInf, negativeInf, dateFormat, timestampFormat, maxColumns, maxCharsPerColumn, maxMalformedLogPerPartition, mode, columnNameOfCorruptRecord, multiLine, charToEscapeQuoteEscaping, samplingRatio, enforceSchema, emptyValue, locale, lineSep, pathGlobFilter, recursiveFileLookup, modifiedBefore, modifiedAfter, unescapedQuoteHandling)\u001b[0m\n\u001b[1;32m    408\u001b[0m             \u001b[0mpath\u001b[0m \u001b[0;34m=\u001b[0m \u001b[0;34m[\u001b[0m\u001b[0mpath\u001b[0m\u001b[0;34m]\u001b[0m\u001b[0;34m\u001b[0m\u001b[0;34m\u001b[0m\u001b[0m\n\u001b[1;32m    409\u001b[0m         \u001b[0;32mif\u001b[0m \u001b[0mtype\u001b[0m\u001b[0;34m(\u001b[0m\u001b[0mpath\u001b[0m\u001b[0;34m)\u001b[0m \u001b[0;34m==\u001b[0m \u001b[0mlist\u001b[0m\u001b[0;34m:\u001b[0m\u001b[0;34m\u001b[0m\u001b[0;34m\u001b[0m\u001b[0m\n\u001b[0;32m--> 410\u001b[0;31m             \u001b[0;32mreturn\u001b[0m \u001b[0mself\u001b[0m\u001b[0;34m.\u001b[0m\u001b[0m_df\u001b[0m\u001b[0;34m(\u001b[0m\u001b[0mself\u001b[0m\u001b[0;34m.\u001b[0m\u001b[0m_jreader\u001b[0m\u001b[0;34m.\u001b[0m\u001b[0mcsv\u001b[0m\u001b[0;34m(\u001b[0m\u001b[0mself\u001b[0m\u001b[0;34m.\u001b[0m\u001b[0m_spark\u001b[0m\u001b[0;34m.\u001b[0m\u001b[0m_sc\u001b[0m\u001b[0;34m.\u001b[0m\u001b[0m_jvm\u001b[0m\u001b[0;34m.\u001b[0m\u001b[0mPythonUtils\u001b[0m\u001b[0;34m.\u001b[0m\u001b[0mtoSeq\u001b[0m\u001b[0;34m(\u001b[0m\u001b[0mpath\u001b[0m\u001b[0;34m)\u001b[0m\u001b[0;34m)\u001b[0m\u001b[0;34m)\u001b[0m\u001b[0;34m\u001b[0m\u001b[0;34m\u001b[0m\u001b[0m\n\u001b[0m\u001b[1;32m    411\u001b[0m         \u001b[0;32melif\u001b[0m \u001b[0misinstance\u001b[0m\u001b[0;34m(\u001b[0m\u001b[0mpath\u001b[0m\u001b[0;34m,\u001b[0m \u001b[0mRDD\u001b[0m\u001b[0;34m)\u001b[0m\u001b[0;34m:\u001b[0m\u001b[0;34m\u001b[0m\u001b[0;34m\u001b[0m\u001b[0m\n\u001b[1;32m    412\u001b[0m             \u001b[0;32mdef\u001b[0m \u001b[0mfunc\u001b[0m\u001b[0;34m(\u001b[0m\u001b[0miterator\u001b[0m\u001b[0;34m)\u001b[0m\u001b[0;34m:\u001b[0m\u001b[0;34m\u001b[0m\u001b[0;34m\u001b[0m\u001b[0m\n",
      "\u001b[0;32m/usr/local/spark/python/lib/py4j-0.10.9.5-src.zip/py4j/java_gateway.py\u001b[0m in \u001b[0;36m__call__\u001b[0;34m(self, *args)\u001b[0m\n\u001b[1;32m   1319\u001b[0m \u001b[0;34m\u001b[0m\u001b[0m\n\u001b[1;32m   1320\u001b[0m         \u001b[0manswer\u001b[0m \u001b[0;34m=\u001b[0m \u001b[0mself\u001b[0m\u001b[0;34m.\u001b[0m\u001b[0mgateway_client\u001b[0m\u001b[0;34m.\u001b[0m\u001b[0msend_command\u001b[0m\u001b[0;34m(\u001b[0m\u001b[0mcommand\u001b[0m\u001b[0;34m)\u001b[0m\u001b[0;34m\u001b[0m\u001b[0;34m\u001b[0m\u001b[0m\n\u001b[0;32m-> 1321\u001b[0;31m         return_value = get_return_value(\n\u001b[0m\u001b[1;32m   1322\u001b[0m             answer, self.gateway_client, self.target_id, self.name)\n\u001b[1;32m   1323\u001b[0m \u001b[0;34m\u001b[0m\u001b[0m\n",
      "\u001b[0;32m/usr/local/spark/python/pyspark/sql/utils.py\u001b[0m in \u001b[0;36mdeco\u001b[0;34m(*a, **kw)\u001b[0m\n\u001b[1;32m    115\u001b[0m                 \u001b[0;31m# Hide where the exception came from that shows a non-Pythonic\u001b[0m\u001b[0;34m\u001b[0m\u001b[0;34m\u001b[0m\u001b[0m\n\u001b[1;32m    116\u001b[0m                 \u001b[0;31m# JVM exception message.\u001b[0m\u001b[0;34m\u001b[0m\u001b[0;34m\u001b[0m\u001b[0m\n\u001b[0;32m--> 117\u001b[0;31m                 \u001b[0;32mraise\u001b[0m \u001b[0mconverted\u001b[0m \u001b[0;32mfrom\u001b[0m \u001b[0;32mNone\u001b[0m\u001b[0;34m\u001b[0m\u001b[0;34m\u001b[0m\u001b[0m\n\u001b[0m\u001b[1;32m    118\u001b[0m             \u001b[0;32melse\u001b[0m\u001b[0;34m:\u001b[0m\u001b[0;34m\u001b[0m\u001b[0;34m\u001b[0m\u001b[0m\n\u001b[1;32m    119\u001b[0m                 \u001b[0;32mraise\u001b[0m\u001b[0;34m\u001b[0m\u001b[0;34m\u001b[0m\u001b[0m\n",
      "\u001b[0;31mAnalysisException\u001b[0m: Unable to infer schema for CSV. It must be specified manually."
     ]
    }
   ],
   "source": [
    "from functools import reduce\n",
    "import os\n",
    "\n",
    "# get all the files from the aera grocery purchase CSV\n",
    "files = os.listdir(purchasesDirectoryPath)\n",
    "\n",
    "start = time.time()\n",
    "dataframes = []\n",
    "\n",
    "for filename in files:\n",
    "    dataframes.append(extractAndCreateDataFrame(filename))\n",
    "\n",
    "# purchaseDF = reduce(lambda x, y: x.union(y), dataframes)\n",
    "\n",
    "end = time.time()\n",
    "\n",
    "elapsedTime = end - start;"
   ]
  },
  {
   "cell_type": "code",
   "execution_count": null,
   "id": "0f98fa59",
   "metadata": {},
   "outputs": [],
   "source": [
    "print(\"Elapsed time: {elapsedTime}\")"
   ]
  }
 ],
 "metadata": {
  "kernelspec": {
   "display_name": "Python 3 (ipykernel)",
   "language": "python",
   "name": "python3"
  },
  "language_info": {
   "codemirror_mode": {
    "name": "ipython",
    "version": 3
   },
   "file_extension": ".py",
   "mimetype": "text/x-python",
   "name": "python",
   "nbconvert_exporter": "python",
   "pygments_lexer": "ipython3",
   "version": "3.10.12"
  }
 },
 "nbformat": 4,
 "nbformat_minor": 5
}
