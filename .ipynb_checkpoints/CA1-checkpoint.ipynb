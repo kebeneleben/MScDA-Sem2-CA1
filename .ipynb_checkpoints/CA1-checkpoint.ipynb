{
 "cells": [
  {
   "cell_type": "code",
   "execution_count": 1,
   "id": "a9f6e727",
   "metadata": {
    "scrolled": false
   },
   "outputs": [
    {
     "name": "stdout",
     "output_type": "stream",
     "text": [
      "Defaulting to user installation because normal site-packages is not writeable\n",
      "Requirement already satisfied: numpy==1.23.5 in /home/hduser/.local/lib/python3.10/site-packages (1.23.5)\n",
      "Requirement already satisfied: seaborn in /home/hduser/.local/lib/python3.10/site-packages (0.13.0)\n",
      "Requirement already satisfied: matplotlib!=3.6.1,>=3.3 in /usr/lib/python3/dist-packages (from seaborn) (3.5.1)\n",
      "Requirement already satisfied: pandas>=1.2 in /home/hduser/.local/lib/python3.10/site-packages (from seaborn) (2.1.1)\n",
      "Requirement already satisfied: pytz>=2020.1 in /usr/lib/python3/dist-packages (from pandas>=1.2->seaborn) (2022.1)\n",
      "Requirement already satisfied: tzdata>=2022.1 in /home/hduser/.local/lib/python3.10/site-packages (from pandas>=1.2->seaborn) (2023.3)\n",
      "Requirement already satisfied: python-dateutil>=2.8.2 in /home/hduser/.local/lib/python3.10/site-packages (from pandas>=1.2->seaborn) (2.8.2)\n",
      "Requirement already satisfied: six>=1.5 in /usr/lib/python3/dist-packages (from python-dateutil>=2.8.2->pandas>=1.2->seaborn) (1.16.0)\n",
      "Note: you may need to restart the kernel to use updated packages.\n"
     ]
    }
   ],
   "source": [
    "pip install numpy==1.23.5 seaborn"
   ]
  },
  {
   "cell_type": "code",
   "execution_count": 2,
   "id": "cdde2a93",
   "metadata": {},
   "outputs": [],
   "source": [
    "# sc master - running locally\n",
    "sc.master\n",
    "spark.conf.set('spark.sql.repl.eagerEval.enabled', True)"
   ]
  },
  {
   "cell_type": "code",
   "execution_count": 3,
   "id": "cd265fe6",
   "metadata": {},
   "outputs": [],
   "source": [
    "import warnings\n",
    "import pandas as pd\n",
    "\n",
    "warnings.filterwarnings(\"ignore\")"
   ]
  },
  {
   "cell_type": "code",
   "execution_count": 4,
   "id": "d73b0e86",
   "metadata": {
    "scrolled": true
   },
   "outputs": [],
   "source": [
    "sc = spark.sparkContext"
   ]
  },
  {
   "cell_type": "code",
   "execution_count": 5,
   "id": "0655fb47",
   "metadata": {},
   "outputs": [
    {
     "name": "stdout",
     "output_type": "stream",
     "text": [
      "root\n",
      " |-- id: integer (nullable = true)\n",
      " |-- title: string (nullable = true)\n",
      " |-- vote_average: float (nullable = true)\n",
      " |-- vote_count: integer (nullable = true)\n",
      " |-- status: string (nullable = true)\n",
      " |-- release_date: date (nullable = true)\n",
      " |-- revenue: integer (nullable = true)\n",
      " |-- runtime: integer (nullable = true)\n",
      " |-- adult: boolean (nullable = true)\n",
      " |-- backdrop_path: string (nullable = true)\n",
      " |-- budget: integer (nullable = true)\n",
      " |-- homepage: string (nullable = true)\n",
      " |-- imdb_id: string (nullable = true)\n",
      " |-- original_language: string (nullable = true)\n",
      " |-- original_title: string (nullable = true)\n",
      " |-- overview: string (nullable = true)\n",
      " |-- popularity: float (nullable = true)\n",
      " |-- poster_path: string (nullable = true)\n",
      " |-- tagline: string (nullable = true)\n",
      " |-- genres: string (nullable = true)\n",
      " |-- production_companies: string (nullable = true)\n",
      " |-- production_countries: string (nullable = true)\n",
      " |-- spoken_languages: string (nullable = true)\n",
      "\n"
     ]
    }
   ],
   "source": [
    "from pyspark.sql.types import StructType, StructField, StringType, IntegerType, FloatType, DateType, BooleanType\n",
    "\n",
    "dataPath = \"/CA1/data/TMDB_movie_dataset_v2.csv\"\n",
    "# schema = StructType([\n",
    "#     StructField(\"id\", IntegerType(), True),\n",
    "#     StructField(\"title\", StringType(), True),\n",
    "#     StructField(\"vote_average\", FloatType(), True),\n",
    "#     StructField(\"vote_count\", IntegerType(), True),\n",
    "#     StructField(\"status\", StringType(), True),\n",
    "#     StructField(\"release_date\", DateType(), True),\n",
    "#     StructField(\"runtime\", IntegerType(), True),\n",
    "#     StructField(\"adult\", BooleanType(), True),\n",
    "#     StructField(\"budget\", IntegerType(), True),\n",
    "#     StructField(\"popularity\", FloatType(), True),\n",
    "# ])\n",
    "moviesDF = spark.read.option(\"multiline\", \"true\").option(\"quote\", '\"').option(\"header\", \"true\").option(\"escape\", \"\\\\\").option(\"escape\", '\"').csv(dataPath ,header=True)\n",
    "\n",
    "moviesDF = moviesDF.withColumn(\"popularity\", moviesDF[\"popularity\"].cast(\"float\"))\n",
    "moviesDF = moviesDF.withColumn(\"id\", moviesDF[\"id\"].cast(\"int\"))\n",
    "moviesDF = moviesDF.withColumn(\"vote_average\", moviesDF[\"vote_average\"].cast(\"float\"))\n",
    "moviesDF = moviesDF.withColumn(\"vote_count\", moviesDF[\"vote_count\"].cast(\"int\"))\n",
    "moviesDF = moviesDF.withColumn(\"release_date\", moviesDF[\"release_date\"].cast(\"date\"))\n",
    "moviesDF = moviesDF.withColumn(\"runtime\", moviesDF[\"runtime\"].cast(\"int\"))\n",
    "moviesDF = moviesDF.withColumn(\"adult\", moviesDF[\"adult\"].cast(\"boolean\"))\n",
    "moviesDF = moviesDF.withColumn(\"budget\", moviesDF[\"budget\"].cast(\"int\"))\n",
    "moviesDF = moviesDF.withColumn(\"revenue\", moviesDF[\"revenue\"].cast(\"int\"))\n",
    "\n",
    "moviesDF.printSchema()"
   ]
  },
  {
   "cell_type": "code",
   "execution_count": 6,
   "id": "505208a5",
   "metadata": {},
   "outputs": [
    {
     "name": "stdout",
     "output_type": "stream",
     "text": [
      "+------------+--------------------+\n",
      "|       title|              genres|\n",
      "+------------+--------------------+\n",
      "|   Inception|Action, Science F...|\n",
      "|Interstellar|Adventure, Drama,...|\n",
      "+------------+--------------------+\n",
      "only showing top 2 rows\n",
      "\n"
     ]
    }
   ],
   "source": [
    "moviesDF.select(\"title\", \"genres\").show(2)"
   ]
  },
  {
   "cell_type": "code",
   "execution_count": 7,
   "id": "7df58ab6",
   "metadata": {},
   "outputs": [
    {
     "name": "stderr",
     "output_type": "stream",
     "text": [
      "                                                                                \r"
     ]
    },
    {
     "data": {
      "text/plain": [
       "934745"
      ]
     },
     "execution_count": 7,
     "metadata": {},
     "output_type": "execute_result"
    }
   ],
   "source": [
    "moviesDF.count()"
   ]
  },
  {
   "cell_type": "code",
   "execution_count": 8,
   "id": "2890c2a2",
   "metadata": {},
   "outputs": [],
   "source": [
    "numericalColumns = ['vote_average', 'vote_count', 'revenue', 'runtime', 'budget', 'popularity']"
   ]
  },
  {
   "cell_type": "code",
   "execution_count": 9,
   "id": "6a96f2cd",
   "metadata": {
    "scrolled": false
   },
   "outputs": [
    {
     "name": "stderr",
     "output_type": "stream",
     "text": [
      "                                                                                \r"
     ]
    },
    {
     "data": {
      "text/html": [
       "<div>\n",
       "<style scoped>\n",
       "    .dataframe tbody tr th:only-of-type {\n",
       "        vertical-align: middle;\n",
       "    }\n",
       "\n",
       "    .dataframe tbody tr th {\n",
       "        vertical-align: top;\n",
       "    }\n",
       "\n",
       "    .dataframe thead th {\n",
       "        text-align: right;\n",
       "    }\n",
       "</style>\n",
       "<table border=\"1\" class=\"dataframe\">\n",
       "  <thead>\n",
       "    <tr style=\"text-align: right;\">\n",
       "      <th></th>\n",
       "      <th>vote_average</th>\n",
       "      <th>vote_count</th>\n",
       "      <th>revenue</th>\n",
       "      <th>runtime</th>\n",
       "      <th>budget</th>\n",
       "      <th>popularity</th>\n",
       "    </tr>\n",
       "  </thead>\n",
       "  <tbody>\n",
       "    <tr>\n",
       "      <th>count</th>\n",
       "      <td>934745.000000</td>\n",
       "      <td>934745.000000</td>\n",
       "      <td>9.347410e+05</td>\n",
       "      <td>934745.000000</td>\n",
       "      <td>9.347450e+05</td>\n",
       "      <td>934745.000000</td>\n",
       "    </tr>\n",
       "    <tr>\n",
       "      <th>mean</th>\n",
       "      <td>2.232957</td>\n",
       "      <td>22.939624</td>\n",
       "      <td>7.671959e+05</td>\n",
       "      <td>51.889123</td>\n",
       "      <td>3.061706e+05</td>\n",
       "      <td>1.424210</td>\n",
       "    </tr>\n",
       "    <tr>\n",
       "      <th>std</th>\n",
       "      <td>3.152949</td>\n",
       "      <td>351.094674</td>\n",
       "      <td>1.716210e+07</td>\n",
       "      <td>62.425681</td>\n",
       "      <td>5.058921e+06</td>\n",
       "      <td>8.349914</td>\n",
       "    </tr>\n",
       "    <tr>\n",
       "      <th>min</th>\n",
       "      <td>0.000000</td>\n",
       "      <td>0.000000</td>\n",
       "      <td>-1.200000e+01</td>\n",
       "      <td>0.000000</td>\n",
       "      <td>0.000000e+00</td>\n",
       "      <td>0.000000</td>\n",
       "    </tr>\n",
       "    <tr>\n",
       "      <th>25%</th>\n",
       "      <td>0.000000</td>\n",
       "      <td>0.000000</td>\n",
       "      <td>0.000000e+00</td>\n",
       "      <td>2.000000</td>\n",
       "      <td>0.000000e+00</td>\n",
       "      <td>0.600000</td>\n",
       "    </tr>\n",
       "    <tr>\n",
       "      <th>50%</th>\n",
       "      <td>0.000000</td>\n",
       "      <td>0.000000</td>\n",
       "      <td>0.000000e+00</td>\n",
       "      <td>39.000000</td>\n",
       "      <td>0.000000e+00</td>\n",
       "      <td>0.600000</td>\n",
       "    </tr>\n",
       "    <tr>\n",
       "      <th>75%</th>\n",
       "      <td>5.294000</td>\n",
       "      <td>1.000000</td>\n",
       "      <td>0.000000e+00</td>\n",
       "      <td>90.000000</td>\n",
       "      <td>0.000000e+00</td>\n",
       "      <td>0.958000</td>\n",
       "    </tr>\n",
       "    <tr>\n",
       "      <th>max</th>\n",
       "      <td>10.000000</td>\n",
       "      <td>34495.000000</td>\n",
       "      <td>2.068224e+09</td>\n",
       "      <td>14400.000000</td>\n",
       "      <td>8.880000e+08</td>\n",
       "      <td>2994.356934</td>\n",
       "    </tr>\n",
       "  </tbody>\n",
       "</table>\n",
       "</div>"
      ],
      "text/plain": [
       "        vote_average     vote_count       revenue        runtime  \\\n",
       "count  934745.000000  934745.000000  9.347410e+05  934745.000000   \n",
       "mean        2.232957      22.939624  7.671959e+05      51.889123   \n",
       "std         3.152949     351.094674  1.716210e+07      62.425681   \n",
       "min         0.000000       0.000000 -1.200000e+01       0.000000   \n",
       "25%         0.000000       0.000000  0.000000e+00       2.000000   \n",
       "50%         0.000000       0.000000  0.000000e+00      39.000000   \n",
       "75%         5.294000       1.000000  0.000000e+00      90.000000   \n",
       "max        10.000000   34495.000000  2.068224e+09   14400.000000   \n",
       "\n",
       "             budget     popularity  \n",
       "count  9.347450e+05  934745.000000  \n",
       "mean   3.061706e+05       1.424210  \n",
       "std    5.058921e+06       8.349914  \n",
       "min    0.000000e+00       0.000000  \n",
       "25%    0.000000e+00       0.600000  \n",
       "50%    0.000000e+00       0.600000  \n",
       "75%    0.000000e+00       0.958000  \n",
       "max    8.880000e+08    2994.356934  "
      ]
     },
     "execution_count": 9,
     "metadata": {},
     "output_type": "execute_result"
    }
   ],
   "source": [
    "moviesDF.select(numericalColumns).toPandas().describe()"
   ]
  },
  {
   "cell_type": "markdown",
   "id": "94132089",
   "metadata": {},
   "source": [
    "### Missing Values"
   ]
  },
  {
   "cell_type": "code",
   "execution_count": 10,
   "id": "c2f4347c",
   "metadata": {
    "scrolled": true
   },
   "outputs": [
    {
     "name": "stderr",
     "output_type": "stream",
     "text": [
      "                                                                                \r"
     ]
    },
    {
     "data": {
      "text/html": [
       "<div>\n",
       "<style scoped>\n",
       "    .dataframe tbody tr th:only-of-type {\n",
       "        vertical-align: middle;\n",
       "    }\n",
       "\n",
       "    .dataframe tbody tr th {\n",
       "        vertical-align: top;\n",
       "    }\n",
       "\n",
       "    .dataframe thead th {\n",
       "        text-align: right;\n",
       "    }\n",
       "</style>\n",
       "<table border=\"1\" class=\"dataframe\">\n",
       "  <thead>\n",
       "    <tr style=\"text-align: right;\">\n",
       "      <th></th>\n",
       "      <th>id_miss</th>\n",
       "      <th>title_miss</th>\n",
       "      <th>vote_average_miss</th>\n",
       "      <th>vote_count_miss</th>\n",
       "      <th>status_miss</th>\n",
       "      <th>release_date_miss</th>\n",
       "      <th>revenue_miss</th>\n",
       "      <th>runtime_miss</th>\n",
       "      <th>adult_miss</th>\n",
       "      <th>backdrop_path_miss</th>\n",
       "      <th>...</th>\n",
       "      <th>original_language_miss</th>\n",
       "      <th>original_title_miss</th>\n",
       "      <th>overview_miss</th>\n",
       "      <th>popularity_miss</th>\n",
       "      <th>poster_path_miss</th>\n",
       "      <th>tagline_miss</th>\n",
       "      <th>genres_miss</th>\n",
       "      <th>production_companies_miss</th>\n",
       "      <th>production_countries_miss</th>\n",
       "      <th>spoken_languages_miss</th>\n",
       "    </tr>\n",
       "  </thead>\n",
       "  <tbody>\n",
       "    <tr>\n",
       "      <th>0</th>\n",
       "      <td>0.0</td>\n",
       "      <td>0.000012</td>\n",
       "      <td>0.0</td>\n",
       "      <td>0.0</td>\n",
       "      <td>0.0</td>\n",
       "      <td>0.090429</td>\n",
       "      <td>0.000004</td>\n",
       "      <td>0.0</td>\n",
       "      <td>0.0</td>\n",
       "      <td>0.705277</td>\n",
       "      <td>...</td>\n",
       "      <td>0.0</td>\n",
       "      <td>0.000012</td>\n",
       "      <td>0.173734</td>\n",
       "      <td>0.0</td>\n",
       "      <td>0.256717</td>\n",
       "      <td>0.854446</td>\n",
       "      <td>0.351958</td>\n",
       "      <td>0.511231</td>\n",
       "      <td>0.387607</td>\n",
       "      <td>0.381594</td>\n",
       "    </tr>\n",
       "  </tbody>\n",
       "</table>\n",
       "<p>1 rows × 23 columns</p>\n",
       "</div>"
      ],
      "text/plain": [
       "   id_miss  title_miss  vote_average_miss  vote_count_miss  status_miss  \\\n",
       "0      0.0    0.000012                0.0              0.0          0.0   \n",
       "\n",
       "   release_date_miss  revenue_miss  runtime_miss  adult_miss  \\\n",
       "0           0.090429      0.000004           0.0         0.0   \n",
       "\n",
       "   backdrop_path_miss  ...  original_language_miss  original_title_miss  \\\n",
       "0            0.705277  ...                     0.0             0.000012   \n",
       "\n",
       "   overview_miss  popularity_miss  poster_path_miss  tagline_miss  \\\n",
       "0       0.173734              0.0          0.256717      0.854446   \n",
       "\n",
       "   genres_miss  production_companies_miss  production_countries_miss  \\\n",
       "0     0.351958                   0.511231                   0.387607   \n",
       "\n",
       "   spoken_languages_miss  \n",
       "0               0.381594  \n",
       "\n",
       "[1 rows x 23 columns]"
      ]
     },
     "execution_count": 10,
     "metadata": {},
     "output_type": "execute_result"
    }
   ],
   "source": [
    "import pyspark.sql.functions as fn\n",
    "\n",
    "moviesDF.agg(*[\n",
    "    (1 - (fn.count(c) / fn.count('*'))).alias(c + '_miss')\n",
    "    for c in moviesDF.columns\n",
    "]).toPandas().head()"
   ]
  },
  {
   "cell_type": "code",
   "execution_count": 11,
   "id": "f05f4b2d",
   "metadata": {
    "scrolled": true
   },
   "outputs": [
    {
     "name": "stderr",
     "output_type": "stream",
     "text": [
      "                                                                                \r"
     ]
    },
    {
     "data": {
      "text/html": [
       "<div>\n",
       "<style scoped>\n",
       "    .dataframe tbody tr th:only-of-type {\n",
       "        vertical-align: middle;\n",
       "    }\n",
       "\n",
       "    .dataframe tbody tr th {\n",
       "        vertical-align: top;\n",
       "    }\n",
       "\n",
       "    .dataframe thead th {\n",
       "        text-align: right;\n",
       "    }\n",
       "</style>\n",
       "<table border=\"1\" class=\"dataframe\">\n",
       "  <thead>\n",
       "    <tr style=\"text-align: right;\">\n",
       "      <th></th>\n",
       "      <th>id</th>\n",
       "      <th>title</th>\n",
       "      <th>vote_average</th>\n",
       "      <th>vote_count</th>\n",
       "      <th>status</th>\n",
       "      <th>release_date</th>\n",
       "      <th>revenue</th>\n",
       "      <th>runtime</th>\n",
       "      <th>adult</th>\n",
       "      <th>backdrop_path</th>\n",
       "      <th>...</th>\n",
       "      <th>original_language</th>\n",
       "      <th>original_title</th>\n",
       "      <th>overview</th>\n",
       "      <th>popularity</th>\n",
       "      <th>poster_path</th>\n",
       "      <th>tagline</th>\n",
       "      <th>genres</th>\n",
       "      <th>production_companies</th>\n",
       "      <th>production_countries</th>\n",
       "      <th>spoken_languages</th>\n",
       "    </tr>\n",
       "  </thead>\n",
       "  <tbody>\n",
       "    <tr>\n",
       "      <th>0</th>\n",
       "      <td>0</td>\n",
       "      <td>11</td>\n",
       "      <td>0</td>\n",
       "      <td>0</td>\n",
       "      <td>0</td>\n",
       "      <td>84528</td>\n",
       "      <td>4</td>\n",
       "      <td>0</td>\n",
       "      <td>0</td>\n",
       "      <td>659254</td>\n",
       "      <td>...</td>\n",
       "      <td>0</td>\n",
       "      <td>11</td>\n",
       "      <td>162397</td>\n",
       "      <td>0</td>\n",
       "      <td>239965</td>\n",
       "      <td>798689</td>\n",
       "      <td>328991</td>\n",
       "      <td>477871</td>\n",
       "      <td>362314</td>\n",
       "      <td>356693</td>\n",
       "    </tr>\n",
       "  </tbody>\n",
       "</table>\n",
       "<p>1 rows × 23 columns</p>\n",
       "</div>"
      ],
      "text/plain": [
       "   id  title  vote_average  vote_count  status  release_date  revenue  \\\n",
       "0   0     11             0           0       0         84528        4   \n",
       "\n",
       "   runtime  adult  backdrop_path  ...  original_language  original_title  \\\n",
       "0        0      0         659254  ...                  0              11   \n",
       "\n",
       "   overview  popularity  poster_path  tagline  genres  production_companies  \\\n",
       "0    162397           0       239965   798689  328991                477871   \n",
       "\n",
       "   production_countries  spoken_languages  \n",
       "0                362314            356693  \n",
       "\n",
       "[1 rows x 23 columns]"
      ]
     },
     "execution_count": 11,
     "metadata": {},
     "output_type": "execute_result"
    }
   ],
   "source": [
    "moviesDF.select([fn.count(fn.when(fn.col(c).isNull(), c)).alias(c) for c in moviesDF.columns]).toPandas().head()"
   ]
  },
  {
   "cell_type": "markdown",
   "id": "7a09dae1",
   "metadata": {},
   "source": [
    "### Correlation"
   ]
  },
  {
   "cell_type": "code",
   "execution_count": 12,
   "id": "d6bf86a1",
   "metadata": {
    "scrolled": true
   },
   "outputs": [],
   "source": [
    "from pyspark.ml.stat import Correlation\n",
    "from pyspark.ml.feature import VectorAssembler\n",
    "import matplotlib.pyplot as plt\n",
    "import seaborn as sns\n",
    "\n",
    "# intFields = spark.sql(\"SELECT vote_average, vote_count, revenue, runtime, budget, popularity, release_year FROM movies\")\n",
    "def plotCorrelation (df): \n",
    "    intFields = moviesDF.select(numericalColumns)\n",
    "\n",
    "    # Fill all the null values with 0 so that it wont cause an error in the correlation matrix\n",
    "    intFields = intFields.fillna(0)\n",
    "\n",
    "    assembler = VectorAssembler(inputCols = numericalColumns, outputCol = \"features\")\n",
    "    dfAssembled = assembler.transform(intFields).select(\"features\")\n",
    "\n",
    "    matrix = Correlation.corr(dfAssembled, \"features\").collect()[0][0]\n",
    "    corrMatrix = matrix.toArray().tolist()\n",
    "\n",
    "    # corrDF = spark.createDataFrame(corrMatrix, cols)\n",
    "    corrDF = pd.DataFrame(data = corrMatrix, columns = numericalColumns)\n",
    "\n",
    "    plt.figure(figsize = (16,5))\n",
    "    sns.heatmap(corrDF,\n",
    "                xticklabels = corrDF.columns.values,\n",
    "                yticklabels = corrDF.columns.values,\n",
    "                cmap = \"Greens\",\n",
    "                annot = True\n",
    "               )"
   ]
  },
  {
   "cell_type": "code",
   "execution_count": 13,
   "id": "c51beb54",
   "metadata": {},
   "outputs": [
    {
     "name": "stderr",
     "output_type": "stream",
     "text": [
      "                                                                                \r"
     ]
    },
    {
     "data": {
      "image/png": "[encoded data removed]",
      "text/plain": [
       "<Figure size 1152x360 with 2 Axes>"
      ]
     },
     "metadata": {
      "needs_background": "light"
     },
     "output_type": "display_data"
    }
   ],
   "source": [
    "plotCorrelation(moviesDF)"
   ]
  },
  {
   "cell_type": "markdown",
   "id": "1e59b11b",
   "metadata": {},
   "source": [
    "### Histogram"
   ]
  },
  {
   "cell_type": "code",
   "execution_count": 14,
   "id": "e62df376",
   "metadata": {
    "scrolled": true
   },
   "outputs": [],
   "source": [
    "def plotHistogram (df):\n",
    "    numBins = 20\n",
    "\n",
    "    for column in numericalColumns:\n",
    "        tempPanda = df.select(column).toPandas()\n",
    "\n",
    "        plt.figure(figsize = (8,6))\n",
    "        sns.histplot(data = tempPanda, x = column, bins = numBins)\n",
    "        plt.xlabel(column)\n",
    "        plt.ylabel(\"Frequency\")\n",
    "        plt.title(f\"Histogram of {column}\")\n",
    "        plt.show()"
   ]
  },
  {
   "cell_type": "code",
   "execution_count": 15,
   "id": "599e1442",
   "metadata": {},
   "outputs": [
    {
     "name": "stderr",
     "output_type": "stream",
     "text": [
      "                                                                                \r"
     ]
    },
    {
     "data": {
      "image/png": "[encoded data removed]",
      "text/plain": [
       "<Figure size 576x432 with 1 Axes>"
      ]
     },
     "metadata": {
      "needs_background": "light"
     },
     "output_type": "display_data"
    },
    {
     "name": "stderr",
     "output_type": "stream",
     "text": [
      "                                                                                \r"
     ]
    },
    {
     "data": {
      "image/png": "[encoded data removed]",
      "text/plain": [
       "<Figure size 576x432 with 1 Axes>"
      ]
     },
     "metadata": {
      "needs_background": "light"
     },
     "output_type": "display_data"
    },
    {
     "name": "stderr",
     "output_type": "stream",
     "text": [
      "                                                                                \r"
     ]
    },
    {
     "data": {
      "image/png": "[encoded data removed]",
      "text/plain": [
       "<Figure size 576x432 with 1 Axes>"
      ]
     },
     "metadata": {
      "needs_background": "light"
     },
     "output_type": "display_data"
    },
    {
     "name": "stderr",
     "output_type": "stream",
     "text": [
      "                                                                                \r"
     ]
    },
    {
     "data": {
      "image/png": "[encoded data removed]",
      "text/plain": [
       "<Figure size 576x432 with 1 Axes>"
      ]
     },
     "metadata": {
      "needs_background": "light"
     },
     "output_type": "display_data"
    },
    {
     "name": "stderr",
     "output_type": "stream",
     "text": [
      "                                                                                \r"
     ]
    },
    {
     "data": {
      "image/png": "[encoded data removed]",
      "text/plain": [
       "<Figure size 576x432 with 1 Axes>"
      ]
     },
     "metadata": {
      "needs_background": "light"
     },
     "output_type": "display_data"
    },
    {
     "name": "stderr",
     "output_type": "stream",
     "text": [
      "                                                                                \r"
     ]
    },
    {
     "data": {
      "image/png": "[encoded data removed]",
      "text/plain": [
       "<Figure size 576x432 with 1 Axes>"
      ]
     },
     "metadata": {
      "needs_background": "light"
     },
     "output_type": "display_data"
    }
   ],
   "source": [
    "plotHistogram (moviesDF)"
   ]
  },
  {
   "cell_type": "markdown",
   "id": "b02a6a08",
   "metadata": {},
   "source": [
    "### Data Manipulation and Feature Extraction"
   ]
  },
  {
   "cell_type": "code",
   "execution_count": 16,
   "id": "ed2a0d2b",
   "metadata": {
    "scrolled": true
   },
   "outputs": [
    {
     "name": "stdout",
     "output_type": "stream",
     "text": [
      "root\n",
      " |-- id: integer (nullable = true)\n",
      " |-- title: string (nullable = true)\n",
      " |-- vote_average: float (nullable = true)\n",
      " |-- vote_count: integer (nullable = true)\n",
      " |-- status: string (nullable = true)\n",
      " |-- release_date: date (nullable = true)\n",
      " |-- revenue: integer (nullable = true)\n",
      " |-- runtime: integer (nullable = true)\n",
      " |-- adult: boolean (nullable = true)\n",
      " |-- backdrop_path: string (nullable = true)\n",
      " |-- budget: integer (nullable = true)\n",
      " |-- homepage: string (nullable = true)\n",
      " |-- imdb_id: string (nullable = true)\n",
      " |-- original_language: string (nullable = true)\n",
      " |-- original_title: string (nullable = true)\n",
      " |-- overview: string (nullable = true)\n",
      " |-- popularity: float (nullable = true)\n",
      " |-- poster_path: string (nullable = true)\n",
      " |-- tagline: string (nullable = true)\n",
      " |-- genres: string (nullable = true)\n",
      " |-- production_companies: string (nullable = true)\n",
      " |-- production_countries: string (nullable = true)\n",
      " |-- spoken_languages: string (nullable = true)\n",
      " |-- release_year: integer (nullable = true)\n",
      "\n"
     ]
    }
   ],
   "source": [
    "from pyspark.sql.functions import year\n",
    "moviesDF = moviesDF.withColumn(\"release_year\", year(\"release_date\"))\n",
    "numericalColumns.append(\"release_year\")\n",
    "\n",
    "moviesDF.printSchema()"
   ]
  },
  {
   "cell_type": "code",
   "execution_count": 17,
   "id": "93f9e835",
   "metadata": {
    "scrolled": true
   },
   "outputs": [
    {
     "name": "stderr",
     "output_type": "stream",
     "text": [
      "                                                                                \r"
     ]
    },
    {
     "data": {
      "text/html": [
       "<div>\n",
       "<style scoped>\n",
       "    .dataframe tbody tr th:only-of-type {\n",
       "        vertical-align: middle;\n",
       "    }\n",
       "\n",
       "    .dataframe tbody tr th {\n",
       "        vertical-align: top;\n",
       "    }\n",
       "\n",
       "    .dataframe thead th {\n",
       "        text-align: right;\n",
       "    }\n",
       "</style>\n",
       "<table border=\"1\" class=\"dataframe\">\n",
       "  <thead>\n",
       "    <tr style=\"text-align: right;\">\n",
       "      <th></th>\n",
       "      <th>title</th>\n",
       "      <th>vote_average</th>\n",
       "      <th>vote_count</th>\n",
       "      <th>status</th>\n",
       "      <th>revenue</th>\n",
       "      <th>runtime</th>\n",
       "      <th>budget</th>\n",
       "      <th>popularity</th>\n",
       "      <th>genres</th>\n",
       "      <th>release_year</th>\n",
       "    </tr>\n",
       "  </thead>\n",
       "  <tbody>\n",
       "    <tr>\n",
       "      <th>0</th>\n",
       "      <td>Inception</td>\n",
       "      <td>8.364</td>\n",
       "      <td>34495</td>\n",
       "      <td>Released</td>\n",
       "      <td>8.255328e+08</td>\n",
       "      <td>148</td>\n",
       "      <td>160000000</td>\n",
       "      <td>83.952003</td>\n",
       "      <td>Action, Science Fiction, Adventure</td>\n",
       "      <td>2010.0</td>\n",
       "    </tr>\n",
       "    <tr>\n",
       "      <th>1</th>\n",
       "      <td>Interstellar</td>\n",
       "      <td>8.417</td>\n",
       "      <td>32571</td>\n",
       "      <td>Released</td>\n",
       "      <td>7.017292e+08</td>\n",
       "      <td>169</td>\n",
       "      <td>165000000</td>\n",
       "      <td>140.240997</td>\n",
       "      <td>Adventure, Drama, Science Fiction</td>\n",
       "      <td>2014.0</td>\n",
       "    </tr>\n",
       "    <tr>\n",
       "      <th>2</th>\n",
       "      <td>The Dark Knight</td>\n",
       "      <td>8.512</td>\n",
       "      <td>30619</td>\n",
       "      <td>Released</td>\n",
       "      <td>1.004558e+09</td>\n",
       "      <td>152</td>\n",
       "      <td>185000000</td>\n",
       "      <td>130.643005</td>\n",
       "      <td>Drama, Action, Crime, Thriller</td>\n",
       "      <td>2008.0</td>\n",
       "    </tr>\n",
       "    <tr>\n",
       "      <th>3</th>\n",
       "      <td>Avatar</td>\n",
       "      <td>7.573</td>\n",
       "      <td>29815</td>\n",
       "      <td>Released</td>\n",
       "      <td>NaN</td>\n",
       "      <td>162</td>\n",
       "      <td>237000000</td>\n",
       "      <td>79.931999</td>\n",
       "      <td>Action, Adventure, Fantasy, Science Fiction</td>\n",
       "      <td>2009.0</td>\n",
       "    </tr>\n",
       "    <tr>\n",
       "      <th>4</th>\n",
       "      <td>The Avengers</td>\n",
       "      <td>7.710</td>\n",
       "      <td>29166</td>\n",
       "      <td>Released</td>\n",
       "      <td>1.518816e+09</td>\n",
       "      <td>143</td>\n",
       "      <td>220000000</td>\n",
       "      <td>98.082001</td>\n",
       "      <td>Science Fiction, Action, Adventure</td>\n",
       "      <td>2012.0</td>\n",
       "    </tr>\n",
       "  </tbody>\n",
       "</table>\n",
       "</div>"
      ],
      "text/plain": [
       "             title  vote_average  vote_count    status       revenue  runtime  \\\n",
       "0        Inception         8.364       34495  Released  8.255328e+08      148   \n",
       "1     Interstellar         8.417       32571  Released  7.017292e+08      169   \n",
       "2  The Dark Knight         8.512       30619  Released  1.004558e+09      152   \n",
       "3           Avatar         7.573       29815  Released           NaN      162   \n",
       "4     The Avengers         7.710       29166  Released  1.518816e+09      143   \n",
       "\n",
       "      budget  popularity                                       genres  \\\n",
       "0  160000000   83.952003           Action, Science Fiction, Adventure   \n",
       "1  165000000  140.240997            Adventure, Drama, Science Fiction   \n",
       "2  185000000  130.643005               Drama, Action, Crime, Thriller   \n",
       "3  237000000   79.931999  Action, Adventure, Fantasy, Science Fiction   \n",
       "4  220000000   98.082001           Science Fiction, Action, Adventure   \n",
       "\n",
       "   release_year  \n",
       "0        2010.0  \n",
       "1        2014.0  \n",
       "2        2008.0  \n",
       "3        2009.0  \n",
       "4        2012.0  "
      ]
     },
     "execution_count": 17,
     "metadata": {},
     "output_type": "execute_result"
    }
   ],
   "source": [
    "# Drop columns that will not be used\n",
    "moviesDF = moviesDF.drop(\"id\")\n",
    "# moviesDF = moviesDF.drop(\"title\")\n",
    "moviesDF = moviesDF.drop(\"adult\")\n",
    "moviesDF = moviesDF.drop(\"backdrop_path\")\n",
    "moviesDF = moviesDF.drop(\"homepage\")\n",
    "moviesDF = moviesDF.drop(\"imdb_id\")\n",
    "moviesDF = moviesDF.drop(\"original_language\")\n",
    "moviesDF = moviesDF.drop(\"original_title\")\n",
    "moviesDF = moviesDF.drop(\"homepage\")\n",
    "moviesDF = moviesDF.drop(\"overview\")\n",
    "moviesDF = moviesDF.drop(\"poster_path\")\n",
    "moviesDF = moviesDF.drop(\"tagline\")\n",
    "moviesDF = moviesDF.drop(\"production_companies\")\n",
    "moviesDF = moviesDF.drop(\"production_countries\")\n",
    "moviesDF = moviesDF.drop(\"spoken_languages\")\n",
    "moviesDF = moviesDF.drop(\"release_date\")\n",
    "moviesDF.toPandas().head()"
   ]
  },
  {
   "cell_type": "code",
   "execution_count": 18,
   "id": "b4548622",
   "metadata": {
    "scrolled": false
   },
   "outputs": [
    {
     "name": "stderr",
     "output_type": "stream",
     "text": [
      "                                                                                \r"
     ]
    },
    {
     "data": {
      "text/html": [
       "<div>\n",
       "<style scoped>\n",
       "    .dataframe tbody tr th:only-of-type {\n",
       "        vertical-align: middle;\n",
       "    }\n",
       "\n",
       "    .dataframe tbody tr th {\n",
       "        vertical-align: top;\n",
       "    }\n",
       "\n",
       "    .dataframe thead th {\n",
       "        text-align: right;\n",
       "    }\n",
       "</style>\n",
       "<table border=\"1\" class=\"dataframe\">\n",
       "  <thead>\n",
       "    <tr style=\"text-align: right;\">\n",
       "      <th></th>\n",
       "      <th>release_year</th>\n",
       "    </tr>\n",
       "  </thead>\n",
       "  <tbody>\n",
       "    <tr>\n",
       "      <th>count</th>\n",
       "      <td>850217.000000</td>\n",
       "    </tr>\n",
       "    <tr>\n",
       "      <th>mean</th>\n",
       "      <td>1998.653910</td>\n",
       "    </tr>\n",
       "    <tr>\n",
       "      <th>std</th>\n",
       "      <td>26.748655</td>\n",
       "    </tr>\n",
       "    <tr>\n",
       "      <th>min</th>\n",
       "      <td>1865.000000</td>\n",
       "    </tr>\n",
       "    <tr>\n",
       "      <th>25%</th>\n",
       "      <td>1988.000000</td>\n",
       "    </tr>\n",
       "    <tr>\n",
       "      <th>50%</th>\n",
       "      <td>2009.000000</td>\n",
       "    </tr>\n",
       "    <tr>\n",
       "      <th>75%</th>\n",
       "      <td>2018.000000</td>\n",
       "    </tr>\n",
       "    <tr>\n",
       "      <th>max</th>\n",
       "      <td>2099.000000</td>\n",
       "    </tr>\n",
       "  </tbody>\n",
       "</table>\n",
       "</div>"
      ],
      "text/plain": [
       "        release_year\n",
       "count  850217.000000\n",
       "mean     1998.653910\n",
       "std        26.748655\n",
       "min      1865.000000\n",
       "25%      1988.000000\n",
       "50%      2009.000000\n",
       "75%      2018.000000\n",
       "max      2099.000000"
      ]
     },
     "execution_count": 18,
     "metadata": {},
     "output_type": "execute_result"
    }
   ],
   "source": [
    "moviesDF.select(\"release_year\").toPandas().describe()"
   ]
  },
  {
   "cell_type": "code",
   "execution_count": 19,
   "id": "c5c68620",
   "metadata": {},
   "outputs": [
    {
     "name": "stderr",
     "output_type": "stream",
     "text": [
      "                                                                                \r"
     ]
    },
    {
     "data": {
      "text/html": [
       "<table border='1'>\n",
       "<tr><th>title</th><th>vote_average</th><th>vote_count</th><th>status</th><th>revenue</th><th>runtime</th><th>budget</th><th>popularity</th><th>genres</th><th>release_year</th></tr>\n",
       "<tr><td>Blue Beetle</td><td>7.139</td><td>1023</td><td>Released</td><td>124818235</td><td>128</td><td>120000000</td><td>2994.357</td><td>Action, Science F...</td><td>2023</td></tr>\n",
       "</table>\n"
      ],
      "text/plain": [
       "+-----------+------------+----------+--------+---------+-------+---------+----------+--------------------+------------+\n",
       "|      title|vote_average|vote_count|  status|  revenue|runtime|   budget|popularity|              genres|release_year|\n",
       "+-----------+------------+----------+--------+---------+-------+---------+----------+--------------------+------------+\n",
       "|Blue Beetle|       7.139|      1023|Released|124818235|    128|120000000|  2994.357|Action, Science F...|        2023|\n",
       "+-----------+------------+----------+--------+---------+-------+---------+----------+--------------------+------------+"
      ]
     },
     "execution_count": 19,
     "metadata": {},
     "output_type": "execute_result"
    }
   ],
   "source": [
    "moviesDF.where(\"popularity > 2990\")"
   ]
  },
  {
   "cell_type": "code",
   "execution_count": 20,
   "id": "c0bb57f3",
   "metadata": {
    "scrolled": false
   },
   "outputs": [
    {
     "name": "stderr",
     "output_type": "stream",
     "text": [
      "                                                                                \r"
     ]
    },
    {
     "data": {
      "text/plain": [
       "477957"
      ]
     },
     "execution_count": 20,
     "metadata": {},
     "output_type": "execute_result"
    }
   ],
   "source": [
    "allMoviesDF = moviesDF\n",
    "\n",
    "moviesDF = moviesDF.where(\"popularity > 0 AND genres IS NOT NULL AND runtime > 0 AND status = 'Released' AND release_year > 1900\")\n",
    "moviesDF.count()\n",
    "#spark.sql(\"SELECT COUNT(release_year) FROM movies WHERE popularity > 0 AND genres IS NOT NULL AND runtime > 0 AND status = 'Released' AND release_year > 1980\").show()"
   ]
  },
  {
   "cell_type": "code",
   "execution_count": 21,
   "id": "e4103703",
   "metadata": {
    "scrolled": true
   },
   "outputs": [
    {
     "name": "stderr",
     "output_type": "stream",
     "text": [
      "                                                                                \r"
     ]
    },
    {
     "data": {
      "text/html": [
       "<div>\n",
       "<style scoped>\n",
       "    .dataframe tbody tr th:only-of-type {\n",
       "        vertical-align: middle;\n",
       "    }\n",
       "\n",
       "    .dataframe tbody tr th {\n",
       "        vertical-align: top;\n",
       "    }\n",
       "\n",
       "    .dataframe thead th {\n",
       "        text-align: right;\n",
       "    }\n",
       "</style>\n",
       "<table border=\"1\" class=\"dataframe\">\n",
       "  <thead>\n",
       "    <tr style=\"text-align: right;\">\n",
       "      <th></th>\n",
       "      <th>vote_average</th>\n",
       "      <th>vote_count</th>\n",
       "      <th>revenue</th>\n",
       "      <th>runtime</th>\n",
       "      <th>budget</th>\n",
       "      <th>popularity</th>\n",
       "      <th>release_year</th>\n",
       "    </tr>\n",
       "  </thead>\n",
       "  <tbody>\n",
       "    <tr>\n",
       "      <th>count</th>\n",
       "      <td>477957.000000</td>\n",
       "      <td>477957.000000</td>\n",
       "      <td>4.779530e+05</td>\n",
       "      <td>477957.000000</td>\n",
       "      <td>4.779570e+05</td>\n",
       "      <td>477957.000000</td>\n",
       "      <td>477957.000000</td>\n",
       "    </tr>\n",
       "    <tr>\n",
       "      <th>mean</th>\n",
       "      <td>3.192882</td>\n",
       "      <td>44.415774</td>\n",
       "      <td>1.474315e+06</td>\n",
       "      <td>69.572265</td>\n",
       "      <td>5.738069e+05</td>\n",
       "      <td>2.092083</td>\n",
       "      <td>1997.926631</td>\n",
       "    </tr>\n",
       "    <tr>\n",
       "      <th>std</th>\n",
       "      <td>3.252265</td>\n",
       "      <td>490.023659</td>\n",
       "      <td>2.359842e+07</td>\n",
       "      <td>60.881496</td>\n",
       "      <td>6.739161e+06</td>\n",
       "      <td>11.475749</td>\n",
       "      <td>26.740034</td>\n",
       "    </tr>\n",
       "    <tr>\n",
       "      <th>min</th>\n",
       "      <td>0.000000</td>\n",
       "      <td>0.000000</td>\n",
       "      <td>0.000000e+00</td>\n",
       "      <td>1.000000</td>\n",
       "      <td>0.000000e+00</td>\n",
       "      <td>0.600000</td>\n",
       "      <td>1901.000000</td>\n",
       "    </tr>\n",
       "    <tr>\n",
       "      <th>25%</th>\n",
       "      <td>0.000000</td>\n",
       "      <td>0.000000</td>\n",
       "      <td>0.000000e+00</td>\n",
       "      <td>25.000000</td>\n",
       "      <td>0.000000e+00</td>\n",
       "      <td>0.600000</td>\n",
       "      <td>1985.000000</td>\n",
       "    </tr>\n",
       "    <tr>\n",
       "      <th>50%</th>\n",
       "      <td>3.000000</td>\n",
       "      <td>1.000000</td>\n",
       "      <td>0.000000e+00</td>\n",
       "      <td>80.000000</td>\n",
       "      <td>0.000000e+00</td>\n",
       "      <td>0.713000</td>\n",
       "      <td>2009.000000</td>\n",
       "    </tr>\n",
       "    <tr>\n",
       "      <th>75%</th>\n",
       "      <td>6.016000</td>\n",
       "      <td>4.000000</td>\n",
       "      <td>0.000000e+00</td>\n",
       "      <td>96.000000</td>\n",
       "      <td>0.000000e+00</td>\n",
       "      <td>1.492000</td>\n",
       "      <td>2018.000000</td>\n",
       "    </tr>\n",
       "    <tr>\n",
       "      <th>max</th>\n",
       "      <td>10.000000</td>\n",
       "      <td>34495.000000</td>\n",
       "      <td>2.068224e+09</td>\n",
       "      <td>14400.000000</td>\n",
       "      <td>8.880000e+08</td>\n",
       "      <td>2994.356934</td>\n",
       "      <td>2025.000000</td>\n",
       "    </tr>\n",
       "  </tbody>\n",
       "</table>\n",
       "</div>"
      ],
      "text/plain": [
       "        vote_average     vote_count       revenue        runtime  \\\n",
       "count  477957.000000  477957.000000  4.779530e+05  477957.000000   \n",
       "mean        3.192882      44.415774  1.474315e+06      69.572265   \n",
       "std         3.252265     490.023659  2.359842e+07      60.881496   \n",
       "min         0.000000       0.000000  0.000000e+00       1.000000   \n",
       "25%         0.000000       0.000000  0.000000e+00      25.000000   \n",
       "50%         3.000000       1.000000  0.000000e+00      80.000000   \n",
       "75%         6.016000       4.000000  0.000000e+00      96.000000   \n",
       "max        10.000000   34495.000000  2.068224e+09   14400.000000   \n",
       "\n",
       "             budget     popularity   release_year  \n",
       "count  4.779570e+05  477957.000000  477957.000000  \n",
       "mean   5.738069e+05       2.092083    1997.926631  \n",
       "std    6.739161e+06      11.475749      26.740034  \n",
       "min    0.000000e+00       0.600000    1901.000000  \n",
       "25%    0.000000e+00       0.600000    1985.000000  \n",
       "50%    0.000000e+00       0.713000    2009.000000  \n",
       "75%    0.000000e+00       1.492000    2018.000000  \n",
       "max    8.880000e+08    2994.356934    2025.000000  "
      ]
     },
     "execution_count": 21,
     "metadata": {},
     "output_type": "execute_result"
    }
   ],
   "source": [
    "moviesDF.toPandas().describe()"
   ]
  },
  {
   "cell_type": "code",
   "execution_count": 26,
   "id": "cd45f16a",
   "metadata": {
    "scrolled": true
   },
   "outputs": [
    {
     "name": "stderr",
     "output_type": "stream",
     "text": [
      "                                                                                \r"
     ]
    },
    {
     "data": {
      "text/html": [
       "<div>\n",
       "<style scoped>\n",
       "    .dataframe tbody tr th:only-of-type {\n",
       "        vertical-align: middle;\n",
       "    }\n",
       "\n",
       "    .dataframe tbody tr th {\n",
       "        vertical-align: top;\n",
       "    }\n",
       "\n",
       "    .dataframe thead th {\n",
       "        text-align: right;\n",
       "    }\n",
       "</style>\n",
       "<table border=\"1\" class=\"dataframe\">\n",
       "  <thead>\n",
       "    <tr style=\"text-align: right;\">\n",
       "      <th></th>\n",
       "      <th>title</th>\n",
       "      <th>vote_average</th>\n",
       "      <th>vote_count</th>\n",
       "      <th>status</th>\n",
       "      <th>revenue</th>\n",
       "      <th>runtime</th>\n",
       "      <th>budget</th>\n",
       "      <th>popularity</th>\n",
       "      <th>genres</th>\n",
       "      <th>release_year</th>\n",
       "    </tr>\n",
       "  </thead>\n",
       "  <tbody>\n",
       "    <tr>\n",
       "      <th>0</th>\n",
       "      <td>Inception</td>\n",
       "      <td>8.364</td>\n",
       "      <td>34495</td>\n",
       "      <td>Released</td>\n",
       "      <td>8.255328e+08</td>\n",
       "      <td>148</td>\n",
       "      <td>160000000</td>\n",
       "      <td>83.952003</td>\n",
       "      <td>Action, Science Fiction, Adventure</td>\n",
       "      <td>2010</td>\n",
       "    </tr>\n",
       "    <tr>\n",
       "      <th>1</th>\n",
       "      <td>Interstellar</td>\n",
       "      <td>8.417</td>\n",
       "      <td>32571</td>\n",
       "      <td>Released</td>\n",
       "      <td>7.017292e+08</td>\n",
       "      <td>169</td>\n",
       "      <td>165000000</td>\n",
       "      <td>140.240997</td>\n",
       "      <td>Adventure, Drama, Science Fiction</td>\n",
       "      <td>2014</td>\n",
       "    </tr>\n",
       "    <tr>\n",
       "      <th>2</th>\n",
       "      <td>The Dark Knight</td>\n",
       "      <td>8.512</td>\n",
       "      <td>30619</td>\n",
       "      <td>Released</td>\n",
       "      <td>1.004558e+09</td>\n",
       "      <td>152</td>\n",
       "      <td>185000000</td>\n",
       "      <td>130.643005</td>\n",
       "      <td>Drama, Action, Crime, Thriller</td>\n",
       "      <td>2008</td>\n",
       "    </tr>\n",
       "    <tr>\n",
       "      <th>3</th>\n",
       "      <td>Avatar</td>\n",
       "      <td>7.573</td>\n",
       "      <td>29815</td>\n",
       "      <td>Released</td>\n",
       "      <td>NaN</td>\n",
       "      <td>162</td>\n",
       "      <td>237000000</td>\n",
       "      <td>79.931999</td>\n",
       "      <td>Action, Adventure, Fantasy, Science Fiction</td>\n",
       "      <td>2009</td>\n",
       "    </tr>\n",
       "    <tr>\n",
       "      <th>4</th>\n",
       "      <td>The Avengers</td>\n",
       "      <td>7.710</td>\n",
       "      <td>29166</td>\n",
       "      <td>Released</td>\n",
       "      <td>1.518816e+09</td>\n",
       "      <td>143</td>\n",
       "      <td>220000000</td>\n",
       "      <td>98.082001</td>\n",
       "      <td>Science Fiction, Action, Adventure</td>\n",
       "      <td>2012</td>\n",
       "    </tr>\n",
       "  </tbody>\n",
       "</table>\n",
       "</div>"
      ],
      "text/plain": [
       "             title  vote_average  vote_count    status       revenue  runtime  \\\n",
       "0        Inception         8.364       34495  Released  8.255328e+08      148   \n",
       "1     Interstellar         8.417       32571  Released  7.017292e+08      169   \n",
       "2  The Dark Knight         8.512       30619  Released  1.004558e+09      152   \n",
       "3           Avatar         7.573       29815  Released           NaN      162   \n",
       "4     The Avengers         7.710       29166  Released  1.518816e+09      143   \n",
       "\n",
       "      budget  popularity                                       genres  \\\n",
       "0  160000000   83.952003           Action, Science Fiction, Adventure   \n",
       "1  165000000  140.240997            Adventure, Drama, Science Fiction   \n",
       "2  185000000  130.643005               Drama, Action, Crime, Thriller   \n",
       "3  237000000   79.931999  Action, Adventure, Fantasy, Science Fiction   \n",
       "4  220000000   98.082001           Science Fiction, Action, Adventure   \n",
       "\n",
       "   release_year  \n",
       "0          2010  \n",
       "1          2014  \n",
       "2          2008  \n",
       "3          2009  \n",
       "4          2012  "
      ]
     },
     "execution_count": 26,
     "metadata": {},
     "output_type": "execute_result"
    }
   ],
   "source": [
    "moviesDF.toPandas().head()"
   ]
  },
  {
   "cell_type": "code",
   "execution_count": 22,
   "id": "b129241a",
   "metadata": {},
   "outputs": [
    {
     "name": "stderr",
     "output_type": "stream",
     "text": [
      "                                                                                \r"
     ]
    },
    {
     "data": {
      "image/png": "[encoded data removed]",
      "text/plain": [
       "<Figure size 576x432 with 1 Axes>"
      ]
     },
     "metadata": {
      "needs_background": "light"
     },
     "output_type": "display_data"
    },
    {
     "name": "stderr",
     "output_type": "stream",
     "text": [
      "                                                                                \r"
     ]
    },
    {
     "data": {
      "image/png": "[encoded data removed]",
      "text/plain": [
       "<Figure size 576x432 with 1 Axes>"
      ]
     },
     "metadata": {
      "needs_background": "light"
     },
     "output_type": "display_data"
    },
    {
     "name": "stderr",
     "output_type": "stream",
     "text": [
      "                                                                                \r"
     ]
    },
    {
     "data": {
      "image/png": "[encoded data removed]",
      "text/plain": [
       "<Figure size 576x432 with 1 Axes>"
      ]
     },
     "metadata": {
      "needs_background": "light"
     },
     "output_type": "display_data"
    },
    {
     "name": "stderr",
     "output_type": "stream",
     "text": [
      "                                                                                \r"
     ]
    },
    {
     "data": {
      "image/png": "[encoded data removed]",
      "text/plain": [
       "<Figure size 576x432 with 1 Axes>"
      ]
     },
     "metadata": {
      "needs_background": "light"
     },
     "output_type": "display_data"
    },
    {
     "name": "stderr",
     "output_type": "stream",
     "text": [
      "                                                                                \r"
     ]
    },
    {
     "data": {
      "image/png": "[encoded data removed]",
      "text/plain": [
       "<Figure size 576x432 with 1 Axes>"
      ]
     },
     "metadata": {
      "needs_background": "light"
     },
     "output_type": "display_data"
    },
    {
     "name": "stderr",
     "output_type": "stream",
     "text": [
      "                                                                                \r"
     ]
    },
    {
     "data": {
      "image/png": "[encoded data removed]",
      "text/plain": [
       "<Figure size 576x432 with 1 Axes>"
      ]
     },
     "metadata": {
      "needs_background": "light"
     },
     "output_type": "display_data"
    },
    {
     "name": "stderr",
     "output_type": "stream",
     "text": [
      "                                                                                \r"
     ]
    },
    {
     "data": {
      "image/png": "[encoded data removed]",
      "text/plain": [
       "<Figure size 576x432 with 1 Axes>"
      ]
     },
     "metadata": {
      "needs_background": "light"
     },
     "output_type": "display_data"
    }
   ],
   "source": [
    "plotHistogram(moviesDF)"
   ]
  },
  {
   "cell_type": "code",
   "execution_count": 23,
   "id": "daa23010",
   "metadata": {
    "scrolled": false
   },
   "outputs": [
    {
     "name": "stderr",
     "output_type": "stream",
     "text": [
      "                                                                                \r"
     ]
    },
    {
     "data": {
      "image/png": "[encoded data removed]",
      "text/plain": [
       "<Figure size 1152x360 with 2 Axes>"
      ]
     },
     "metadata": {
      "needs_background": "light"
     },
     "output_type": "display_data"
    }
   ],
   "source": [
    "plotCorrelation(moviesDF)"
   ]
  },
  {
   "cell_type": "markdown",
   "id": "8e3afebf",
   "metadata": {},
   "source": [
    "### Missing values for new dataset"
   ]
  },
  {
   "cell_type": "code",
   "execution_count": 29,
   "id": "7303156d",
   "metadata": {
    "scrolled": false
   },
   "outputs": [
    {
     "name": "stderr",
     "output_type": "stream",
     "text": [
      "                                                                                \r"
     ]
    },
    {
     "data": {
      "text/html": [
       "<div>\n",
       "<style scoped>\n",
       "    .dataframe tbody tr th:only-of-type {\n",
       "        vertical-align: middle;\n",
       "    }\n",
       "\n",
       "    .dataframe tbody tr th {\n",
       "        vertical-align: top;\n",
       "    }\n",
       "\n",
       "    .dataframe thead th {\n",
       "        text-align: right;\n",
       "    }\n",
       "</style>\n",
       "<table border=\"1\" class=\"dataframe\">\n",
       "  <thead>\n",
       "    <tr style=\"text-align: right;\">\n",
       "      <th></th>\n",
       "      <th>vote_average</th>\n",
       "      <th>vote_count</th>\n",
       "      <th>revenue</th>\n",
       "      <th>runtime</th>\n",
       "      <th>budget</th>\n",
       "      <th>popularity</th>\n",
       "      <th>release_year</th>\n",
       "    </tr>\n",
       "  </thead>\n",
       "  <tbody>\n",
       "    <tr>\n",
       "      <th>0</th>\n",
       "      <td>222483</td>\n",
       "      <td>222380</td>\n",
       "      <td>461166</td>\n",
       "      <td>0</td>\n",
       "      <td>444139</td>\n",
       "      <td>0</td>\n",
       "      <td>0</td>\n",
       "    </tr>\n",
       "  </tbody>\n",
       "</table>\n",
       "</div>"
      ],
      "text/plain": [
       "   vote_average  vote_count  revenue  runtime  budget  popularity  \\\n",
       "0        222483      222380   461166        0  444139           0   \n",
       "\n",
       "   release_year  \n",
       "0             0  "
      ]
     },
     "execution_count": 29,
     "metadata": {},
     "output_type": "execute_result"
    }
   ],
   "source": [
    "moviesDF.select([fn.count(fn.when(fn.col(c) == 0, c)).alias(c) for c in numericalColumns]).toPandas().head()"
   ]
  },
  {
   "cell_type": "code",
   "execution_count": 30,
   "id": "455e21f4",
   "metadata": {},
   "outputs": [],
   "source": [
    "moviesDF = moviesDF.drop(\"vote_average\")\n",
    "moviesDF = moviesDF.drop(\"vote_count\")\n",
    "moviesDF = moviesDF.drop(\"revenue\")\n",
    "moviesDF = moviesDF.drop(\"budget\")"
   ]
  },
  {
   "cell_type": "code",
   "execution_count": null,
   "id": "f71947d5",
   "metadata": {},
   "outputs": [],
   "source": []
  },
  {
   "cell_type": "markdown",
   "id": "35d272c3",
   "metadata": {},
   "source": [
    "### Outliers"
   ]
  },
  {
   "cell_type": "code",
   "execution_count": 24,
   "id": "a409860d",
   "metadata": {
    "scrolled": true
   },
   "outputs": [
    {
     "name": "stderr",
     "output_type": "stream",
     "text": [
      "                                                                                \r"
     ]
    },
    {
     "data": {
      "text/plain": [
       "{'vote_average': [-9.028500080108643, 15.047500133514404],\n",
       " 'vote_count': [-6.0, 10.0],\n",
       " 'revenue': [0.0, 0.0],\n",
       " 'runtime': [-81.5, 202.5],\n",
       " 'budget': [0.0, 0.0],\n",
       " 'popularity': [-0.7994999289512634, 2.932499945163727],\n",
       " 'release_year': [1935.5, 2067.5]}"
      ]
     },
     "execution_count": 24,
     "metadata": {},
     "output_type": "execute_result"
    }
   ],
   "source": [
    "# Check for outliers\n",
    "bounds = {}\n",
    "\n",
    "for col in numericalColumns:\n",
    "    quantiles = moviesDF.approxQuantile(col, [0.25, 0.75], 0.01)\n",
    "    IQR = quantiles[1] - quantiles[0]\n",
    "    bounds[col] = [quantiles[0] - 1.5 * IQR, quantiles[1] + 1.5 * IQR]\n",
    "    \n",
    "bounds"
   ]
  },
  {
   "cell_type": "code",
   "execution_count": 25,
   "id": "a8165be1",
   "metadata": {},
   "outputs": [
    {
     "name": "stderr",
     "output_type": "stream",
     "text": [
      "                                                                                \r"
     ]
    },
    {
     "data": {
      "text/html": [
       "<div>\n",
       "<style scoped>\n",
       "    .dataframe tbody tr th:only-of-type {\n",
       "        vertical-align: middle;\n",
       "    }\n",
       "\n",
       "    .dataframe tbody tr th {\n",
       "        vertical-align: top;\n",
       "    }\n",
       "\n",
       "    .dataframe thead th {\n",
       "        text-align: right;\n",
       "    }\n",
       "</style>\n",
       "<table border=\"1\" class=\"dataframe\">\n",
       "  <thead>\n",
       "    <tr style=\"text-align: right;\">\n",
       "      <th></th>\n",
       "      <th>vote_average_o</th>\n",
       "      <th>vote_count_o</th>\n",
       "      <th>revenue_o</th>\n",
       "      <th>runtime_o</th>\n",
       "      <th>budget_o</th>\n",
       "      <th>popularity_o</th>\n",
       "      <th>release_year_o</th>\n",
       "    </tr>\n",
       "  </thead>\n",
       "  <tbody>\n",
       "    <tr>\n",
       "      <th>0</th>\n",
       "      <td>False</td>\n",
       "      <td>True</td>\n",
       "      <td>True</td>\n",
       "      <td>False</td>\n",
       "      <td>True</td>\n",
       "      <td>True</td>\n",
       "      <td>False</td>\n",
       "    </tr>\n",
       "    <tr>\n",
       "      <th>1</th>\n",
       "      <td>False</td>\n",
       "      <td>True</td>\n",
       "      <td>True</td>\n",
       "      <td>False</td>\n",
       "      <td>True</td>\n",
       "      <td>True</td>\n",
       "      <td>False</td>\n",
       "    </tr>\n",
       "    <tr>\n",
       "      <th>2</th>\n",
       "      <td>False</td>\n",
       "      <td>True</td>\n",
       "      <td>True</td>\n",
       "      <td>False</td>\n",
       "      <td>True</td>\n",
       "      <td>True</td>\n",
       "      <td>False</td>\n",
       "    </tr>\n",
       "    <tr>\n",
       "      <th>3</th>\n",
       "      <td>False</td>\n",
       "      <td>True</td>\n",
       "      <td>None</td>\n",
       "      <td>False</td>\n",
       "      <td>True</td>\n",
       "      <td>True</td>\n",
       "      <td>False</td>\n",
       "    </tr>\n",
       "    <tr>\n",
       "      <th>4</th>\n",
       "      <td>False</td>\n",
       "      <td>True</td>\n",
       "      <td>True</td>\n",
       "      <td>False</td>\n",
       "      <td>True</td>\n",
       "      <td>True</td>\n",
       "      <td>False</td>\n",
       "    </tr>\n",
       "    <tr>\n",
       "      <th>5</th>\n",
       "      <td>False</td>\n",
       "      <td>True</td>\n",
       "      <td>True</td>\n",
       "      <td>False</td>\n",
       "      <td>True</td>\n",
       "      <td>True</td>\n",
       "      <td>False</td>\n",
       "    </tr>\n",
       "    <tr>\n",
       "      <th>6</th>\n",
       "      <td>False</td>\n",
       "      <td>True</td>\n",
       "      <td>True</td>\n",
       "      <td>False</td>\n",
       "      <td>True</td>\n",
       "      <td>True</td>\n",
       "      <td>False</td>\n",
       "    </tr>\n",
       "    <tr>\n",
       "      <th>7</th>\n",
       "      <td>False</td>\n",
       "      <td>True</td>\n",
       "      <td>True</td>\n",
       "      <td>False</td>\n",
       "      <td>True</td>\n",
       "      <td>True</td>\n",
       "      <td>False</td>\n",
       "    </tr>\n",
       "    <tr>\n",
       "      <th>8</th>\n",
       "      <td>False</td>\n",
       "      <td>True</td>\n",
       "      <td>True</td>\n",
       "      <td>False</td>\n",
       "      <td>True</td>\n",
       "      <td>True</td>\n",
       "      <td>False</td>\n",
       "    </tr>\n",
       "    <tr>\n",
       "      <th>9</th>\n",
       "      <td>False</td>\n",
       "      <td>True</td>\n",
       "      <td>True</td>\n",
       "      <td>False</td>\n",
       "      <td>True</td>\n",
       "      <td>True</td>\n",
       "      <td>False</td>\n",
       "    </tr>\n",
       "    <tr>\n",
       "      <th>10</th>\n",
       "      <td>False</td>\n",
       "      <td>True</td>\n",
       "      <td>True</td>\n",
       "      <td>False</td>\n",
       "      <td>True</td>\n",
       "      <td>True</td>\n",
       "      <td>False</td>\n",
       "    </tr>\n",
       "    <tr>\n",
       "      <th>11</th>\n",
       "      <td>False</td>\n",
       "      <td>True</td>\n",
       "      <td>True</td>\n",
       "      <td>False</td>\n",
       "      <td>True</td>\n",
       "      <td>True</td>\n",
       "      <td>False</td>\n",
       "    </tr>\n",
       "    <tr>\n",
       "      <th>12</th>\n",
       "      <td>False</td>\n",
       "      <td>True</td>\n",
       "      <td>True</td>\n",
       "      <td>False</td>\n",
       "      <td>True</td>\n",
       "      <td>True</td>\n",
       "      <td>False</td>\n",
       "    </tr>\n",
       "    <tr>\n",
       "      <th>13</th>\n",
       "      <td>False</td>\n",
       "      <td>True</td>\n",
       "      <td>True</td>\n",
       "      <td>False</td>\n",
       "      <td>True</td>\n",
       "      <td>True</td>\n",
       "      <td>False</td>\n",
       "    </tr>\n",
       "    <tr>\n",
       "      <th>14</th>\n",
       "      <td>False</td>\n",
       "      <td>True</td>\n",
       "      <td>True</td>\n",
       "      <td>False</td>\n",
       "      <td>True</td>\n",
       "      <td>True</td>\n",
       "      <td>False</td>\n",
       "    </tr>\n",
       "    <tr>\n",
       "      <th>15</th>\n",
       "      <td>False</td>\n",
       "      <td>True</td>\n",
       "      <td>None</td>\n",
       "      <td>False</td>\n",
       "      <td>True</td>\n",
       "      <td>True</td>\n",
       "      <td>False</td>\n",
       "    </tr>\n",
       "    <tr>\n",
       "      <th>16</th>\n",
       "      <td>False</td>\n",
       "      <td>True</td>\n",
       "      <td>True</td>\n",
       "      <td>False</td>\n",
       "      <td>True</td>\n",
       "      <td>True</td>\n",
       "      <td>False</td>\n",
       "    </tr>\n",
       "    <tr>\n",
       "      <th>17</th>\n",
       "      <td>False</td>\n",
       "      <td>True</td>\n",
       "      <td>None</td>\n",
       "      <td>False</td>\n",
       "      <td>True</td>\n",
       "      <td>True</td>\n",
       "      <td>False</td>\n",
       "    </tr>\n",
       "    <tr>\n",
       "      <th>18</th>\n",
       "      <td>False</td>\n",
       "      <td>True</td>\n",
       "      <td>True</td>\n",
       "      <td>False</td>\n",
       "      <td>True</td>\n",
       "      <td>True</td>\n",
       "      <td>False</td>\n",
       "    </tr>\n",
       "    <tr>\n",
       "      <th>19</th>\n",
       "      <td>False</td>\n",
       "      <td>True</td>\n",
       "      <td>True</td>\n",
       "      <td>False</td>\n",
       "      <td>True</td>\n",
       "      <td>True</td>\n",
       "      <td>False</td>\n",
       "    </tr>\n",
       "  </tbody>\n",
       "</table>\n",
       "</div>"
      ],
      "text/plain": [
       "    vote_average_o  vote_count_o revenue_o  runtime_o  budget_o  popularity_o  \\\n",
       "0            False          True      True      False      True          True   \n",
       "1            False          True      True      False      True          True   \n",
       "2            False          True      True      False      True          True   \n",
       "3            False          True      None      False      True          True   \n",
       "4            False          True      True      False      True          True   \n",
       "5            False          True      True      False      True          True   \n",
       "6            False          True      True      False      True          True   \n",
       "7            False          True      True      False      True          True   \n",
       "8            False          True      True      False      True          True   \n",
       "9            False          True      True      False      True          True   \n",
       "10           False          True      True      False      True          True   \n",
       "11           False          True      True      False      True          True   \n",
       "12           False          True      True      False      True          True   \n",
       "13           False          True      True      False      True          True   \n",
       "14           False          True      True      False      True          True   \n",
       "15           False          True      None      False      True          True   \n",
       "16           False          True      True      False      True          True   \n",
       "17           False          True      None      False      True          True   \n",
       "18           False          True      True      False      True          True   \n",
       "19           False          True      True      False      True          True   \n",
       "\n",
       "    release_year_o  \n",
       "0            False  \n",
       "1            False  \n",
       "2            False  \n",
       "3            False  \n",
       "4            False  \n",
       "5            False  \n",
       "6            False  \n",
       "7            False  \n",
       "8            False  \n",
       "9            False  \n",
       "10           False  \n",
       "11           False  \n",
       "12           False  \n",
       "13           False  \n",
       "14           False  \n",
       "15           False  \n",
       "16           False  \n",
       "17           False  \n",
       "18           False  \n",
       "19           False  "
      ]
     },
     "execution_count": 25,
     "metadata": {},
     "output_type": "execute_result"
    }
   ],
   "source": [
    "moviesDF.select([\n",
    "    (\n",
    "        (moviesDF[c] < bounds[c][0]) | \n",
    "        (moviesDF[c] > bounds[c][1])\n",
    "    ).alias(c + '_o') for c in numericalColumns\n",
    "]).toPandas().head(20)"
   ]
  },
  {
   "cell_type": "code",
   "execution_count": 6,
   "id": "7a3cf503",
   "metadata": {},
   "outputs": [],
   "source": [
    "moviesDF.createOrReplaceTempView(\"movies\")"
   ]
  },
  {
   "cell_type": "code",
   "execution_count": null,
   "id": "68cb82cf",
   "metadata": {},
   "outputs": [],
   "source": []
  },
  {
   "cell_type": "code",
   "execution_count": 9,
   "id": "9d51f71e",
   "metadata": {},
   "outputs": [
    {
     "name": "stderr",
     "output_type": "stream",
     "text": [
      "                                                                                \r"
     ]
    }
   ],
   "source": [
    "#import pandas as pd\n",
    "#import pandas.plotting as pd_plotting\n",
    "#import matplotlib.pyplot as plt\n",
    "\n",
    "# For this to work, please set spark.driver.memory to at least 5g in $SPARK_HOME/conf/spark-defaults.conf\n",
    "#pandas_df = moviesDF.toPandas()\n",
    "# scatter_matrix = pd_plotting.scatter_matrix(pandas_df, figsize=(12,12))\n",
    "# plt.show()"
   ]
  },
  {
   "cell_type": "code",
   "execution_count": 15,
   "id": "9af3474c",
   "metadata": {
    "scrolled": true
   },
   "outputs": [
    {
     "name": "stdout",
     "output_type": "stream",
     "text": [
      "id                        int32\n",
      "title                    object\n",
      "vote_average            float32\n",
      "vote_count              float64\n",
      "status                   object\n",
      "revenue                  object\n",
      "runtime                 float64\n",
      "adult                    object\n",
      "backdrop_path            object\n",
      "budget                  float64\n",
      "homepage                 object\n",
      "imdb_id                  object\n",
      "original_language        object\n",
      "original_title           object\n",
      "overview                 object\n",
      "popularity              float32\n",
      "poster_path              object\n",
      "tagline                  object\n",
      "genres                   object\n",
      "production_companies     object\n",
      "production_countries     object\n",
      "spoken_languages         object\n",
      "release_year            float64\n",
      "dtype: object\n"
     ]
    }
   ],
   "source": [
    "#import seaborn as sb\n",
    "\n",
    "#print(pandas_df.dtypes)\n",
    "# dataplot = sb.heatmap(pandas_df.corr(), cmap=\"YlGnBu\", annot=True) \n",
    "  \n",
    "# displaying heatmap \n",
    "# plt.show() \n",
    "# scatter_matrix = pd_plotting.scatter_matrix(pandas_df, figsize=(12,12))\n",
    "# plt.show()"
   ]
  },
  {
   "cell_type": "code",
   "execution_count": 73,
   "id": "704815af",
   "metadata": {},
   "outputs": [
    {
     "name": "stdout",
     "output_type": "stream",
     "text": [
      "+---------+\n",
      "|count(id)|\n",
      "+---------+\n",
      "|   324681|\n",
      "+---------+\n",
      "\n"
     ]
    }
   ],
   "source": [
    "spark.sql(\"SELECT count(id) FROM movies WHERE genres IS NULL\").show()"
   ]
  },
  {
   "cell_type": "code",
   "execution_count": 80,
   "id": "75c09743",
   "metadata": {},
   "outputs": [
    {
     "name": "stdout",
     "output_type": "stream",
     "text": [
      "+------------+\n",
      "|release_date|\n",
      "+------------+\n",
      "|  2018-12-13|\n",
      "|  2021-03-18|\n",
      "|  2018-08-16|\n",
      "|  2018-05-11|\n",
      "|  2022-08-02|\n",
      "|  2020-09-23|\n",
      "|  2020-04-24|\n",
      "|  2017-12-22|\n",
      "|  2020-07-24|\n",
      "|  2019-10-11|\n",
      "|  2019-12-13|\n",
      "|  2006-01-20|\n",
      "|  2016-03-12|\n",
      "|  1998-10-24|\n",
      "|  2019-05-25|\n",
      "|  2013-09-12|\n",
      "|  2017-06-28|\n",
      "|  2020-07-10|\n",
      "|  2022-03-11|\n",
      "|  2017-08-25|\n",
      "+------------+\n",
      "only showing top 20 rows\n",
      "\n"
     ]
    }
   ],
   "source": [
    "spark.sql(\"SELECT release_date FROM movies WHERE revenue <= 0\").show()"
   ]
  },
  {
   "cell_type": "code",
   "execution_count": null,
   "id": "94809c5e",
   "metadata": {},
   "outputs": [],
   "source": []
  }
 ],
 "metadata": {
  "kernelspec": {
   "display_name": "Python 3 (ipykernel)",
   "language": "python",
   "name": "python3"
  },
  "language_info": {
   "codemirror_mode": {
    "name": "ipython",
    "version": 3
   },
   "file_extension": ".py",
   "mimetype": "text/x-python",
   "name": "python",
   "nbconvert_exporter": "python",
   "pygments_lexer": "ipython3",
   "version": "3.10.12"
  }
 },
 "nbformat": 4,
 "nbformat_minor": 5
}
