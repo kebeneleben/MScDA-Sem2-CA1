{
 "cells": [
  {
   "cell_type": "code",
   "execution_count": 1,
   "id": "a9f6e727",
   "metadata": {
    "scrolled": false
   },
   "outputs": [],
   "source": [
    "# pip install numpy==1.23.5 seaborn"
   ]
  },
  {
   "cell_type": "code",
   "execution_count": 2,
   "id": "cdde2a93",
   "metadata": {},
   "outputs": [
    {
     "data": {
      "text/plain": [
       "'local[*]'"
      ]
     },
     "execution_count": 2,
     "metadata": {},
     "output_type": "execute_result"
    }
   ],
   "source": [
    "# sc master - running locally\n",
    "sc.master"
   ]
  },
  {
   "cell_type": "code",
   "execution_count": 3,
   "id": "cd265fe6",
   "metadata": {},
   "outputs": [],
   "source": [
    "import warnings\n",
    "import pandas as pd\n",
    "pd.set_option('display.max_columns', None)\n",
    "warnings.filterwarnings(\"ignore\")"
   ]
  },
  {
   "cell_type": "code",
   "execution_count": 4,
   "id": "d73b0e86",
   "metadata": {
    "scrolled": true
   },
   "outputs": [],
   "source": [
    "sc = spark.sparkContext"
   ]
  },
  {
   "cell_type": "code",
   "execution_count": 5,
   "id": "0655fb47",
   "metadata": {},
   "outputs": [
    {
     "name": "stderr",
     "output_type": "stream",
     "text": [
      "\r",
      "[Stage 0:>                                                          (0 + 1) / 1]\r",
      "\r",
      "                                                                                \r"
     ]
    },
    {
     "name": "stdout",
     "output_type": "stream",
     "text": [
      "root\n",
      " |-- id: integer (nullable = true)\n",
      " |-- title: string (nullable = true)\n",
      " |-- vote_average: float (nullable = true)\n",
      " |-- vote_count: integer (nullable = true)\n",
      " |-- status: string (nullable = true)\n",
      " |-- release_date: date (nullable = true)\n",
      " |-- revenue: integer (nullable = true)\n",
      " |-- runtime: integer (nullable = true)\n",
      " |-- adult: boolean (nullable = true)\n",
      " |-- backdrop_path: string (nullable = true)\n",
      " |-- budget: integer (nullable = true)\n",
      " |-- homepage: string (nullable = true)\n",
      " |-- imdb_id: string (nullable = true)\n",
      " |-- original_language: string (nullable = true)\n",
      " |-- original_title: string (nullable = true)\n",
      " |-- overview: string (nullable = true)\n",
      " |-- popularity: float (nullable = true)\n",
      " |-- poster_path: string (nullable = true)\n",
      " |-- tagline: string (nullable = true)\n",
      " |-- genres: string (nullable = true)\n",
      " |-- production_companies: string (nullable = true)\n",
      " |-- production_countries: string (nullable = true)\n",
      " |-- spoken_languages: string (nullable = true)\n",
      "\n"
     ]
    }
   ],
   "source": [
    "from pyspark.sql.types import StructType, StructField, StringType, IntegerType, FloatType, DateType, BooleanType\n",
    "\n",
    "dataPath = \"/CA1/data/TMDB_movie_dataset_v2.csv\"\n",
    "# schema = StructType([\n",
    "#     StructField(\"id\", IntegerType(), True),\n",
    "#     StructField(\"title\", StringType(), True),\n",
    "#     StructField(\"vote_average\", FloatType(), True),\n",
    "#     StructField(\"vote_count\", IntegerType(), True),\n",
    "#     StructField(\"status\", StringType(), True),\n",
    "#     StructField(\"release_date\", DateType(), True),\n",
    "#     StructField(\"runtime\", IntegerType(), True),\n",
    "#     StructField(\"adult\", BooleanType(), True),\n",
    "#     StructField(\"budget\", IntegerType(), True),\n",
    "#     StructField(\"popularity\", FloatType(), True),\n",
    "# ])\n",
    "moviesDF = spark.read.option(\"multiline\", \"true\").option(\"quote\", '\"').option(\"header\", \"true\").option(\"escape\", \"\\\\\").option(\"escape\", '\"').csv(dataPath ,header=True)\n",
    "\n",
    "moviesDF = moviesDF.withColumn(\"popularity\", moviesDF[\"popularity\"].cast(\"float\"))\n",
    "moviesDF = moviesDF.withColumn(\"id\", moviesDF[\"id\"].cast(\"int\"))\n",
    "moviesDF = moviesDF.withColumn(\"vote_average\", moviesDF[\"vote_average\"].cast(\"float\"))\n",
    "moviesDF = moviesDF.withColumn(\"vote_count\", moviesDF[\"vote_count\"].cast(\"int\"))\n",
    "moviesDF = moviesDF.withColumn(\"release_date\", moviesDF[\"release_date\"].cast(\"date\"))\n",
    "moviesDF = moviesDF.withColumn(\"runtime\", moviesDF[\"runtime\"].cast(\"int\"))\n",
    "moviesDF = moviesDF.withColumn(\"adult\", moviesDF[\"adult\"].cast(\"boolean\"))\n",
    "moviesDF = moviesDF.withColumn(\"budget\", moviesDF[\"budget\"].cast(\"int\"))\n",
    "moviesDF = moviesDF.withColumn(\"revenue\", moviesDF[\"revenue\"].cast(\"int\"))\n",
    "\n",
    "moviesDF.printSchema()"
   ]
  },
  {
   "cell_type": "code",
   "execution_count": 6,
   "id": "385e2624",
   "metadata": {},
   "outputs": [
    {
     "name": "stdout",
     "output_type": "stream",
     "text": [
      "+------------+--------------------+\n",
      "|       title|              genres|\n",
      "+------------+--------------------+\n",
      "|   Inception|Action, Science F...|\n",
      "|Interstellar|Adventure, Drama,...|\n",
      "+------------+--------------------+\n",
      "only showing top 2 rows\n",
      "\n"
     ]
    }
   ],
   "source": [
    "moviesDF.select(\"title\", \"genres\").show(2)"
   ]
  },
  {
   "cell_type": "code",
   "execution_count": 7,
   "id": "51a1ae1b",
   "metadata": {},
   "outputs": [
    {
     "name": "stderr",
     "output_type": "stream",
     "text": [
      "                                                                                \r"
     ]
    },
    {
     "data": {
      "text/plain": [
       "934745"
      ]
     },
     "execution_count": 7,
     "metadata": {},
     "output_type": "execute_result"
    }
   ],
   "source": [
    "moviesDF.count()"
   ]
  },
  {
   "cell_type": "code",
   "execution_count": 8,
   "id": "2890c2a2",
   "metadata": {},
   "outputs": [],
   "source": [
    "numericalColumns = ['vote_average', 'vote_count', 'revenue', 'runtime', 'budget', 'popularity']"
   ]
  },
  {
   "cell_type": "code",
   "execution_count": 9,
   "id": "6a96f2cd",
   "metadata": {
    "scrolled": false
   },
   "outputs": [
    {
     "name": "stderr",
     "output_type": "stream",
     "text": [
      "                                                                                \r"
     ]
    },
    {
     "data": {
      "text/html": [
       "<div>\n",
       "<style scoped>\n",
       "    .dataframe tbody tr th:only-of-type {\n",
       "        vertical-align: middle;\n",
       "    }\n",
       "\n",
       "    .dataframe tbody tr th {\n",
       "        vertical-align: top;\n",
       "    }\n",
       "\n",
       "    .dataframe thead th {\n",
       "        text-align: right;\n",
       "    }\n",
       "</style>\n",
       "<table border=\"1\" class=\"dataframe\">\n",
       "  <thead>\n",
       "    <tr style=\"text-align: right;\">\n",
       "      <th></th>\n",
       "      <th>vote_average</th>\n",
       "      <th>vote_count</th>\n",
       "      <th>revenue</th>\n",
       "      <th>runtime</th>\n",
       "      <th>budget</th>\n",
       "      <th>popularity</th>\n",
       "    </tr>\n",
       "  </thead>\n",
       "  <tbody>\n",
       "    <tr>\n",
       "      <th>count</th>\n",
       "      <td>934745.000000</td>\n",
       "      <td>934745.000000</td>\n",
       "      <td>9.347410e+05</td>\n",
       "      <td>934745.000000</td>\n",
       "      <td>9.347450e+05</td>\n",
       "      <td>934745.000000</td>\n",
       "    </tr>\n",
       "    <tr>\n",
       "      <th>mean</th>\n",
       "      <td>2.232957</td>\n",
       "      <td>22.939624</td>\n",
       "      <td>7.671959e+05</td>\n",
       "      <td>51.889123</td>\n",
       "      <td>3.061706e+05</td>\n",
       "      <td>1.424210</td>\n",
       "    </tr>\n",
       "    <tr>\n",
       "      <th>std</th>\n",
       "      <td>3.152949</td>\n",
       "      <td>351.094674</td>\n",
       "      <td>1.716210e+07</td>\n",
       "      <td>62.425681</td>\n",
       "      <td>5.058921e+06</td>\n",
       "      <td>8.349914</td>\n",
       "    </tr>\n",
       "    <tr>\n",
       "      <th>min</th>\n",
       "      <td>0.000000</td>\n",
       "      <td>0.000000</td>\n",
       "      <td>-1.200000e+01</td>\n",
       "      <td>0.000000</td>\n",
       "      <td>0.000000e+00</td>\n",
       "      <td>0.000000</td>\n",
       "    </tr>\n",
       "    <tr>\n",
       "      <th>25%</th>\n",
       "      <td>0.000000</td>\n",
       "      <td>0.000000</td>\n",
       "      <td>0.000000e+00</td>\n",
       "      <td>2.000000</td>\n",
       "      <td>0.000000e+00</td>\n",
       "      <td>0.600000</td>\n",
       "    </tr>\n",
       "    <tr>\n",
       "      <th>50%</th>\n",
       "      <td>0.000000</td>\n",
       "      <td>0.000000</td>\n",
       "      <td>0.000000e+00</td>\n",
       "      <td>39.000000</td>\n",
       "      <td>0.000000e+00</td>\n",
       "      <td>0.600000</td>\n",
       "    </tr>\n",
       "    <tr>\n",
       "      <th>75%</th>\n",
       "      <td>5.294000</td>\n",
       "      <td>1.000000</td>\n",
       "      <td>0.000000e+00</td>\n",
       "      <td>90.000000</td>\n",
       "      <td>0.000000e+00</td>\n",
       "      <td>0.958000</td>\n",
       "    </tr>\n",
       "    <tr>\n",
       "      <th>max</th>\n",
       "      <td>10.000000</td>\n",
       "      <td>34495.000000</td>\n",
       "      <td>2.068224e+09</td>\n",
       "      <td>14400.000000</td>\n",
       "      <td>8.880000e+08</td>\n",
       "      <td>2994.356934</td>\n",
       "    </tr>\n",
       "  </tbody>\n",
       "</table>\n",
       "</div>"
      ],
      "text/plain": [
       "        vote_average     vote_count       revenue        runtime  \\\n",
       "count  934745.000000  934745.000000  9.347410e+05  934745.000000   \n",
       "mean        2.232957      22.939624  7.671959e+05      51.889123   \n",
       "std         3.152949     351.094674  1.716210e+07      62.425681   \n",
       "min         0.000000       0.000000 -1.200000e+01       0.000000   \n",
       "25%         0.000000       0.000000  0.000000e+00       2.000000   \n",
       "50%         0.000000       0.000000  0.000000e+00      39.000000   \n",
       "75%         5.294000       1.000000  0.000000e+00      90.000000   \n",
       "max        10.000000   34495.000000  2.068224e+09   14400.000000   \n",
       "\n",
       "             budget     popularity  \n",
       "count  9.347450e+05  934745.000000  \n",
       "mean   3.061706e+05       1.424210  \n",
       "std    5.058921e+06       8.349914  \n",
       "min    0.000000e+00       0.000000  \n",
       "25%    0.000000e+00       0.600000  \n",
       "50%    0.000000e+00       0.600000  \n",
       "75%    0.000000e+00       0.958000  \n",
       "max    8.880000e+08    2994.356934  "
      ]
     },
     "execution_count": 9,
     "metadata": {},
     "output_type": "execute_result"
    }
   ],
   "source": [
    "moviesDF.select(numericalColumns).toPandas().describe()"
   ]
  },
  {
   "cell_type": "markdown",
   "id": "94132089",
   "metadata": {},
   "source": [
    "### Missing Values"
   ]
  },
  {
   "cell_type": "code",
   "execution_count": 10,
   "id": "c2f4347c",
   "metadata": {
    "scrolled": true
   },
   "outputs": [
    {
     "name": "stderr",
     "output_type": "stream",
     "text": [
      "                                                                                \r"
     ]
    }
   ],
   "source": [
    "import pyspark.sql.functions as fn\n",
    "\n",
    "missingDF = moviesDF.agg(*[\n",
    "    (1 - (fn.count(c) / fn.count('*'))).alias(c + '_miss')\n",
    "    for c in moviesDF.columns\n",
    "]).toPandas()"
   ]
  },
  {
   "cell_type": "code",
   "execution_count": 11,
   "id": "f67f9658",
   "metadata": {},
   "outputs": [
    {
     "data": {
      "text/html": [
       "<div>\n",
       "<style scoped>\n",
       "    .dataframe tbody tr th:only-of-type {\n",
       "        vertical-align: middle;\n",
       "    }\n",
       "\n",
       "    .dataframe tbody tr th {\n",
       "        vertical-align: top;\n",
       "    }\n",
       "\n",
       "    .dataframe thead th {\n",
       "        text-align: right;\n",
       "    }\n",
       "</style>\n",
       "<table border=\"1\" class=\"dataframe\">\n",
       "  <thead>\n",
       "    <tr style=\"text-align: right;\">\n",
       "      <th></th>\n",
       "      <th>variable</th>\n",
       "      <th>value</th>\n",
       "    </tr>\n",
       "  </thead>\n",
       "  <tbody>\n",
       "    <tr>\n",
       "      <th>0</th>\n",
       "      <td>id_miss</td>\n",
       "      <td>0.000000</td>\n",
       "    </tr>\n",
       "    <tr>\n",
       "      <th>1</th>\n",
       "      <td>title_miss</td>\n",
       "      <td>0.000012</td>\n",
       "    </tr>\n",
       "    <tr>\n",
       "      <th>2</th>\n",
       "      <td>vote_average_miss</td>\n",
       "      <td>0.000000</td>\n",
       "    </tr>\n",
       "    <tr>\n",
       "      <th>3</th>\n",
       "      <td>vote_count_miss</td>\n",
       "      <td>0.000000</td>\n",
       "    </tr>\n",
       "    <tr>\n",
       "      <th>4</th>\n",
       "      <td>status_miss</td>\n",
       "      <td>0.000000</td>\n",
       "    </tr>\n",
       "    <tr>\n",
       "      <th>5</th>\n",
       "      <td>release_date_miss</td>\n",
       "      <td>0.090429</td>\n",
       "    </tr>\n",
       "    <tr>\n",
       "      <th>6</th>\n",
       "      <td>revenue_miss</td>\n",
       "      <td>0.000004</td>\n",
       "    </tr>\n",
       "    <tr>\n",
       "      <th>7</th>\n",
       "      <td>runtime_miss</td>\n",
       "      <td>0.000000</td>\n",
       "    </tr>\n",
       "    <tr>\n",
       "      <th>8</th>\n",
       "      <td>adult_miss</td>\n",
       "      <td>0.000000</td>\n",
       "    </tr>\n",
       "    <tr>\n",
       "      <th>9</th>\n",
       "      <td>backdrop_path_miss</td>\n",
       "      <td>0.705277</td>\n",
       "    </tr>\n",
       "    <tr>\n",
       "      <th>10</th>\n",
       "      <td>budget_miss</td>\n",
       "      <td>0.000000</td>\n",
       "    </tr>\n",
       "    <tr>\n",
       "      <th>11</th>\n",
       "      <td>homepage_miss</td>\n",
       "      <td>0.890981</td>\n",
       "    </tr>\n",
       "    <tr>\n",
       "      <th>12</th>\n",
       "      <td>imdb_id_miss</td>\n",
       "      <td>0.408932</td>\n",
       "    </tr>\n",
       "    <tr>\n",
       "      <th>13</th>\n",
       "      <td>original_language_miss</td>\n",
       "      <td>0.000000</td>\n",
       "    </tr>\n",
       "    <tr>\n",
       "      <th>14</th>\n",
       "      <td>original_title_miss</td>\n",
       "      <td>0.000012</td>\n",
       "    </tr>\n",
       "    <tr>\n",
       "      <th>15</th>\n",
       "      <td>overview_miss</td>\n",
       "      <td>0.173734</td>\n",
       "    </tr>\n",
       "    <tr>\n",
       "      <th>16</th>\n",
       "      <td>popularity_miss</td>\n",
       "      <td>0.000000</td>\n",
       "    </tr>\n",
       "    <tr>\n",
       "      <th>17</th>\n",
       "      <td>poster_path_miss</td>\n",
       "      <td>0.256717</td>\n",
       "    </tr>\n",
       "    <tr>\n",
       "      <th>18</th>\n",
       "      <td>tagline_miss</td>\n",
       "      <td>0.854446</td>\n",
       "    </tr>\n",
       "    <tr>\n",
       "      <th>19</th>\n",
       "      <td>genres_miss</td>\n",
       "      <td>0.351958</td>\n",
       "    </tr>\n",
       "    <tr>\n",
       "      <th>20</th>\n",
       "      <td>production_companies_miss</td>\n",
       "      <td>0.511231</td>\n",
       "    </tr>\n",
       "    <tr>\n",
       "      <th>21</th>\n",
       "      <td>production_countries_miss</td>\n",
       "      <td>0.387607</td>\n",
       "    </tr>\n",
       "    <tr>\n",
       "      <th>22</th>\n",
       "      <td>spoken_languages_miss</td>\n",
       "      <td>0.381594</td>\n",
       "    </tr>\n",
       "  </tbody>\n",
       "</table>\n",
       "</div>"
      ],
      "text/plain": [
       "                     variable     value\n",
       "0                     id_miss  0.000000\n",
       "1                  title_miss  0.000012\n",
       "2           vote_average_miss  0.000000\n",
       "3             vote_count_miss  0.000000\n",
       "4                 status_miss  0.000000\n",
       "5           release_date_miss  0.090429\n",
       "6                revenue_miss  0.000004\n",
       "7                runtime_miss  0.000000\n",
       "8                  adult_miss  0.000000\n",
       "9          backdrop_path_miss  0.705277\n",
       "10                budget_miss  0.000000\n",
       "11              homepage_miss  0.890981\n",
       "12               imdb_id_miss  0.408932\n",
       "13     original_language_miss  0.000000\n",
       "14        original_title_miss  0.000012\n",
       "15              overview_miss  0.173734\n",
       "16            popularity_miss  0.000000\n",
       "17           poster_path_miss  0.256717\n",
       "18               tagline_miss  0.854446\n",
       "19                genres_miss  0.351958\n",
       "20  production_companies_miss  0.511231\n",
       "21  production_countries_miss  0.387607\n",
       "22      spoken_languages_miss  0.381594"
      ]
     },
     "execution_count": 11,
     "metadata": {},
     "output_type": "execute_result"
    }
   ],
   "source": [
    "missingDF.melt()"
   ]
  },
  {
   "cell_type": "code",
   "execution_count": 13,
   "id": "f05f4b2d",
   "metadata": {
    "scrolled": false
   },
   "outputs": [
    {
     "name": "stderr",
     "output_type": "stream",
     "text": [
      "                                                                                \r"
     ]
    },
    {
     "data": {
      "text/html": [
       "<div>\n",
       "<style scoped>\n",
       "    .dataframe tbody tr th:only-of-type {\n",
       "        vertical-align: middle;\n",
       "    }\n",
       "\n",
       "    .dataframe tbody tr th {\n",
       "        vertical-align: top;\n",
       "    }\n",
       "\n",
       "    .dataframe thead th {\n",
       "        text-align: right;\n",
       "    }\n",
       "</style>\n",
       "<table border=\"1\" class=\"dataframe\">\n",
       "  <thead>\n",
       "    <tr style=\"text-align: right;\">\n",
       "      <th></th>\n",
       "      <th>variable</th>\n",
       "      <th>value</th>\n",
       "    </tr>\n",
       "  </thead>\n",
       "  <tbody>\n",
       "    <tr>\n",
       "      <th>0</th>\n",
       "      <td>id</td>\n",
       "      <td>0</td>\n",
       "    </tr>\n",
       "    <tr>\n",
       "      <th>1</th>\n",
       "      <td>title</td>\n",
       "      <td>11</td>\n",
       "    </tr>\n",
       "    <tr>\n",
       "      <th>2</th>\n",
       "      <td>vote_average</td>\n",
       "      <td>0</td>\n",
       "    </tr>\n",
       "    <tr>\n",
       "      <th>3</th>\n",
       "      <td>vote_count</td>\n",
       "      <td>0</td>\n",
       "    </tr>\n",
       "    <tr>\n",
       "      <th>4</th>\n",
       "      <td>status</td>\n",
       "      <td>0</td>\n",
       "    </tr>\n",
       "    <tr>\n",
       "      <th>5</th>\n",
       "      <td>release_date</td>\n",
       "      <td>84528</td>\n",
       "    </tr>\n",
       "    <tr>\n",
       "      <th>6</th>\n",
       "      <td>revenue</td>\n",
       "      <td>4</td>\n",
       "    </tr>\n",
       "    <tr>\n",
       "      <th>7</th>\n",
       "      <td>runtime</td>\n",
       "      <td>0</td>\n",
       "    </tr>\n",
       "    <tr>\n",
       "      <th>8</th>\n",
       "      <td>adult</td>\n",
       "      <td>0</td>\n",
       "    </tr>\n",
       "    <tr>\n",
       "      <th>9</th>\n",
       "      <td>backdrop_path</td>\n",
       "      <td>659254</td>\n",
       "    </tr>\n",
       "    <tr>\n",
       "      <th>10</th>\n",
       "      <td>budget</td>\n",
       "      <td>0</td>\n",
       "    </tr>\n",
       "    <tr>\n",
       "      <th>11</th>\n",
       "      <td>homepage</td>\n",
       "      <td>832840</td>\n",
       "    </tr>\n",
       "    <tr>\n",
       "      <th>12</th>\n",
       "      <td>imdb_id</td>\n",
       "      <td>382247</td>\n",
       "    </tr>\n",
       "    <tr>\n",
       "      <th>13</th>\n",
       "      <td>original_language</td>\n",
       "      <td>0</td>\n",
       "    </tr>\n",
       "    <tr>\n",
       "      <th>14</th>\n",
       "      <td>original_title</td>\n",
       "      <td>11</td>\n",
       "    </tr>\n",
       "    <tr>\n",
       "      <th>15</th>\n",
       "      <td>overview</td>\n",
       "      <td>162397</td>\n",
       "    </tr>\n",
       "    <tr>\n",
       "      <th>16</th>\n",
       "      <td>popularity</td>\n",
       "      <td>0</td>\n",
       "    </tr>\n",
       "    <tr>\n",
       "      <th>17</th>\n",
       "      <td>poster_path</td>\n",
       "      <td>239965</td>\n",
       "    </tr>\n",
       "    <tr>\n",
       "      <th>18</th>\n",
       "      <td>tagline</td>\n",
       "      <td>798689</td>\n",
       "    </tr>\n",
       "    <tr>\n",
       "      <th>19</th>\n",
       "      <td>genres</td>\n",
       "      <td>328991</td>\n",
       "    </tr>\n",
       "    <tr>\n",
       "      <th>20</th>\n",
       "      <td>production_companies</td>\n",
       "      <td>477871</td>\n",
       "    </tr>\n",
       "    <tr>\n",
       "      <th>21</th>\n",
       "      <td>production_countries</td>\n",
       "      <td>362314</td>\n",
       "    </tr>\n",
       "    <tr>\n",
       "      <th>22</th>\n",
       "      <td>spoken_languages</td>\n",
       "      <td>356693</td>\n",
       "    </tr>\n",
       "  </tbody>\n",
       "</table>\n",
       "</div>"
      ],
      "text/plain": [
       "                variable   value\n",
       "0                     id       0\n",
       "1                  title      11\n",
       "2           vote_average       0\n",
       "3             vote_count       0\n",
       "4                 status       0\n",
       "5           release_date   84528\n",
       "6                revenue       4\n",
       "7                runtime       0\n",
       "8                  adult       0\n",
       "9          backdrop_path  659254\n",
       "10                budget       0\n",
       "11              homepage  832840\n",
       "12               imdb_id  382247\n",
       "13     original_language       0\n",
       "14        original_title      11\n",
       "15              overview  162397\n",
       "16            popularity       0\n",
       "17           poster_path  239965\n",
       "18               tagline  798689\n",
       "19                genres  328991\n",
       "20  production_companies  477871\n",
       "21  production_countries  362314\n",
       "22      spoken_languages  356693"
      ]
     },
     "execution_count": 13,
     "metadata": {},
     "output_type": "execute_result"
    }
   ],
   "source": [
    "moviesDF.select([fn.count(fn.when(fn.col(c).isNull(), c)).alias(c) for c in moviesDF.columns]).toPandas().melt()"
   ]
  },
  {
   "cell_type": "markdown",
   "id": "7a09dae1",
   "metadata": {},
   "source": [
    "### Correlation"
   ]
  },
  {
   "cell_type": "code",
   "execution_count": 12,
   "id": "d6bf86a1",
   "metadata": {
    "scrolled": true
   },
   "outputs": [],
   "source": [
    "from pyspark.ml.stat import Correlation\n",
    "from pyspark.ml.feature import VectorAssembler\n",
    "import matplotlib.pyplot as plt\n",
    "import seaborn as sns\n",
    "\n",
    "# intFields = spark.sql(\"SELECT vote_average, vote_count, revenue, runtime, budget, popularity, release_year FROM movies\")\n",
    "def plotCorrelation (df): \n",
    "    intFields = moviesDF.select(numericalColumns)\n",
    "\n",
    "    # Fill all the null values with 0 so that it wont cause an error in the correlation matrix\n",
    "    intFields = intFields.fillna(0)\n",
    "\n",
    "    assembler = VectorAssembler(inputCols = numericalColumns, outputCol = \"features\")\n",
    "    dfAssembled = assembler.transform(intFields).select(\"features\")\n",
    "\n",
    "    matrix = Correlation.corr(dfAssembled, \"features\").collect()[0][0]\n",
    "    corrMatrix = matrix.toArray().tolist()\n",
    "\n",
    "    # corrDF = spark.createDataFrame(corrMatrix, cols)\n",
    "    corrDF = pd.DataFrame(data = corrMatrix, columns = numericalColumns)\n",
    "\n",
    "    plt.figure(figsize = (16,5))\n",
    "    sns.heatmap(corrDF,\n",
    "                xticklabels = corrDF.columns.values,\n",
    "                yticklabels = corrDF.columns.values,\n",
    "                cmap = \"Greens\",\n",
    "                annot = True\n",
    "               )"
   ]
  },
  {
   "cell_type": "code",
   "execution_count": 13,
   "id": "911f9d2e",
   "metadata": {},
   "outputs": [
    {
     "name": "stderr",
     "output_type": "stream",
     "text": [
      "                                                                                \r"
     ]
    },
    {
     "data": {
      "image/png": "[encoded data removed]",
      "text/plain": [
       "<Figure size 1152x360 with 2 Axes>"
      ]
     },
     "metadata": {
      "needs_background": "light"
     },
     "output_type": "display_data"
    }
   ],
   "source": [
    "plotCorrelation(moviesDF)"
   ]
  },
  {
   "cell_type": "markdown",
   "id": "1e59b11b",
   "metadata": {},
   "source": [
    "### Histogram"
   ]
  },
  {
   "cell_type": "code",
   "execution_count": 14,
   "id": "e62df376",
   "metadata": {
    "scrolled": true
   },
   "outputs": [],
   "source": [
    "def plotHistogram (df):\n",
    "    numBins = 10\n",
    "\n",
    "    for column in numericalColumns:\n",
    "        tempPanda = df.select(column).toPandas()\n",
    "\n",
    "        plt.figure(figsize = (8,6))\n",
    "        sns.histplot(data = tempPanda, x = column, bins = numBins)\n",
    "        plt.xlabel(column)\n",
    "        plt.ylabel(\"Frequency\")\n",
    "        plt.title(f\"Histogram of {column}\")\n",
    "        plt.show()"
   ]
  },
  {
   "cell_type": "code",
   "execution_count": 15,
   "id": "11703dbe",
   "metadata": {},
   "outputs": [
    {
     "name": "stderr",
     "output_type": "stream",
     "text": [
      "                                                                                \r"
     ]
    },
    {
     "data": {
      "image/png": "[encoded data removed]",
      "text/plain": [
       "<Figure size 576x432 with 1 Axes>"
      ]
     },
     "metadata": {
      "needs_background": "light"
     },
     "output_type": "display_data"
    },
    {
     "name": "stderr",
     "output_type": "stream",
     "text": [
      "                                                                                \r"
     ]
    },
    {
     "data": {
      "image/png": "[encoded data removed]",
      "text/plain": [
       "<Figure size 576x432 with 1 Axes>"
      ]
     },
     "metadata": {
      "needs_background": "light"
     },
     "output_type": "display_data"
    },
    {
     "name": "stderr",
     "output_type": "stream",
     "text": [
      "                                                                                \r"
     ]
    },
    {
     "data": {
      "image/png": "[encoded data removed]",
      "text/plain": [
       "<Figure size 576x432 with 1 Axes>"
      ]
     },
     "metadata": {
      "needs_background": "light"
     },
     "output_type": "display_data"
    },
    {
     "name": "stderr",
     "output_type": "stream",
     "text": [
      "                                                                                \r"
     ]
    },
    {
     "data": {
      "image/png": "[encoded data removed]",
      "text/plain": [
       "<Figure size 576x432 with 1 Axes>"
      ]
     },
     "metadata": {
      "needs_background": "light"
     },
     "output_type": "display_data"
    },
    {
     "name": "stderr",
     "output_type": "stream",
     "text": [
      "                                                                                \r"
     ]
    },
    {
     "data": {
      "image/png": "[encoded data removed]",
      "text/plain": [
       "<Figure size 576x432 with 1 Axes>"
      ]
     },
     "metadata": {
      "needs_background": "light"
     },
     "output_type": "display_data"
    },
    {
     "name": "stderr",
     "output_type": "stream",
     "text": [
      "                                                                                \r"
     ]
    },
    {
     "data": {
      "image/png": "[encoded data removed]",
      "text/plain": [
       "<Figure size 576x432 with 1 Axes>"
      ]
     },
     "metadata": {
      "needs_background": "light"
     },
     "output_type": "display_data"
    }
   ],
   "source": [
    "plotHistogram (moviesDF)"
   ]
  },
  {
   "cell_type": "markdown",
   "id": "e95146ef",
   "metadata": {},
   "source": [
    "### Data Manipulation and Feature Extraction"
   ]
  },
  {
   "cell_type": "code",
   "execution_count": 16,
   "id": "ed2a0d2b",
   "metadata": {
    "scrolled": true
   },
   "outputs": [
    {
     "name": "stdout",
     "output_type": "stream",
     "text": [
      "root\n",
      " |-- id: integer (nullable = true)\n",
      " |-- title: string (nullable = true)\n",
      " |-- vote_average: float (nullable = true)\n",
      " |-- vote_count: integer (nullable = true)\n",
      " |-- status: string (nullable = true)\n",
      " |-- release_date: date (nullable = true)\n",
      " |-- revenue: integer (nullable = true)\n",
      " |-- runtime: integer (nullable = true)\n",
      " |-- adult: boolean (nullable = true)\n",
      " |-- backdrop_path: string (nullable = true)\n",
      " |-- budget: integer (nullable = true)\n",
      " |-- homepage: string (nullable = true)\n",
      " |-- imdb_id: string (nullable = true)\n",
      " |-- original_language: string (nullable = true)\n",
      " |-- original_title: string (nullable = true)\n",
      " |-- overview: string (nullable = true)\n",
      " |-- popularity: float (nullable = true)\n",
      " |-- poster_path: string (nullable = true)\n",
      " |-- tagline: string (nullable = true)\n",
      " |-- genres: string (nullable = true)\n",
      " |-- production_companies: string (nullable = true)\n",
      " |-- production_countries: string (nullable = true)\n",
      " |-- spoken_languages: string (nullable = true)\n",
      " |-- release_year: integer (nullable = true)\n",
      "\n"
     ]
    }
   ],
   "source": [
    "from pyspark.sql.functions import year\n",
    "moviesDF = moviesDF.withColumn(\"release_year\", year(\"release_date\"))\n",
    "numericalColumns.append(\"release_year\")\n",
    "\n",
    "moviesDF.printSchema()"
   ]
  },
  {
   "cell_type": "code",
   "execution_count": 17,
   "id": "93f9e835",
   "metadata": {
    "scrolled": true
   },
   "outputs": [
    {
     "name": "stderr",
     "output_type": "stream",
     "text": [
      "                                                                                \r"
     ]
    },
    {
     "data": {
      "text/html": [
       "<div>\n",
       "<style scoped>\n",
       "    .dataframe tbody tr th:only-of-type {\n",
       "        vertical-align: middle;\n",
       "    }\n",
       "\n",
       "    .dataframe tbody tr th {\n",
       "        vertical-align: top;\n",
       "    }\n",
       "\n",
       "    .dataframe thead th {\n",
       "        text-align: right;\n",
       "    }\n",
       "</style>\n",
       "<table border=\"1\" class=\"dataframe\">\n",
       "  <thead>\n",
       "    <tr style=\"text-align: right;\">\n",
       "      <th></th>\n",
       "      <th>title</th>\n",
       "      <th>vote_average</th>\n",
       "      <th>vote_count</th>\n",
       "      <th>status</th>\n",
       "      <th>revenue</th>\n",
       "      <th>runtime</th>\n",
       "      <th>budget</th>\n",
       "      <th>popularity</th>\n",
       "      <th>genres</th>\n",
       "      <th>release_year</th>\n",
       "    </tr>\n",
       "  </thead>\n",
       "  <tbody>\n",
       "    <tr>\n",
       "      <th>0</th>\n",
       "      <td>Inception</td>\n",
       "      <td>8.364</td>\n",
       "      <td>34495</td>\n",
       "      <td>Released</td>\n",
       "      <td>8.255328e+08</td>\n",
       "      <td>148</td>\n",
       "      <td>160000000</td>\n",
       "      <td>83.952003</td>\n",
       "      <td>Action, Science Fiction, Adventure</td>\n",
       "      <td>2010.0</td>\n",
       "    </tr>\n",
       "    <tr>\n",
       "      <th>1</th>\n",
       "      <td>Interstellar</td>\n",
       "      <td>8.417</td>\n",
       "      <td>32571</td>\n",
       "      <td>Released</td>\n",
       "      <td>7.017292e+08</td>\n",
       "      <td>169</td>\n",
       "      <td>165000000</td>\n",
       "      <td>140.240997</td>\n",
       "      <td>Adventure, Drama, Science Fiction</td>\n",
       "      <td>2014.0</td>\n",
       "    </tr>\n",
       "    <tr>\n",
       "      <th>2</th>\n",
       "      <td>The Dark Knight</td>\n",
       "      <td>8.512</td>\n",
       "      <td>30619</td>\n",
       "      <td>Released</td>\n",
       "      <td>1.004558e+09</td>\n",
       "      <td>152</td>\n",
       "      <td>185000000</td>\n",
       "      <td>130.643005</td>\n",
       "      <td>Drama, Action, Crime, Thriller</td>\n",
       "      <td>2008.0</td>\n",
       "    </tr>\n",
       "    <tr>\n",
       "      <th>3</th>\n",
       "      <td>Avatar</td>\n",
       "      <td>7.573</td>\n",
       "      <td>29815</td>\n",
       "      <td>Released</td>\n",
       "      <td>NaN</td>\n",
       "      <td>162</td>\n",
       "      <td>237000000</td>\n",
       "      <td>79.931999</td>\n",
       "      <td>Action, Adventure, Fantasy, Science Fiction</td>\n",
       "      <td>2009.0</td>\n",
       "    </tr>\n",
       "    <tr>\n",
       "      <th>4</th>\n",
       "      <td>The Avengers</td>\n",
       "      <td>7.710</td>\n",
       "      <td>29166</td>\n",
       "      <td>Released</td>\n",
       "      <td>1.518816e+09</td>\n",
       "      <td>143</td>\n",
       "      <td>220000000</td>\n",
       "      <td>98.082001</td>\n",
       "      <td>Science Fiction, Action, Adventure</td>\n",
       "      <td>2012.0</td>\n",
       "    </tr>\n",
       "  </tbody>\n",
       "</table>\n",
       "</div>"
      ],
      "text/plain": [
       "             title  vote_average  vote_count    status       revenue  runtime  \\\n",
       "0        Inception         8.364       34495  Released  8.255328e+08      148   \n",
       "1     Interstellar         8.417       32571  Released  7.017292e+08      169   \n",
       "2  The Dark Knight         8.512       30619  Released  1.004558e+09      152   \n",
       "3           Avatar         7.573       29815  Released           NaN      162   \n",
       "4     The Avengers         7.710       29166  Released  1.518816e+09      143   \n",
       "\n",
       "      budget  popularity                                       genres  \\\n",
       "0  160000000   83.952003           Action, Science Fiction, Adventure   \n",
       "1  165000000  140.240997            Adventure, Drama, Science Fiction   \n",
       "2  185000000  130.643005               Drama, Action, Crime, Thriller   \n",
       "3  237000000   79.931999  Action, Adventure, Fantasy, Science Fiction   \n",
       "4  220000000   98.082001           Science Fiction, Action, Adventure   \n",
       "\n",
       "   release_year  \n",
       "0        2010.0  \n",
       "1        2014.0  \n",
       "2        2008.0  \n",
       "3        2009.0  \n",
       "4        2012.0  "
      ]
     },
     "execution_count": 17,
     "metadata": {},
     "output_type": "execute_result"
    }
   ],
   "source": [
    "# Drop columns that will not be used\n",
    "moviesDF = moviesDF.drop(\"id\")\n",
    "# moviesDF = moviesDF.drop(\"title\")\n",
    "moviesDF = moviesDF.drop(\"adult\")\n",
    "moviesDF = moviesDF.drop(\"backdrop_path\")\n",
    "moviesDF = moviesDF.drop(\"homepage\")\n",
    "moviesDF = moviesDF.drop(\"imdb_id\")\n",
    "moviesDF = moviesDF.drop(\"original_language\")\n",
    "moviesDF = moviesDF.drop(\"original_title\")\n",
    "moviesDF = moviesDF.drop(\"homepage\")\n",
    "moviesDF = moviesDF.drop(\"overview\")\n",
    "moviesDF = moviesDF.drop(\"poster_path\")\n",
    "moviesDF = moviesDF.drop(\"tagline\")\n",
    "moviesDF = moviesDF.drop(\"production_companies\")\n",
    "moviesDF = moviesDF.drop(\"production_countries\")\n",
    "moviesDF = moviesDF.drop(\"spoken_languages\")\n",
    "moviesDF = moviesDF.drop(\"release_date\")\n",
    "moviesDF.toPandas().head()"
   ]
  },
  {
   "cell_type": "code",
   "execution_count": 18,
   "id": "8afea35f",
   "metadata": {
    "scrolled": false
   },
   "outputs": [
    {
     "name": "stderr",
     "output_type": "stream",
     "text": [
      "                                                                                \r"
     ]
    },
    {
     "data": {
      "text/html": [
       "<div>\n",
       "<style scoped>\n",
       "    .dataframe tbody tr th:only-of-type {\n",
       "        vertical-align: middle;\n",
       "    }\n",
       "\n",
       "    .dataframe tbody tr th {\n",
       "        vertical-align: top;\n",
       "    }\n",
       "\n",
       "    .dataframe thead th {\n",
       "        text-align: right;\n",
       "    }\n",
       "</style>\n",
       "<table border=\"1\" class=\"dataframe\">\n",
       "  <thead>\n",
       "    <tr style=\"text-align: right;\">\n",
       "      <th></th>\n",
       "      <th>release_year</th>\n",
       "    </tr>\n",
       "  </thead>\n",
       "  <tbody>\n",
       "    <tr>\n",
       "      <th>count</th>\n",
       "      <td>850217.000000</td>\n",
       "    </tr>\n",
       "    <tr>\n",
       "      <th>mean</th>\n",
       "      <td>1998.653910</td>\n",
       "    </tr>\n",
       "    <tr>\n",
       "      <th>std</th>\n",
       "      <td>26.748655</td>\n",
       "    </tr>\n",
       "    <tr>\n",
       "      <th>min</th>\n",
       "      <td>1865.000000</td>\n",
       "    </tr>\n",
       "    <tr>\n",
       "      <th>25%</th>\n",
       "      <td>1988.000000</td>\n",
       "    </tr>\n",
       "    <tr>\n",
       "      <th>50%</th>\n",
       "      <td>2009.000000</td>\n",
       "    </tr>\n",
       "    <tr>\n",
       "      <th>75%</th>\n",
       "      <td>2018.000000</td>\n",
       "    </tr>\n",
       "    <tr>\n",
       "      <th>max</th>\n",
       "      <td>2099.000000</td>\n",
       "    </tr>\n",
       "  </tbody>\n",
       "</table>\n",
       "</div>"
      ],
      "text/plain": [
       "        release_year\n",
       "count  850217.000000\n",
       "mean     1998.653910\n",
       "std        26.748655\n",
       "min      1865.000000\n",
       "25%      1988.000000\n",
       "50%      2009.000000\n",
       "75%      2018.000000\n",
       "max      2099.000000"
      ]
     },
     "execution_count": 18,
     "metadata": {},
     "output_type": "execute_result"
    }
   ],
   "source": [
    "moviesDF.select(\"release_year\").toPandas().describe()"
   ]
  },
  {
   "cell_type": "code",
   "execution_count": 19,
   "id": "c0bb57f3",
   "metadata": {
    "scrolled": false
   },
   "outputs": [
    {
     "name": "stderr",
     "output_type": "stream",
     "text": [
      "                                                                                \r"
     ]
    },
    {
     "data": {
      "text/plain": [
       "477957"
      ]
     },
     "execution_count": 19,
     "metadata": {},
     "output_type": "execute_result"
    }
   ],
   "source": [
    "allMoviesDF = moviesDF\n",
    "\n",
    "moviesDF = moviesDF.where(\"popularity > 0 AND genres IS NOT NULL AND runtime > 0 AND status = 'Released' AND release_year > 1900\")\n",
    "moviesDF.count()\n",
    "#spark.sql(\"SELECT COUNT(release_year) FROM movies WHERE popularity > 0 AND genres IS NOT NULL AND runtime > 0 AND status = 'Released' AND release_year > 1980\").show()"
   ]
  },
  {
   "cell_type": "code",
   "execution_count": 20,
   "id": "0af233d3",
   "metadata": {
    "scrolled": true
   },
   "outputs": [
    {
     "name": "stderr",
     "output_type": "stream",
     "text": [
      "                                                                                \r"
     ]
    },
    {
     "data": {
      "text/html": [
       "<div>\n",
       "<style scoped>\n",
       "    .dataframe tbody tr th:only-of-type {\n",
       "        vertical-align: middle;\n",
       "    }\n",
       "\n",
       "    .dataframe tbody tr th {\n",
       "        vertical-align: top;\n",
       "    }\n",
       "\n",
       "    .dataframe thead th {\n",
       "        text-align: right;\n",
       "    }\n",
       "</style>\n",
       "<table border=\"1\" class=\"dataframe\">\n",
       "  <thead>\n",
       "    <tr style=\"text-align: right;\">\n",
       "      <th></th>\n",
       "      <th>vote_average</th>\n",
       "      <th>vote_count</th>\n",
       "      <th>revenue</th>\n",
       "      <th>runtime</th>\n",
       "      <th>budget</th>\n",
       "      <th>popularity</th>\n",
       "      <th>release_year</th>\n",
       "    </tr>\n",
       "  </thead>\n",
       "  <tbody>\n",
       "    <tr>\n",
       "      <th>count</th>\n",
       "      <td>477957.000000</td>\n",
       "      <td>477957.000000</td>\n",
       "      <td>4.779530e+05</td>\n",
       "      <td>477957.000000</td>\n",
       "      <td>4.779570e+05</td>\n",
       "      <td>477957.000000</td>\n",
       "      <td>477957.000000</td>\n",
       "    </tr>\n",
       "    <tr>\n",
       "      <th>mean</th>\n",
       "      <td>3.192882</td>\n",
       "      <td>44.415774</td>\n",
       "      <td>1.474315e+06</td>\n",
       "      <td>69.572265</td>\n",
       "      <td>5.738069e+05</td>\n",
       "      <td>2.092083</td>\n",
       "      <td>1997.926631</td>\n",
       "    </tr>\n",
       "    <tr>\n",
       "      <th>std</th>\n",
       "      <td>3.252265</td>\n",
       "      <td>490.023659</td>\n",
       "      <td>2.359842e+07</td>\n",
       "      <td>60.881496</td>\n",
       "      <td>6.739161e+06</td>\n",
       "      <td>11.475749</td>\n",
       "      <td>26.740034</td>\n",
       "    </tr>\n",
       "    <tr>\n",
       "      <th>min</th>\n",
       "      <td>0.000000</td>\n",
       "      <td>0.000000</td>\n",
       "      <td>0.000000e+00</td>\n",
       "      <td>1.000000</td>\n",
       "      <td>0.000000e+00</td>\n",
       "      <td>0.600000</td>\n",
       "      <td>1901.000000</td>\n",
       "    </tr>\n",
       "    <tr>\n",
       "      <th>25%</th>\n",
       "      <td>0.000000</td>\n",
       "      <td>0.000000</td>\n",
       "      <td>0.000000e+00</td>\n",
       "      <td>25.000000</td>\n",
       "      <td>0.000000e+00</td>\n",
       "      <td>0.600000</td>\n",
       "      <td>1985.000000</td>\n",
       "    </tr>\n",
       "    <tr>\n",
       "      <th>50%</th>\n",
       "      <td>3.000000</td>\n",
       "      <td>1.000000</td>\n",
       "      <td>0.000000e+00</td>\n",
       "      <td>80.000000</td>\n",
       "      <td>0.000000e+00</td>\n",
       "      <td>0.713000</td>\n",
       "      <td>2009.000000</td>\n",
       "    </tr>\n",
       "    <tr>\n",
       "      <th>75%</th>\n",
       "      <td>6.016000</td>\n",
       "      <td>4.000000</td>\n",
       "      <td>0.000000e+00</td>\n",
       "      <td>96.000000</td>\n",
       "      <td>0.000000e+00</td>\n",
       "      <td>1.492000</td>\n",
       "      <td>2018.000000</td>\n",
       "    </tr>\n",
       "    <tr>\n",
       "      <th>max</th>\n",
       "      <td>10.000000</td>\n",
       "      <td>34495.000000</td>\n",
       "      <td>2.068224e+09</td>\n",
       "      <td>14400.000000</td>\n",
       "      <td>8.880000e+08</td>\n",
       "      <td>2994.356934</td>\n",
       "      <td>2025.000000</td>\n",
       "    </tr>\n",
       "  </tbody>\n",
       "</table>\n",
       "</div>"
      ],
      "text/plain": [
       "        vote_average     vote_count       revenue        runtime  \\\n",
       "count  477957.000000  477957.000000  4.779530e+05  477957.000000   \n",
       "mean        3.192882      44.415774  1.474315e+06      69.572265   \n",
       "std         3.252265     490.023659  2.359842e+07      60.881496   \n",
       "min         0.000000       0.000000  0.000000e+00       1.000000   \n",
       "25%         0.000000       0.000000  0.000000e+00      25.000000   \n",
       "50%         3.000000       1.000000  0.000000e+00      80.000000   \n",
       "75%         6.016000       4.000000  0.000000e+00      96.000000   \n",
       "max        10.000000   34495.000000  2.068224e+09   14400.000000   \n",
       "\n",
       "             budget     popularity   release_year  \n",
       "count  4.779570e+05  477957.000000  477957.000000  \n",
       "mean   5.738069e+05       2.092083    1997.926631  \n",
       "std    6.739161e+06      11.475749      26.740034  \n",
       "min    0.000000e+00       0.600000    1901.000000  \n",
       "25%    0.000000e+00       0.600000    1985.000000  \n",
       "50%    0.000000e+00       0.713000    2009.000000  \n",
       "75%    0.000000e+00       1.492000    2018.000000  \n",
       "max    8.880000e+08    2994.356934    2025.000000  "
      ]
     },
     "execution_count": 20,
     "metadata": {},
     "output_type": "execute_result"
    }
   ],
   "source": [
    "moviesDF.toPandas().describe()"
   ]
  },
  {
   "cell_type": "code",
   "execution_count": 21,
   "id": "b0b4eb63",
   "metadata": {},
   "outputs": [
    {
     "name": "stdout",
     "output_type": "stream",
     "text": [
      "root\n",
      " |-- title: string (nullable = true)\n",
      " |-- vote_average: float (nullable = true)\n",
      " |-- vote_count: integer (nullable = true)\n",
      " |-- status: string (nullable = true)\n",
      " |-- revenue: integer (nullable = true)\n",
      " |-- runtime: integer (nullable = true)\n",
      " |-- budget: integer (nullable = true)\n",
      " |-- popularity: float (nullable = true)\n",
      " |-- genres: string (nullable = true)\n",
      " |-- release_year: integer (nullable = true)\n",
      "\n"
     ]
    }
   ],
   "source": [
    "moviesDF.printSchema()"
   ]
  },
  {
   "cell_type": "code",
   "execution_count": 22,
   "id": "6bfa245a",
   "metadata": {
    "scrolled": true
   },
   "outputs": [
    {
     "name": "stderr",
     "output_type": "stream",
     "text": [
      "                                                                                \r"
     ]
    },
    {
     "data": {
      "text/html": [
       "<div>\n",
       "<style scoped>\n",
       "    .dataframe tbody tr th:only-of-type {\n",
       "        vertical-align: middle;\n",
       "    }\n",
       "\n",
       "    .dataframe tbody tr th {\n",
       "        vertical-align: top;\n",
       "    }\n",
       "\n",
       "    .dataframe thead th {\n",
       "        text-align: right;\n",
       "    }\n",
       "</style>\n",
       "<table border=\"1\" class=\"dataframe\">\n",
       "  <thead>\n",
       "    <tr style=\"text-align: right;\">\n",
       "      <th></th>\n",
       "      <th>title</th>\n",
       "      <th>vote_average</th>\n",
       "      <th>vote_count</th>\n",
       "      <th>status</th>\n",
       "      <th>revenue</th>\n",
       "      <th>runtime</th>\n",
       "      <th>budget</th>\n",
       "      <th>popularity</th>\n",
       "      <th>genres</th>\n",
       "      <th>release_year</th>\n",
       "    </tr>\n",
       "  </thead>\n",
       "  <tbody>\n",
       "    <tr>\n",
       "      <th>0</th>\n",
       "      <td>Inception</td>\n",
       "      <td>8.364</td>\n",
       "      <td>34495</td>\n",
       "      <td>Released</td>\n",
       "      <td>8.255328e+08</td>\n",
       "      <td>148</td>\n",
       "      <td>160000000</td>\n",
       "      <td>83.952003</td>\n",
       "      <td>Action, Science Fiction, Adventure</td>\n",
       "      <td>2010</td>\n",
       "    </tr>\n",
       "    <tr>\n",
       "      <th>1</th>\n",
       "      <td>Interstellar</td>\n",
       "      <td>8.417</td>\n",
       "      <td>32571</td>\n",
       "      <td>Released</td>\n",
       "      <td>7.017292e+08</td>\n",
       "      <td>169</td>\n",
       "      <td>165000000</td>\n",
       "      <td>140.240997</td>\n",
       "      <td>Adventure, Drama, Science Fiction</td>\n",
       "      <td>2014</td>\n",
       "    </tr>\n",
       "    <tr>\n",
       "      <th>2</th>\n",
       "      <td>The Dark Knight</td>\n",
       "      <td>8.512</td>\n",
       "      <td>30619</td>\n",
       "      <td>Released</td>\n",
       "      <td>1.004558e+09</td>\n",
       "      <td>152</td>\n",
       "      <td>185000000</td>\n",
       "      <td>130.643005</td>\n",
       "      <td>Drama, Action, Crime, Thriller</td>\n",
       "      <td>2008</td>\n",
       "    </tr>\n",
       "    <tr>\n",
       "      <th>3</th>\n",
       "      <td>Avatar</td>\n",
       "      <td>7.573</td>\n",
       "      <td>29815</td>\n",
       "      <td>Released</td>\n",
       "      <td>NaN</td>\n",
       "      <td>162</td>\n",
       "      <td>237000000</td>\n",
       "      <td>79.931999</td>\n",
       "      <td>Action, Adventure, Fantasy, Science Fiction</td>\n",
       "      <td>2009</td>\n",
       "    </tr>\n",
       "    <tr>\n",
       "      <th>4</th>\n",
       "      <td>The Avengers</td>\n",
       "      <td>7.710</td>\n",
       "      <td>29166</td>\n",
       "      <td>Released</td>\n",
       "      <td>1.518816e+09</td>\n",
       "      <td>143</td>\n",
       "      <td>220000000</td>\n",
       "      <td>98.082001</td>\n",
       "      <td>Science Fiction, Action, Adventure</td>\n",
       "      <td>2012</td>\n",
       "    </tr>\n",
       "  </tbody>\n",
       "</table>\n",
       "</div>"
      ],
      "text/plain": [
       "             title  vote_average  vote_count    status       revenue  runtime  \\\n",
       "0        Inception         8.364       34495  Released  8.255328e+08      148   \n",
       "1     Interstellar         8.417       32571  Released  7.017292e+08      169   \n",
       "2  The Dark Knight         8.512       30619  Released  1.004558e+09      152   \n",
       "3           Avatar         7.573       29815  Released           NaN      162   \n",
       "4     The Avengers         7.710       29166  Released  1.518816e+09      143   \n",
       "\n",
       "      budget  popularity                                       genres  \\\n",
       "0  160000000   83.952003           Action, Science Fiction, Adventure   \n",
       "1  165000000  140.240997            Adventure, Drama, Science Fiction   \n",
       "2  185000000  130.643005               Drama, Action, Crime, Thriller   \n",
       "3  237000000   79.931999  Action, Adventure, Fantasy, Science Fiction   \n",
       "4  220000000   98.082001           Science Fiction, Action, Adventure   \n",
       "\n",
       "   release_year  \n",
       "0          2010  \n",
       "1          2014  \n",
       "2          2008  \n",
       "3          2009  \n",
       "4          2012  "
      ]
     },
     "execution_count": 22,
     "metadata": {},
     "output_type": "execute_result"
    }
   ],
   "source": [
    "moviesDF.toPandas().head()"
   ]
  },
  {
   "cell_type": "markdown",
   "id": "bcf6d5f8",
   "metadata": {},
   "source": [
    "### Missing values for new dataset"
   ]
  },
  {
   "cell_type": "code",
   "execution_count": 23,
   "id": "3f069121",
   "metadata": {
    "scrolled": false
   },
   "outputs": [
    {
     "name": "stderr",
     "output_type": "stream",
     "text": [
      "                                                                                \r"
     ]
    },
    {
     "data": {
      "text/html": [
       "<div>\n",
       "<style scoped>\n",
       "    .dataframe tbody tr th:only-of-type {\n",
       "        vertical-align: middle;\n",
       "    }\n",
       "\n",
       "    .dataframe tbody tr th {\n",
       "        vertical-align: top;\n",
       "    }\n",
       "\n",
       "    .dataframe thead th {\n",
       "        text-align: right;\n",
       "    }\n",
       "</style>\n",
       "<table border=\"1\" class=\"dataframe\">\n",
       "  <thead>\n",
       "    <tr style=\"text-align: right;\">\n",
       "      <th></th>\n",
       "      <th>vote_average</th>\n",
       "      <th>vote_count</th>\n",
       "      <th>revenue</th>\n",
       "      <th>runtime</th>\n",
       "      <th>budget</th>\n",
       "      <th>popularity</th>\n",
       "      <th>release_year</th>\n",
       "    </tr>\n",
       "  </thead>\n",
       "  <tbody>\n",
       "    <tr>\n",
       "      <th>0</th>\n",
       "      <td>222483</td>\n",
       "      <td>222380</td>\n",
       "      <td>461166</td>\n",
       "      <td>0</td>\n",
       "      <td>444139</td>\n",
       "      <td>0</td>\n",
       "      <td>0</td>\n",
       "    </tr>\n",
       "  </tbody>\n",
       "</table>\n",
       "</div>"
      ],
      "text/plain": [
       "   vote_average  vote_count  revenue  runtime  budget  popularity  \\\n",
       "0        222483      222380   461166        0  444139           0   \n",
       "\n",
       "   release_year  \n",
       "0             0  "
      ]
     },
     "execution_count": 23,
     "metadata": {},
     "output_type": "execute_result"
    }
   ],
   "source": [
    "moviesDF.select([fn.count(fn.when(fn.col(c) == 0, c)).alias(c) for c in numericalColumns]).toPandas().head()"
   ]
  },
  {
   "cell_type": "code",
   "execution_count": 24,
   "id": "b9662583",
   "metadata": {},
   "outputs": [],
   "source": [
    "# moviesDF = moviesDF.drop(\"vote_average\")\n",
    "# moviesDF = moviesDF.drop(\"vote_count\")\n",
    "moviesDF = moviesDF.drop(\"revenue\")\n",
    "moviesDF = moviesDF.drop(\"budget\")\n",
    "\n",
    "# numericalColumns.remove(\"vote_average\")\n",
    "# numericalColumns.remove(\"vote_count\")\n",
    "numericalColumns.remove(\"revenue\")\n",
    "numericalColumns.remove(\"budget\")"
   ]
  },
  {
   "cell_type": "code",
   "execution_count": 25,
   "id": "d65b823d",
   "metadata": {
    "scrolled": true
   },
   "outputs": [
    {
     "name": "stderr",
     "output_type": "stream",
     "text": [
      "                                                                                \r"
     ]
    },
    {
     "data": {
      "text/html": [
       "<div>\n",
       "<style scoped>\n",
       "    .dataframe tbody tr th:only-of-type {\n",
       "        vertical-align: middle;\n",
       "    }\n",
       "\n",
       "    .dataframe tbody tr th {\n",
       "        vertical-align: top;\n",
       "    }\n",
       "\n",
       "    .dataframe thead th {\n",
       "        text-align: right;\n",
       "    }\n",
       "</style>\n",
       "<table border=\"1\" class=\"dataframe\">\n",
       "  <thead>\n",
       "    <tr style=\"text-align: right;\">\n",
       "      <th></th>\n",
       "      <th>title</th>\n",
       "      <th>vote_average</th>\n",
       "      <th>status</th>\n",
       "      <th>runtime</th>\n",
       "      <th>popularity</th>\n",
       "      <th>genres</th>\n",
       "      <th>release_year</th>\n",
       "    </tr>\n",
       "  </thead>\n",
       "  <tbody>\n",
       "    <tr>\n",
       "      <th>0</th>\n",
       "      <td>Inception</td>\n",
       "      <td>8.364</td>\n",
       "      <td>Released</td>\n",
       "      <td>148</td>\n",
       "      <td>83.952003</td>\n",
       "      <td>Action, Science Fiction, Adventure</td>\n",
       "      <td>2010</td>\n",
       "    </tr>\n",
       "    <tr>\n",
       "      <th>1</th>\n",
       "      <td>Interstellar</td>\n",
       "      <td>8.417</td>\n",
       "      <td>Released</td>\n",
       "      <td>169</td>\n",
       "      <td>140.240997</td>\n",
       "      <td>Adventure, Drama, Science Fiction</td>\n",
       "      <td>2014</td>\n",
       "    </tr>\n",
       "    <tr>\n",
       "      <th>2</th>\n",
       "      <td>The Dark Knight</td>\n",
       "      <td>8.512</td>\n",
       "      <td>Released</td>\n",
       "      <td>152</td>\n",
       "      <td>130.643005</td>\n",
       "      <td>Drama, Action, Crime, Thriller</td>\n",
       "      <td>2008</td>\n",
       "    </tr>\n",
       "    <tr>\n",
       "      <th>3</th>\n",
       "      <td>Avatar</td>\n",
       "      <td>7.573</td>\n",
       "      <td>Released</td>\n",
       "      <td>162</td>\n",
       "      <td>79.931999</td>\n",
       "      <td>Action, Adventure, Fantasy, Science Fiction</td>\n",
       "      <td>2009</td>\n",
       "    </tr>\n",
       "    <tr>\n",
       "      <th>4</th>\n",
       "      <td>The Avengers</td>\n",
       "      <td>7.710</td>\n",
       "      <td>Released</td>\n",
       "      <td>143</td>\n",
       "      <td>98.082001</td>\n",
       "      <td>Science Fiction, Action, Adventure</td>\n",
       "      <td>2012</td>\n",
       "    </tr>\n",
       "  </tbody>\n",
       "</table>\n",
       "</div>"
      ],
      "text/plain": [
       "             title  vote_average    status  runtime  popularity  \\\n",
       "0        Inception         8.364  Released      148   83.952003   \n",
       "1     Interstellar         8.417  Released      169  140.240997   \n",
       "2  The Dark Knight         8.512  Released      152  130.643005   \n",
       "3           Avatar         7.573  Released      162   79.931999   \n",
       "4     The Avengers         7.710  Released      143   98.082001   \n",
       "\n",
       "                                        genres  release_year  \n",
       "0           Action, Science Fiction, Adventure          2010  \n",
       "1            Adventure, Drama, Science Fiction          2014  \n",
       "2               Drama, Action, Crime, Thriller          2008  \n",
       "3  Action, Adventure, Fantasy, Science Fiction          2009  \n",
       "4           Science Fiction, Action, Adventure          2012  "
      ]
     },
     "execution_count": 25,
     "metadata": {},
     "output_type": "execute_result"
    }
   ],
   "source": [
    "moviesDF.toPandas().head()"
   ]
  },
  {
   "cell_type": "markdown",
   "id": "35d272c3",
   "metadata": {},
   "source": [
    "### Outliers"
   ]
  },
  {
   "cell_type": "code",
   "execution_count": 26,
   "id": "a409860d",
   "metadata": {
    "scrolled": true
   },
   "outputs": [
    {
     "name": "stderr",
     "output_type": "stream",
     "text": [
      "                                                                                \r"
     ]
    },
    {
     "data": {
      "text/plain": [
       "{'vote_average': [-9.028500080108643, 15.047500133514404],\n",
       " 'runtime': [-81.5, 202.5],\n",
       " 'popularity': [-0.7994999289512634, 2.932499945163727],\n",
       " 'release_year': [1935.5, 2067.5]}"
      ]
     },
     "execution_count": 26,
     "metadata": {},
     "output_type": "execute_result"
    }
   ],
   "source": [
    "# Check for outliers\n",
    "bounds = {}\n",
    "\n",
    "for col in numericalColumns:\n",
    "    quantiles = moviesDF.approxQuantile(col, [0.25, 0.75], 0.01)\n",
    "    IQR = quantiles[1] - quantiles[0]\n",
    "    bounds[col] = [quantiles[0] - 1.5 * IQR, quantiles[1] + 1.5 * IQR]\n",
    "    \n",
    "bounds"
   ]
  },
  {
   "cell_type": "code",
   "execution_count": 27,
   "id": "a8165be1",
   "metadata": {},
   "outputs": [
    {
     "name": "stderr",
     "output_type": "stream",
     "text": [
      "                                                                                \r"
     ]
    },
    {
     "data": {
      "text/html": [
       "<div>\n",
       "<style scoped>\n",
       "    .dataframe tbody tr th:only-of-type {\n",
       "        vertical-align: middle;\n",
       "    }\n",
       "\n",
       "    .dataframe tbody tr th {\n",
       "        vertical-align: top;\n",
       "    }\n",
       "\n",
       "    .dataframe thead th {\n",
       "        text-align: right;\n",
       "    }\n",
       "</style>\n",
       "<table border=\"1\" class=\"dataframe\">\n",
       "  <thead>\n",
       "    <tr style=\"text-align: right;\">\n",
       "      <th></th>\n",
       "      <th>vote_average_o</th>\n",
       "      <th>runtime_o</th>\n",
       "      <th>popularity_o</th>\n",
       "      <th>release_year_o</th>\n",
       "    </tr>\n",
       "  </thead>\n",
       "  <tbody>\n",
       "    <tr>\n",
       "      <th>0</th>\n",
       "      <td>False</td>\n",
       "      <td>False</td>\n",
       "      <td>True</td>\n",
       "      <td>False</td>\n",
       "    </tr>\n",
       "    <tr>\n",
       "      <th>1</th>\n",
       "      <td>False</td>\n",
       "      <td>False</td>\n",
       "      <td>True</td>\n",
       "      <td>False</td>\n",
       "    </tr>\n",
       "    <tr>\n",
       "      <th>2</th>\n",
       "      <td>False</td>\n",
       "      <td>False</td>\n",
       "      <td>True</td>\n",
       "      <td>False</td>\n",
       "    </tr>\n",
       "    <tr>\n",
       "      <th>3</th>\n",
       "      <td>False</td>\n",
       "      <td>False</td>\n",
       "      <td>True</td>\n",
       "      <td>False</td>\n",
       "    </tr>\n",
       "    <tr>\n",
       "      <th>4</th>\n",
       "      <td>False</td>\n",
       "      <td>False</td>\n",
       "      <td>True</td>\n",
       "      <td>False</td>\n",
       "    </tr>\n",
       "    <tr>\n",
       "      <th>5</th>\n",
       "      <td>False</td>\n",
       "      <td>False</td>\n",
       "      <td>True</td>\n",
       "      <td>False</td>\n",
       "    </tr>\n",
       "    <tr>\n",
       "      <th>6</th>\n",
       "      <td>False</td>\n",
       "      <td>False</td>\n",
       "      <td>True</td>\n",
       "      <td>False</td>\n",
       "    </tr>\n",
       "    <tr>\n",
       "      <th>7</th>\n",
       "      <td>False</td>\n",
       "      <td>False</td>\n",
       "      <td>True</td>\n",
       "      <td>False</td>\n",
       "    </tr>\n",
       "    <tr>\n",
       "      <th>8</th>\n",
       "      <td>False</td>\n",
       "      <td>False</td>\n",
       "      <td>True</td>\n",
       "      <td>False</td>\n",
       "    </tr>\n",
       "    <tr>\n",
       "      <th>9</th>\n",
       "      <td>False</td>\n",
       "      <td>False</td>\n",
       "      <td>True</td>\n",
       "      <td>False</td>\n",
       "    </tr>\n",
       "  </tbody>\n",
       "</table>\n",
       "</div>"
      ],
      "text/plain": [
       "   vote_average_o  runtime_o  popularity_o  release_year_o\n",
       "0           False      False          True           False\n",
       "1           False      False          True           False\n",
       "2           False      False          True           False\n",
       "3           False      False          True           False\n",
       "4           False      False          True           False\n",
       "5           False      False          True           False\n",
       "6           False      False          True           False\n",
       "7           False      False          True           False\n",
       "8           False      False          True           False\n",
       "9           False      False          True           False"
      ]
     },
     "execution_count": 27,
     "metadata": {},
     "output_type": "execute_result"
    }
   ],
   "source": [
    "moviesDF.select([\n",
    "    (\n",
    "        (moviesDF[c] < bounds[c][0]) | \n",
    "        (moviesDF[c] > bounds[c][1])\n",
    "    ).alias(c + '_o') for c in numericalColumns\n",
    "]).toPandas().head(10)"
   ]
  },
  {
   "cell_type": "markdown",
   "id": "6aa4be28",
   "metadata": {},
   "source": [
    "### Binary encoding Genres"
   ]
  },
  {
   "cell_type": "code",
   "execution_count": 28,
   "id": "46a311c9",
   "metadata": {},
   "outputs": [],
   "source": [
    "from pyspark.sql.functions import split, explode, udf, col, size, expr\n",
    "\n",
    "tempDF = moviesDF.withColumn(\"genre_tokens\", split(moviesDF[\"genres\"], \",\"))\n",
    "tempDF = tempDF.withColumn(\"genre_tokens\", expr(\"TRANSFORM(genre_tokens, x -> TRIM(x))\"))\n",
    "tempDF = tempDF.withColumn(\"genre_count\", size(col(\"genre_tokens\")))\n",
    "\n",
    "numericalColumns.append(\"genre_count\")"
   ]
  },
  {
   "cell_type": "code",
   "execution_count": 29,
   "id": "dfdd78b1",
   "metadata": {},
   "outputs": [
    {
     "name": "stderr",
     "output_type": "stream",
     "text": [
      "                                                                                \r"
     ]
    },
    {
     "data": {
      "text/plain": [
       "['Action',\n",
       " 'Adventure',\n",
       " 'Animation',\n",
       " 'Comedy',\n",
       " 'Crime',\n",
       " 'Documentary',\n",
       " 'Drama',\n",
       " 'Family',\n",
       " 'Fantasy',\n",
       " 'History',\n",
       " 'Horror',\n",
       " 'Music',\n",
       " 'Mystery',\n",
       " 'Romance',\n",
       " 'Science Fiction',\n",
       " 'TV Movie',\n",
       " 'Thriller',\n",
       " 'War',\n",
       " 'Western']"
      ]
     },
     "execution_count": 29,
     "metadata": {},
     "output_type": "execute_result"
    }
   ],
   "source": [
    "uniqueGenres = sorted(set(token for row in tempDF.select(\"genre_tokens\").collect() for token in row.genre_tokens))\n",
    "uniqueGenres"
   ]
  },
  {
   "cell_type": "code",
   "execution_count": 30,
   "id": "fc900c98",
   "metadata": {
    "scrolled": false
   },
   "outputs": [
    {
     "name": "stderr",
     "output_type": "stream",
     "text": [
      "                                                                                \r"
     ]
    },
    {
     "data": {
      "text/html": [
       "<div>\n",
       "<style scoped>\n",
       "    .dataframe tbody tr th:only-of-type {\n",
       "        vertical-align: middle;\n",
       "    }\n",
       "\n",
       "    .dataframe tbody tr th {\n",
       "        vertical-align: top;\n",
       "    }\n",
       "\n",
       "    .dataframe thead th {\n",
       "        text-align: right;\n",
       "    }\n",
       "</style>\n",
       "<table border=\"1\" class=\"dataframe\">\n",
       "  <thead>\n",
       "    <tr style=\"text-align: right;\">\n",
       "      <th></th>\n",
       "      <th>vote_average</th>\n",
       "      <th>runtime</th>\n",
       "      <th>popularity</th>\n",
       "      <th>release_year</th>\n",
       "      <th>genre_count</th>\n",
       "    </tr>\n",
       "  </thead>\n",
       "  <tbody>\n",
       "    <tr>\n",
       "      <th>count</th>\n",
       "      <td>477957.000000</td>\n",
       "      <td>477957.000000</td>\n",
       "      <td>477957.000000</td>\n",
       "      <td>477957.000000</td>\n",
       "      <td>477957.000000</td>\n",
       "    </tr>\n",
       "    <tr>\n",
       "      <th>mean</th>\n",
       "      <td>3.192882</td>\n",
       "      <td>69.572265</td>\n",
       "      <td>2.092083</td>\n",
       "      <td>1997.926631</td>\n",
       "      <td>1.584404</td>\n",
       "    </tr>\n",
       "    <tr>\n",
       "      <th>std</th>\n",
       "      <td>3.252265</td>\n",
       "      <td>60.881496</td>\n",
       "      <td>11.475749</td>\n",
       "      <td>26.740034</td>\n",
       "      <td>0.836106</td>\n",
       "    </tr>\n",
       "    <tr>\n",
       "      <th>min</th>\n",
       "      <td>0.000000</td>\n",
       "      <td>1.000000</td>\n",
       "      <td>0.600000</td>\n",
       "      <td>1901.000000</td>\n",
       "      <td>1.000000</td>\n",
       "    </tr>\n",
       "    <tr>\n",
       "      <th>25%</th>\n",
       "      <td>0.000000</td>\n",
       "      <td>25.000000</td>\n",
       "      <td>0.600000</td>\n",
       "      <td>1985.000000</td>\n",
       "      <td>1.000000</td>\n",
       "    </tr>\n",
       "    <tr>\n",
       "      <th>50%</th>\n",
       "      <td>3.000000</td>\n",
       "      <td>80.000000</td>\n",
       "      <td>0.713000</td>\n",
       "      <td>2009.000000</td>\n",
       "      <td>1.000000</td>\n",
       "    </tr>\n",
       "    <tr>\n",
       "      <th>75%</th>\n",
       "      <td>6.016000</td>\n",
       "      <td>96.000000</td>\n",
       "      <td>1.492000</td>\n",
       "      <td>2018.000000</td>\n",
       "      <td>2.000000</td>\n",
       "    </tr>\n",
       "    <tr>\n",
       "      <th>max</th>\n",
       "      <td>10.000000</td>\n",
       "      <td>14400.000000</td>\n",
       "      <td>2994.356934</td>\n",
       "      <td>2025.000000</td>\n",
       "      <td>16.000000</td>\n",
       "    </tr>\n",
       "  </tbody>\n",
       "</table>\n",
       "</div>"
      ],
      "text/plain": [
       "        vote_average        runtime     popularity   release_year  \\\n",
       "count  477957.000000  477957.000000  477957.000000  477957.000000   \n",
       "mean        3.192882      69.572265       2.092083    1997.926631   \n",
       "std         3.252265      60.881496      11.475749      26.740034   \n",
       "min         0.000000       1.000000       0.600000    1901.000000   \n",
       "25%         0.000000      25.000000       0.600000    1985.000000   \n",
       "50%         3.000000      80.000000       0.713000    2009.000000   \n",
       "75%         6.016000      96.000000       1.492000    2018.000000   \n",
       "max        10.000000   14400.000000    2994.356934    2025.000000   \n",
       "\n",
       "         genre_count  \n",
       "count  477957.000000  \n",
       "mean        1.584404  \n",
       "std         0.836106  \n",
       "min         1.000000  \n",
       "25%         1.000000  \n",
       "50%         1.000000  \n",
       "75%         2.000000  \n",
       "max        16.000000  "
      ]
     },
     "execution_count": 30,
     "metadata": {},
     "output_type": "execute_result"
    }
   ],
   "source": [
    "tempDF.toPandas().describe()"
   ]
  },
  {
   "cell_type": "code",
   "execution_count": 31,
   "id": "9c227def",
   "metadata": {},
   "outputs": [],
   "source": [
    "def createGenreIndicator(genre):\n",
    "    return udf(lambda tokens: 1 if genre in tokens else 0, IntegerType())\n",
    "\n",
    "for genre in uniqueGenres:\n",
    "    indicator = genre\n",
    "    tempDF = tempDF.withColumn(indicator, createGenreIndicator(genre)(col(\"genre_tokens\")))"
   ]
  },
  {
   "cell_type": "code",
   "execution_count": 32,
   "id": "a408fa16",
   "metadata": {
    "scrolled": true
   },
   "outputs": [
    {
     "name": "stderr",
     "output_type": "stream",
     "text": [
      "2023-10-08 12:22:42,675 WARN util.package: Truncated the string representation of a plan since it was too large. This behavior can be adjusted by setting 'spark.sql.debug.maxToStringFields'.\n",
      "                                                                                \r"
     ]
    },
    {
     "data": {
      "text/html": [
       "<div>\n",
       "<style scoped>\n",
       "    .dataframe tbody tr th:only-of-type {\n",
       "        vertical-align: middle;\n",
       "    }\n",
       "\n",
       "    .dataframe tbody tr th {\n",
       "        vertical-align: top;\n",
       "    }\n",
       "\n",
       "    .dataframe thead th {\n",
       "        text-align: right;\n",
       "    }\n",
       "</style>\n",
       "<table border=\"1\" class=\"dataframe\">\n",
       "  <thead>\n",
       "    <tr style=\"text-align: right;\">\n",
       "      <th></th>\n",
       "      <th>title</th>\n",
       "      <th>vote_average</th>\n",
       "      <th>status</th>\n",
       "      <th>runtime</th>\n",
       "      <th>popularity</th>\n",
       "      <th>genres</th>\n",
       "      <th>release_year</th>\n",
       "      <th>genre_tokens</th>\n",
       "      <th>genre_count</th>\n",
       "      <th>Action</th>\n",
       "      <th>Adventure</th>\n",
       "      <th>Animation</th>\n",
       "      <th>Comedy</th>\n",
       "      <th>Crime</th>\n",
       "      <th>Documentary</th>\n",
       "      <th>Drama</th>\n",
       "      <th>Family</th>\n",
       "      <th>Fantasy</th>\n",
       "      <th>History</th>\n",
       "      <th>Horror</th>\n",
       "      <th>Music</th>\n",
       "      <th>Mystery</th>\n",
       "      <th>Romance</th>\n",
       "      <th>Science Fiction</th>\n",
       "      <th>TV Movie</th>\n",
       "      <th>Thriller</th>\n",
       "      <th>War</th>\n",
       "      <th>Western</th>\n",
       "    </tr>\n",
       "  </thead>\n",
       "  <tbody>\n",
       "    <tr>\n",
       "      <th>0</th>\n",
       "      <td>Inception</td>\n",
       "      <td>8.364</td>\n",
       "      <td>Released</td>\n",
       "      <td>148</td>\n",
       "      <td>83.952003</td>\n",
       "      <td>Action, Science Fiction, Adventure</td>\n",
       "      <td>2010</td>\n",
       "      <td>[War, Science Fiction, Adventure]</td>\n",
       "      <td>3</td>\n",
       "      <td>1</td>\n",
       "      <td>1</td>\n",
       "      <td>0</td>\n",
       "      <td>0</td>\n",
       "      <td>0</td>\n",
       "      <td>0</td>\n",
       "      <td>0</td>\n",
       "      <td>0</td>\n",
       "      <td>0</td>\n",
       "      <td>0</td>\n",
       "      <td>0</td>\n",
       "      <td>0</td>\n",
       "      <td>0</td>\n",
       "      <td>0</td>\n",
       "      <td>1</td>\n",
       "      <td>0</td>\n",
       "      <td>0</td>\n",
       "      <td>0</td>\n",
       "      <td>0</td>\n",
       "    </tr>\n",
       "    <tr>\n",
       "      <th>1</th>\n",
       "      <td>Interstellar</td>\n",
       "      <td>8.417</td>\n",
       "      <td>Released</td>\n",
       "      <td>169</td>\n",
       "      <td>140.240997</td>\n",
       "      <td>Adventure, Drama, Science Fiction</td>\n",
       "      <td>2014</td>\n",
       "      <td>[Adventure, Drama, Science Fiction]</td>\n",
       "      <td>3</td>\n",
       "      <td>0</td>\n",
       "      <td>1</td>\n",
       "      <td>0</td>\n",
       "      <td>0</td>\n",
       "      <td>0</td>\n",
       "      <td>0</td>\n",
       "      <td>1</td>\n",
       "      <td>0</td>\n",
       "      <td>0</td>\n",
       "      <td>0</td>\n",
       "      <td>0</td>\n",
       "      <td>0</td>\n",
       "      <td>0</td>\n",
       "      <td>0</td>\n",
       "      <td>1</td>\n",
       "      <td>0</td>\n",
       "      <td>0</td>\n",
       "      <td>0</td>\n",
       "      <td>0</td>\n",
       "    </tr>\n",
       "    <tr>\n",
       "      <th>2</th>\n",
       "      <td>The Dark Knight</td>\n",
       "      <td>8.512</td>\n",
       "      <td>Released</td>\n",
       "      <td>152</td>\n",
       "      <td>130.643005</td>\n",
       "      <td>Drama, Action, Crime, Thriller</td>\n",
       "      <td>2008</td>\n",
       "      <td>[Drama, Action, Crime, Thriller]</td>\n",
       "      <td>4</td>\n",
       "      <td>1</td>\n",
       "      <td>0</td>\n",
       "      <td>0</td>\n",
       "      <td>0</td>\n",
       "      <td>1</td>\n",
       "      <td>0</td>\n",
       "      <td>1</td>\n",
       "      <td>0</td>\n",
       "      <td>0</td>\n",
       "      <td>0</td>\n",
       "      <td>0</td>\n",
       "      <td>0</td>\n",
       "      <td>0</td>\n",
       "      <td>0</td>\n",
       "      <td>0</td>\n",
       "      <td>0</td>\n",
       "      <td>1</td>\n",
       "      <td>0</td>\n",
       "      <td>0</td>\n",
       "    </tr>\n",
       "    <tr>\n",
       "      <th>3</th>\n",
       "      <td>Avatar</td>\n",
       "      <td>7.573</td>\n",
       "      <td>Released</td>\n",
       "      <td>162</td>\n",
       "      <td>79.931999</td>\n",
       "      <td>Action, Adventure, Fantasy, Science Fiction</td>\n",
       "      <td>2009</td>\n",
       "      <td>[Action, Adventure, Fantasy, Science Fiction]</td>\n",
       "      <td>4</td>\n",
       "      <td>1</td>\n",
       "      <td>1</td>\n",
       "      <td>0</td>\n",
       "      <td>0</td>\n",
       "      <td>0</td>\n",
       "      <td>0</td>\n",
       "      <td>0</td>\n",
       "      <td>0</td>\n",
       "      <td>1</td>\n",
       "      <td>0</td>\n",
       "      <td>0</td>\n",
       "      <td>0</td>\n",
       "      <td>0</td>\n",
       "      <td>0</td>\n",
       "      <td>1</td>\n",
       "      <td>0</td>\n",
       "      <td>0</td>\n",
       "      <td>0</td>\n",
       "      <td>0</td>\n",
       "    </tr>\n",
       "    <tr>\n",
       "      <th>4</th>\n",
       "      <td>The Avengers</td>\n",
       "      <td>7.710</td>\n",
       "      <td>Released</td>\n",
       "      <td>143</td>\n",
       "      <td>98.082001</td>\n",
       "      <td>Science Fiction, Action, Adventure</td>\n",
       "      <td>2012</td>\n",
       "      <td>[Science Fiction, Action, Adventure]</td>\n",
       "      <td>3</td>\n",
       "      <td>1</td>\n",
       "      <td>1</td>\n",
       "      <td>0</td>\n",
       "      <td>0</td>\n",
       "      <td>0</td>\n",
       "      <td>0</td>\n",
       "      <td>0</td>\n",
       "      <td>0</td>\n",
       "      <td>0</td>\n",
       "      <td>0</td>\n",
       "      <td>0</td>\n",
       "      <td>0</td>\n",
       "      <td>0</td>\n",
       "      <td>0</td>\n",
       "      <td>1</td>\n",
       "      <td>0</td>\n",
       "      <td>0</td>\n",
       "      <td>0</td>\n",
       "      <td>0</td>\n",
       "    </tr>\n",
       "  </tbody>\n",
       "</table>\n",
       "</div>"
      ],
      "text/plain": [
       "             title  vote_average    status  runtime  popularity  \\\n",
       "0        Inception         8.364  Released      148   83.952003   \n",
       "1     Interstellar         8.417  Released      169  140.240997   \n",
       "2  The Dark Knight         8.512  Released      152  130.643005   \n",
       "3           Avatar         7.573  Released      162   79.931999   \n",
       "4     The Avengers         7.710  Released      143   98.082001   \n",
       "\n",
       "                                        genres  release_year  \\\n",
       "0           Action, Science Fiction, Adventure          2010   \n",
       "1            Adventure, Drama, Science Fiction          2014   \n",
       "2               Drama, Action, Crime, Thriller          2008   \n",
       "3  Action, Adventure, Fantasy, Science Fiction          2009   \n",
       "4           Science Fiction, Action, Adventure          2012   \n",
       "\n",
       "                                    genre_tokens  genre_count  Action  \\\n",
       "0              [War, Science Fiction, Adventure]            3       1   \n",
       "1            [Adventure, Drama, Science Fiction]            3       0   \n",
       "2               [Drama, Action, Crime, Thriller]            4       1   \n",
       "3  [Action, Adventure, Fantasy, Science Fiction]            4       1   \n",
       "4           [Science Fiction, Action, Adventure]            3       1   \n",
       "\n",
       "   Adventure  Animation  Comedy  Crime  Documentary  Drama  Family  Fantasy  \\\n",
       "0          1          0       0      0            0      0       0        0   \n",
       "1          1          0       0      0            0      1       0        0   \n",
       "2          0          0       0      1            0      1       0        0   \n",
       "3          1          0       0      0            0      0       0        1   \n",
       "4          1          0       0      0            0      0       0        0   \n",
       "\n",
       "   History  Horror  Music  Mystery  Romance  Science Fiction  TV Movie  \\\n",
       "0        0       0      0        0        0                1         0   \n",
       "1        0       0      0        0        0                1         0   \n",
       "2        0       0      0        0        0                0         0   \n",
       "3        0       0      0        0        0                1         0   \n",
       "4        0       0      0        0        0                1         0   \n",
       "\n",
       "   Thriller  War  Western  \n",
       "0         0    0        0  \n",
       "1         0    0        0  \n",
       "2         1    0        0  \n",
       "3         0    0        0  \n",
       "4         0    0        0  "
      ]
     },
     "execution_count": 32,
     "metadata": {},
     "output_type": "execute_result"
    }
   ],
   "source": [
    "tempDF.where(\"genre_count > 1\").toPandas().head()"
   ]
  },
  {
   "cell_type": "code",
   "execution_count": 33,
   "id": "d93922b0",
   "metadata": {},
   "outputs": [],
   "source": [
    "tempDF = tempDF.drop(\"genres\")\n",
    "tempDF = tempDF.drop(\"genre_tokens\")"
   ]
  },
  {
   "cell_type": "code",
   "execution_count": 34,
   "id": "85e653bc",
   "metadata": {
    "scrolled": false
   },
   "outputs": [
    {
     "name": "stderr",
     "output_type": "stream",
     "text": [
      "                                                                                \r"
     ]
    },
    {
     "data": {
      "text/html": [
       "<div>\n",
       "<style scoped>\n",
       "    .dataframe tbody tr th:only-of-type {\n",
       "        vertical-align: middle;\n",
       "    }\n",
       "\n",
       "    .dataframe tbody tr th {\n",
       "        vertical-align: top;\n",
       "    }\n",
       "\n",
       "    .dataframe thead th {\n",
       "        text-align: right;\n",
       "    }\n",
       "</style>\n",
       "<table border=\"1\" class=\"dataframe\">\n",
       "  <thead>\n",
       "    <tr style=\"text-align: right;\">\n",
       "      <th></th>\n",
       "      <th>title</th>\n",
       "      <th>vote_average</th>\n",
       "      <th>status</th>\n",
       "      <th>runtime</th>\n",
       "      <th>popularity</th>\n",
       "      <th>release_year</th>\n",
       "      <th>genre_count</th>\n",
       "      <th>Action</th>\n",
       "      <th>Adventure</th>\n",
       "      <th>Animation</th>\n",
       "      <th>Comedy</th>\n",
       "      <th>Crime</th>\n",
       "      <th>Documentary</th>\n",
       "      <th>Drama</th>\n",
       "      <th>Family</th>\n",
       "      <th>Fantasy</th>\n",
       "      <th>History</th>\n",
       "      <th>Horror</th>\n",
       "      <th>Music</th>\n",
       "      <th>Mystery</th>\n",
       "      <th>Romance</th>\n",
       "      <th>Science Fiction</th>\n",
       "      <th>TV Movie</th>\n",
       "      <th>Thriller</th>\n",
       "      <th>War</th>\n",
       "      <th>Western</th>\n",
       "    </tr>\n",
       "  </thead>\n",
       "  <tbody>\n",
       "    <tr>\n",
       "      <th>0</th>\n",
       "      <td>Inception</td>\n",
       "      <td>8.364</td>\n",
       "      <td>Released</td>\n",
       "      <td>148</td>\n",
       "      <td>83.952003</td>\n",
       "      <td>2010</td>\n",
       "      <td>3</td>\n",
       "      <td>1</td>\n",
       "      <td>1</td>\n",
       "      <td>0</td>\n",
       "      <td>0</td>\n",
       "      <td>0</td>\n",
       "      <td>0</td>\n",
       "      <td>0</td>\n",
       "      <td>0</td>\n",
       "      <td>0</td>\n",
       "      <td>0</td>\n",
       "      <td>0</td>\n",
       "      <td>0</td>\n",
       "      <td>0</td>\n",
       "      <td>0</td>\n",
       "      <td>1</td>\n",
       "      <td>0</td>\n",
       "      <td>0</td>\n",
       "      <td>0</td>\n",
       "      <td>0</td>\n",
       "    </tr>\n",
       "    <tr>\n",
       "      <th>1</th>\n",
       "      <td>Interstellar</td>\n",
       "      <td>8.417</td>\n",
       "      <td>Released</td>\n",
       "      <td>169</td>\n",
       "      <td>140.240997</td>\n",
       "      <td>2014</td>\n",
       "      <td>3</td>\n",
       "      <td>0</td>\n",
       "      <td>1</td>\n",
       "      <td>0</td>\n",
       "      <td>0</td>\n",
       "      <td>0</td>\n",
       "      <td>0</td>\n",
       "      <td>1</td>\n",
       "      <td>0</td>\n",
       "      <td>0</td>\n",
       "      <td>0</td>\n",
       "      <td>0</td>\n",
       "      <td>0</td>\n",
       "      <td>0</td>\n",
       "      <td>0</td>\n",
       "      <td>1</td>\n",
       "      <td>0</td>\n",
       "      <td>0</td>\n",
       "      <td>0</td>\n",
       "      <td>0</td>\n",
       "    </tr>\n",
       "    <tr>\n",
       "      <th>2</th>\n",
       "      <td>The Dark Knight</td>\n",
       "      <td>8.512</td>\n",
       "      <td>Released</td>\n",
       "      <td>152</td>\n",
       "      <td>130.643005</td>\n",
       "      <td>2008</td>\n",
       "      <td>4</td>\n",
       "      <td>1</td>\n",
       "      <td>0</td>\n",
       "      <td>0</td>\n",
       "      <td>0</td>\n",
       "      <td>1</td>\n",
       "      <td>0</td>\n",
       "      <td>1</td>\n",
       "      <td>0</td>\n",
       "      <td>0</td>\n",
       "      <td>0</td>\n",
       "      <td>0</td>\n",
       "      <td>0</td>\n",
       "      <td>0</td>\n",
       "      <td>0</td>\n",
       "      <td>0</td>\n",
       "      <td>0</td>\n",
       "      <td>1</td>\n",
       "      <td>0</td>\n",
       "      <td>0</td>\n",
       "    </tr>\n",
       "    <tr>\n",
       "      <th>3</th>\n",
       "      <td>Avatar</td>\n",
       "      <td>7.573</td>\n",
       "      <td>Released</td>\n",
       "      <td>162</td>\n",
       "      <td>79.931999</td>\n",
       "      <td>2009</td>\n",
       "      <td>4</td>\n",
       "      <td>1</td>\n",
       "      <td>1</td>\n",
       "      <td>0</td>\n",
       "      <td>0</td>\n",
       "      <td>0</td>\n",
       "      <td>0</td>\n",
       "      <td>0</td>\n",
       "      <td>0</td>\n",
       "      <td>1</td>\n",
       "      <td>0</td>\n",
       "      <td>0</td>\n",
       "      <td>0</td>\n",
       "      <td>0</td>\n",
       "      <td>0</td>\n",
       "      <td>1</td>\n",
       "      <td>0</td>\n",
       "      <td>0</td>\n",
       "      <td>0</td>\n",
       "      <td>0</td>\n",
       "    </tr>\n",
       "    <tr>\n",
       "      <th>4</th>\n",
       "      <td>The Avengers</td>\n",
       "      <td>7.710</td>\n",
       "      <td>Released</td>\n",
       "      <td>143</td>\n",
       "      <td>98.082001</td>\n",
       "      <td>2012</td>\n",
       "      <td>3</td>\n",
       "      <td>1</td>\n",
       "      <td>1</td>\n",
       "      <td>0</td>\n",
       "      <td>0</td>\n",
       "      <td>0</td>\n",
       "      <td>0</td>\n",
       "      <td>0</td>\n",
       "      <td>0</td>\n",
       "      <td>0</td>\n",
       "      <td>0</td>\n",
       "      <td>0</td>\n",
       "      <td>0</td>\n",
       "      <td>0</td>\n",
       "      <td>0</td>\n",
       "      <td>1</td>\n",
       "      <td>0</td>\n",
       "      <td>0</td>\n",
       "      <td>0</td>\n",
       "      <td>0</td>\n",
       "    </tr>\n",
       "  </tbody>\n",
       "</table>\n",
       "</div>"
      ],
      "text/plain": [
       "             title  vote_average    status  runtime  popularity  release_year  \\\n",
       "0        Inception         8.364  Released      148   83.952003          2010   \n",
       "1     Interstellar         8.417  Released      169  140.240997          2014   \n",
       "2  The Dark Knight         8.512  Released      152  130.643005          2008   \n",
       "3           Avatar         7.573  Released      162   79.931999          2009   \n",
       "4     The Avengers         7.710  Released      143   98.082001          2012   \n",
       "\n",
       "   genre_count  Action  Adventure  Animation  Comedy  Crime  Documentary  \\\n",
       "0            3       1          1          0       0      0            0   \n",
       "1            3       0          1          0       0      0            0   \n",
       "2            4       1          0          0       0      1            0   \n",
       "3            4       1          1          0       0      0            0   \n",
       "4            3       1          1          0       0      0            0   \n",
       "\n",
       "   Drama  Family  Fantasy  History  Horror  Music  Mystery  Romance  \\\n",
       "0      0       0        0        0       0      0        0        0   \n",
       "1      1       0        0        0       0      0        0        0   \n",
       "2      1       0        0        0       0      0        0        0   \n",
       "3      0       0        1        0       0      0        0        0   \n",
       "4      0       0        0        0       0      0        0        0   \n",
       "\n",
       "   Science Fiction  TV Movie  Thriller  War  Western  \n",
       "0                1         0         0    0        0  \n",
       "1                1         0         0    0        0  \n",
       "2                0         0         1    0        0  \n",
       "3                1         0         0    0        0  \n",
       "4                1         0         0    0        0  "
      ]
     },
     "execution_count": 34,
     "metadata": {},
     "output_type": "execute_result"
    }
   ],
   "source": [
    "tempDF.toPandas().head(5)"
   ]
  },
  {
   "cell_type": "code",
   "execution_count": 35,
   "id": "60ed5ae5",
   "metadata": {},
   "outputs": [],
   "source": [
    "moviesDF = tempDF"
   ]
  },
  {
   "cell_type": "code",
   "execution_count": 36,
   "id": "192e48e9",
   "metadata": {
    "scrolled": false
   },
   "outputs": [
    {
     "name": "stderr",
     "output_type": "stream",
     "text": [
      "                                                                                \r"
     ]
    },
    {
     "data": {
      "text/html": [
       "<div>\n",
       "<style scoped>\n",
       "    .dataframe tbody tr th:only-of-type {\n",
       "        vertical-align: middle;\n",
       "    }\n",
       "\n",
       "    .dataframe tbody tr th {\n",
       "        vertical-align: top;\n",
       "    }\n",
       "\n",
       "    .dataframe thead th {\n",
       "        text-align: right;\n",
       "    }\n",
       "</style>\n",
       "<table border=\"1\" class=\"dataframe\">\n",
       "  <thead>\n",
       "    <tr style=\"text-align: right;\">\n",
       "      <th></th>\n",
       "      <th>vote_average</th>\n",
       "      <th>runtime</th>\n",
       "      <th>popularity</th>\n",
       "      <th>release_year</th>\n",
       "      <th>genre_count</th>\n",
       "      <th>Action</th>\n",
       "      <th>Adventure</th>\n",
       "      <th>Animation</th>\n",
       "      <th>Comedy</th>\n",
       "      <th>Crime</th>\n",
       "      <th>Documentary</th>\n",
       "      <th>Drama</th>\n",
       "      <th>Family</th>\n",
       "      <th>Fantasy</th>\n",
       "      <th>History</th>\n",
       "      <th>Horror</th>\n",
       "      <th>Music</th>\n",
       "      <th>Mystery</th>\n",
       "      <th>Romance</th>\n",
       "      <th>Science Fiction</th>\n",
       "      <th>TV Movie</th>\n",
       "      <th>Thriller</th>\n",
       "      <th>War</th>\n",
       "      <th>Western</th>\n",
       "    </tr>\n",
       "  </thead>\n",
       "  <tbody>\n",
       "    <tr>\n",
       "      <th>count</th>\n",
       "      <td>477957.000000</td>\n",
       "      <td>477957.000000</td>\n",
       "      <td>477957.000000</td>\n",
       "      <td>477957.000000</td>\n",
       "      <td>477957.000000</td>\n",
       "      <td>477957.000000</td>\n",
       "      <td>477957.000000</td>\n",
       "      <td>477957.000000</td>\n",
       "      <td>477957.000000</td>\n",
       "      <td>477957.000000</td>\n",
       "      <td>477957.000000</td>\n",
       "      <td>477957.000000</td>\n",
       "      <td>477957.000000</td>\n",
       "      <td>477957.000000</td>\n",
       "      <td>477957.000000</td>\n",
       "      <td>477957.000000</td>\n",
       "      <td>477957.000000</td>\n",
       "      <td>477957.000000</td>\n",
       "      <td>477957.000000</td>\n",
       "      <td>477957.000000</td>\n",
       "      <td>477957.000000</td>\n",
       "      <td>477957.000000</td>\n",
       "      <td>477957.000000</td>\n",
       "      <td>477957.000000</td>\n",
       "    </tr>\n",
       "    <tr>\n",
       "      <th>mean</th>\n",
       "      <td>3.192882</td>\n",
       "      <td>69.572265</td>\n",
       "      <td>2.092083</td>\n",
       "      <td>1997.926631</td>\n",
       "      <td>1.584404</td>\n",
       "      <td>0.071069</td>\n",
       "      <td>0.037248</td>\n",
       "      <td>0.090328</td>\n",
       "      <td>0.208801</td>\n",
       "      <td>0.054312</td>\n",
       "      <td>0.232188</td>\n",
       "      <td>0.350452</td>\n",
       "      <td>0.042276</td>\n",
       "      <td>0.034750</td>\n",
       "      <td>0.025186</td>\n",
       "      <td>0.077350</td>\n",
       "      <td>0.064581</td>\n",
       "      <td>0.030706</td>\n",
       "      <td>0.086815</td>\n",
       "      <td>0.033654</td>\n",
       "      <td>0.038654</td>\n",
       "      <td>0.073622</td>\n",
       "      <td>0.016943</td>\n",
       "      <td>0.014939</td>\n",
       "    </tr>\n",
       "    <tr>\n",
       "      <th>std</th>\n",
       "      <td>3.252265</td>\n",
       "      <td>60.881496</td>\n",
       "      <td>11.475749</td>\n",
       "      <td>26.740034</td>\n",
       "      <td>0.836106</td>\n",
       "      <td>0.256941</td>\n",
       "      <td>0.189369</td>\n",
       "      <td>0.286652</td>\n",
       "      <td>0.406452</td>\n",
       "      <td>0.226633</td>\n",
       "      <td>0.422229</td>\n",
       "      <td>0.477112</td>\n",
       "      <td>0.201218</td>\n",
       "      <td>0.183146</td>\n",
       "      <td>0.156691</td>\n",
       "      <td>0.267146</td>\n",
       "      <td>0.245786</td>\n",
       "      <td>0.172519</td>\n",
       "      <td>0.281565</td>\n",
       "      <td>0.180336</td>\n",
       "      <td>0.192769</td>\n",
       "      <td>0.261155</td>\n",
       "      <td>0.129058</td>\n",
       "      <td>0.121307</td>\n",
       "    </tr>\n",
       "    <tr>\n",
       "      <th>min</th>\n",
       "      <td>0.000000</td>\n",
       "      <td>1.000000</td>\n",
       "      <td>0.600000</td>\n",
       "      <td>1901.000000</td>\n",
       "      <td>1.000000</td>\n",
       "      <td>0.000000</td>\n",
       "      <td>0.000000</td>\n",
       "      <td>0.000000</td>\n",
       "      <td>0.000000</td>\n",
       "      <td>0.000000</td>\n",
       "      <td>0.000000</td>\n",
       "      <td>0.000000</td>\n",
       "      <td>0.000000</td>\n",
       "      <td>0.000000</td>\n",
       "      <td>0.000000</td>\n",
       "      <td>0.000000</td>\n",
       "      <td>0.000000</td>\n",
       "      <td>0.000000</td>\n",
       "      <td>0.000000</td>\n",
       "      <td>0.000000</td>\n",
       "      <td>0.000000</td>\n",
       "      <td>0.000000</td>\n",
       "      <td>0.000000</td>\n",
       "      <td>0.000000</td>\n",
       "    </tr>\n",
       "    <tr>\n",
       "      <th>25%</th>\n",
       "      <td>0.000000</td>\n",
       "      <td>25.000000</td>\n",
       "      <td>0.600000</td>\n",
       "      <td>1985.000000</td>\n",
       "      <td>1.000000</td>\n",
       "      <td>0.000000</td>\n",
       "      <td>0.000000</td>\n",
       "      <td>0.000000</td>\n",
       "      <td>0.000000</td>\n",
       "      <td>0.000000</td>\n",
       "      <td>0.000000</td>\n",
       "      <td>0.000000</td>\n",
       "      <td>0.000000</td>\n",
       "      <td>0.000000</td>\n",
       "      <td>0.000000</td>\n",
       "      <td>0.000000</td>\n",
       "      <td>0.000000</td>\n",
       "      <td>0.000000</td>\n",
       "      <td>0.000000</td>\n",
       "      <td>0.000000</td>\n",
       "      <td>0.000000</td>\n",
       "      <td>0.000000</td>\n",
       "      <td>0.000000</td>\n",
       "      <td>0.000000</td>\n",
       "    </tr>\n",
       "    <tr>\n",
       "      <th>50%</th>\n",
       "      <td>3.000000</td>\n",
       "      <td>80.000000</td>\n",
       "      <td>0.713000</td>\n",
       "      <td>2009.000000</td>\n",
       "      <td>1.000000</td>\n",
       "      <td>0.000000</td>\n",
       "      <td>0.000000</td>\n",
       "      <td>0.000000</td>\n",
       "      <td>0.000000</td>\n",
       "      <td>0.000000</td>\n",
       "      <td>0.000000</td>\n",
       "      <td>0.000000</td>\n",
       "      <td>0.000000</td>\n",
       "      <td>0.000000</td>\n",
       "      <td>0.000000</td>\n",
       "      <td>0.000000</td>\n",
       "      <td>0.000000</td>\n",
       "      <td>0.000000</td>\n",
       "      <td>0.000000</td>\n",
       "      <td>0.000000</td>\n",
       "      <td>0.000000</td>\n",
       "      <td>0.000000</td>\n",
       "      <td>0.000000</td>\n",
       "      <td>0.000000</td>\n",
       "    </tr>\n",
       "    <tr>\n",
       "      <th>75%</th>\n",
       "      <td>6.016000</td>\n",
       "      <td>96.000000</td>\n",
       "      <td>1.492000</td>\n",
       "      <td>2018.000000</td>\n",
       "      <td>2.000000</td>\n",
       "      <td>0.000000</td>\n",
       "      <td>0.000000</td>\n",
       "      <td>0.000000</td>\n",
       "      <td>0.000000</td>\n",
       "      <td>0.000000</td>\n",
       "      <td>0.000000</td>\n",
       "      <td>1.000000</td>\n",
       "      <td>0.000000</td>\n",
       "      <td>0.000000</td>\n",
       "      <td>0.000000</td>\n",
       "      <td>0.000000</td>\n",
       "      <td>0.000000</td>\n",
       "      <td>0.000000</td>\n",
       "      <td>0.000000</td>\n",
       "      <td>0.000000</td>\n",
       "      <td>0.000000</td>\n",
       "      <td>0.000000</td>\n",
       "      <td>0.000000</td>\n",
       "      <td>0.000000</td>\n",
       "    </tr>\n",
       "    <tr>\n",
       "      <th>max</th>\n",
       "      <td>10.000000</td>\n",
       "      <td>14400.000000</td>\n",
       "      <td>2994.356934</td>\n",
       "      <td>2025.000000</td>\n",
       "      <td>16.000000</td>\n",
       "      <td>1.000000</td>\n",
       "      <td>1.000000</td>\n",
       "      <td>1.000000</td>\n",
       "      <td>1.000000</td>\n",
       "      <td>1.000000</td>\n",
       "      <td>1.000000</td>\n",
       "      <td>1.000000</td>\n",
       "      <td>1.000000</td>\n",
       "      <td>1.000000</td>\n",
       "      <td>1.000000</td>\n",
       "      <td>1.000000</td>\n",
       "      <td>1.000000</td>\n",
       "      <td>1.000000</td>\n",
       "      <td>1.000000</td>\n",
       "      <td>1.000000</td>\n",
       "      <td>1.000000</td>\n",
       "      <td>1.000000</td>\n",
       "      <td>1.000000</td>\n",
       "      <td>1.000000</td>\n",
       "    </tr>\n",
       "  </tbody>\n",
       "</table>\n",
       "</div>"
      ],
      "text/plain": [
       "        vote_average        runtime     popularity   release_year  \\\n",
       "count  477957.000000  477957.000000  477957.000000  477957.000000   \n",
       "mean        3.192882      69.572265       2.092083    1997.926631   \n",
       "std         3.252265      60.881496      11.475749      26.740034   \n",
       "min         0.000000       1.000000       0.600000    1901.000000   \n",
       "25%         0.000000      25.000000       0.600000    1985.000000   \n",
       "50%         3.000000      80.000000       0.713000    2009.000000   \n",
       "75%         6.016000      96.000000       1.492000    2018.000000   \n",
       "max        10.000000   14400.000000    2994.356934    2025.000000   \n",
       "\n",
       "         genre_count         Action      Adventure      Animation  \\\n",
       "count  477957.000000  477957.000000  477957.000000  477957.000000   \n",
       "mean        1.584404       0.071069       0.037248       0.090328   \n",
       "std         0.836106       0.256941       0.189369       0.286652   \n",
       "min         1.000000       0.000000       0.000000       0.000000   \n",
       "25%         1.000000       0.000000       0.000000       0.000000   \n",
       "50%         1.000000       0.000000       0.000000       0.000000   \n",
       "75%         2.000000       0.000000       0.000000       0.000000   \n",
       "max        16.000000       1.000000       1.000000       1.000000   \n",
       "\n",
       "              Comedy          Crime    Documentary          Drama  \\\n",
       "count  477957.000000  477957.000000  477957.000000  477957.000000   \n",
       "mean        0.208801       0.054312       0.232188       0.350452   \n",
       "std         0.406452       0.226633       0.422229       0.477112   \n",
       "min         0.000000       0.000000       0.000000       0.000000   \n",
       "25%         0.000000       0.000000       0.000000       0.000000   \n",
       "50%         0.000000       0.000000       0.000000       0.000000   \n",
       "75%         0.000000       0.000000       0.000000       1.000000   \n",
       "max         1.000000       1.000000       1.000000       1.000000   \n",
       "\n",
       "              Family        Fantasy        History         Horror  \\\n",
       "count  477957.000000  477957.000000  477957.000000  477957.000000   \n",
       "mean        0.042276       0.034750       0.025186       0.077350   \n",
       "std         0.201218       0.183146       0.156691       0.267146   \n",
       "min         0.000000       0.000000       0.000000       0.000000   \n",
       "25%         0.000000       0.000000       0.000000       0.000000   \n",
       "50%         0.000000       0.000000       0.000000       0.000000   \n",
       "75%         0.000000       0.000000       0.000000       0.000000   \n",
       "max         1.000000       1.000000       1.000000       1.000000   \n",
       "\n",
       "               Music        Mystery        Romance  Science Fiction  \\\n",
       "count  477957.000000  477957.000000  477957.000000    477957.000000   \n",
       "mean        0.064581       0.030706       0.086815         0.033654   \n",
       "std         0.245786       0.172519       0.281565         0.180336   \n",
       "min         0.000000       0.000000       0.000000         0.000000   \n",
       "25%         0.000000       0.000000       0.000000         0.000000   \n",
       "50%         0.000000       0.000000       0.000000         0.000000   \n",
       "75%         0.000000       0.000000       0.000000         0.000000   \n",
       "max         1.000000       1.000000       1.000000         1.000000   \n",
       "\n",
       "            TV Movie       Thriller            War        Western  \n",
       "count  477957.000000  477957.000000  477957.000000  477957.000000  \n",
       "mean        0.038654       0.073622       0.016943       0.014939  \n",
       "std         0.192769       0.261155       0.129058       0.121307  \n",
       "min         0.000000       0.000000       0.000000       0.000000  \n",
       "25%         0.000000       0.000000       0.000000       0.000000  \n",
       "50%         0.000000       0.000000       0.000000       0.000000  \n",
       "75%         0.000000       0.000000       0.000000       0.000000  \n",
       "max         1.000000       1.000000       1.000000       1.000000  "
      ]
     },
     "execution_count": 36,
     "metadata": {},
     "output_type": "execute_result"
    }
   ],
   "source": [
    "moviesDF.toPandas().describe()"
   ]
  },
  {
   "cell_type": "code",
   "execution_count": 37,
   "id": "2fa7b903",
   "metadata": {
    "scrolled": false
   },
   "outputs": [
    {
     "name": "stderr",
     "output_type": "stream",
     "text": [
      "                                                                                \r"
     ]
    },
    {
     "data": {
      "text/html": [
       "<div>\n",
       "<style scoped>\n",
       "    .dataframe tbody tr th:only-of-type {\n",
       "        vertical-align: middle;\n",
       "    }\n",
       "\n",
       "    .dataframe tbody tr th {\n",
       "        vertical-align: top;\n",
       "    }\n",
       "\n",
       "    .dataframe thead th {\n",
       "        text-align: right;\n",
       "    }\n",
       "</style>\n",
       "<table border=\"1\" class=\"dataframe\">\n",
       "  <thead>\n",
       "    <tr style=\"text-align: right;\">\n",
       "      <th></th>\n",
       "      <th>title</th>\n",
       "      <th>vote_average</th>\n",
       "      <th>status</th>\n",
       "      <th>runtime</th>\n",
       "      <th>popularity</th>\n",
       "      <th>release_year</th>\n",
       "      <th>genre_count</th>\n",
       "      <th>Action</th>\n",
       "      <th>Adventure</th>\n",
       "      <th>Animation</th>\n",
       "      <th>Comedy</th>\n",
       "      <th>Crime</th>\n",
       "      <th>Documentary</th>\n",
       "      <th>Drama</th>\n",
       "      <th>Family</th>\n",
       "      <th>Fantasy</th>\n",
       "      <th>History</th>\n",
       "      <th>Horror</th>\n",
       "      <th>Music</th>\n",
       "      <th>Mystery</th>\n",
       "      <th>Romance</th>\n",
       "      <th>Science Fiction</th>\n",
       "      <th>TV Movie</th>\n",
       "      <th>Thriller</th>\n",
       "      <th>War</th>\n",
       "      <th>Western</th>\n",
       "    </tr>\n",
       "  </thead>\n",
       "  <tbody>\n",
       "    <tr>\n",
       "      <th>0</th>\n",
       "      <td>Nincet Ninety</td>\n",
       "      <td>0.0</td>\n",
       "      <td>Released</td>\n",
       "      <td>13</td>\n",
       "      <td>0.6</td>\n",
       "      <td>2012</td>\n",
       "      <td>16</td>\n",
       "      <td>1</td>\n",
       "      <td>0</td>\n",
       "      <td>1</td>\n",
       "      <td>0</td>\n",
       "      <td>1</td>\n",
       "      <td>1</td>\n",
       "      <td>1</td>\n",
       "      <td>1</td>\n",
       "      <td>1</td>\n",
       "      <td>1</td>\n",
       "      <td>1</td>\n",
       "      <td>1</td>\n",
       "      <td>1</td>\n",
       "      <td>1</td>\n",
       "      <td>1</td>\n",
       "      <td>0</td>\n",
       "      <td>1</td>\n",
       "      <td>1</td>\n",
       "      <td>1</td>\n",
       "    </tr>\n",
       "  </tbody>\n",
       "</table>\n",
       "</div>"
      ],
      "text/plain": [
       "           title  vote_average    status  runtime  popularity  release_year  \\\n",
       "0  Nincet Ninety           0.0  Released       13         0.6          2012   \n",
       "\n",
       "   genre_count  Action  Adventure  Animation  Comedy  Crime  Documentary  \\\n",
       "0           16       1          0          1       0      1            1   \n",
       "\n",
       "   Drama  Family  Fantasy  History  Horror  Music  Mystery  Romance  \\\n",
       "0      1       1        1        1       1      1        1        1   \n",
       "\n",
       "   Science Fiction  TV Movie  Thriller  War  Western  \n",
       "0                1         0         1    1        1  "
      ]
     },
     "execution_count": 37,
     "metadata": {},
     "output_type": "execute_result"
    }
   ],
   "source": [
    "moviesDF.where(\"genre_count = 16\").toPandas().head()"
   ]
  },
  {
   "cell_type": "code",
   "execution_count": 38,
   "id": "08d1745e",
   "metadata": {
    "scrolled": false
   },
   "outputs": [
    {
     "name": "stderr",
     "output_type": "stream",
     "text": [
      "                                                                                \r"
     ]
    },
    {
     "data": {
      "text/html": [
       "<div>\n",
       "<style scoped>\n",
       "    .dataframe tbody tr th:only-of-type {\n",
       "        vertical-align: middle;\n",
       "    }\n",
       "\n",
       "    .dataframe tbody tr th {\n",
       "        vertical-align: top;\n",
       "    }\n",
       "\n",
       "    .dataframe thead th {\n",
       "        text-align: right;\n",
       "    }\n",
       "</style>\n",
       "<table border=\"1\" class=\"dataframe\">\n",
       "  <thead>\n",
       "    <tr style=\"text-align: right;\">\n",
       "      <th></th>\n",
       "      <th>title</th>\n",
       "      <th>vote_average</th>\n",
       "      <th>status</th>\n",
       "      <th>runtime</th>\n",
       "      <th>popularity</th>\n",
       "      <th>release_year</th>\n",
       "      <th>genre_count</th>\n",
       "      <th>Action</th>\n",
       "      <th>Adventure</th>\n",
       "      <th>Animation</th>\n",
       "      <th>Comedy</th>\n",
       "      <th>Crime</th>\n",
       "      <th>Documentary</th>\n",
       "      <th>Drama</th>\n",
       "      <th>Family</th>\n",
       "      <th>Fantasy</th>\n",
       "      <th>History</th>\n",
       "      <th>Horror</th>\n",
       "      <th>Music</th>\n",
       "      <th>Mystery</th>\n",
       "      <th>Romance</th>\n",
       "      <th>Science Fiction</th>\n",
       "      <th>TV Movie</th>\n",
       "      <th>Thriller</th>\n",
       "      <th>War</th>\n",
       "      <th>Western</th>\n",
       "    </tr>\n",
       "  </thead>\n",
       "  <tbody>\n",
       "    <tr>\n",
       "      <th>0</th>\n",
       "      <td>Inception</td>\n",
       "      <td>8.364</td>\n",
       "      <td>Released</td>\n",
       "      <td>148</td>\n",
       "      <td>83.952003</td>\n",
       "      <td>2010</td>\n",
       "      <td>3</td>\n",
       "      <td>1</td>\n",
       "      <td>1</td>\n",
       "      <td>0</td>\n",
       "      <td>0</td>\n",
       "      <td>0</td>\n",
       "      <td>0</td>\n",
       "      <td>0</td>\n",
       "      <td>0</td>\n",
       "      <td>0</td>\n",
       "      <td>0</td>\n",
       "      <td>0</td>\n",
       "      <td>0</td>\n",
       "      <td>0</td>\n",
       "      <td>0</td>\n",
       "      <td>1</td>\n",
       "      <td>0</td>\n",
       "      <td>0</td>\n",
       "      <td>0</td>\n",
       "      <td>0</td>\n",
       "    </tr>\n",
       "    <tr>\n",
       "      <th>1</th>\n",
       "      <td>Interstellar</td>\n",
       "      <td>8.417</td>\n",
       "      <td>Released</td>\n",
       "      <td>169</td>\n",
       "      <td>140.240997</td>\n",
       "      <td>2014</td>\n",
       "      <td>3</td>\n",
       "      <td>0</td>\n",
       "      <td>1</td>\n",
       "      <td>0</td>\n",
       "      <td>0</td>\n",
       "      <td>0</td>\n",
       "      <td>0</td>\n",
       "      <td>1</td>\n",
       "      <td>0</td>\n",
       "      <td>0</td>\n",
       "      <td>0</td>\n",
       "      <td>0</td>\n",
       "      <td>0</td>\n",
       "      <td>0</td>\n",
       "      <td>0</td>\n",
       "      <td>1</td>\n",
       "      <td>0</td>\n",
       "      <td>0</td>\n",
       "      <td>0</td>\n",
       "      <td>0</td>\n",
       "    </tr>\n",
       "    <tr>\n",
       "      <th>2</th>\n",
       "      <td>The Dark Knight</td>\n",
       "      <td>8.512</td>\n",
       "      <td>Released</td>\n",
       "      <td>152</td>\n",
       "      <td>130.643005</td>\n",
       "      <td>2008</td>\n",
       "      <td>4</td>\n",
       "      <td>1</td>\n",
       "      <td>0</td>\n",
       "      <td>0</td>\n",
       "      <td>0</td>\n",
       "      <td>1</td>\n",
       "      <td>0</td>\n",
       "      <td>1</td>\n",
       "      <td>0</td>\n",
       "      <td>0</td>\n",
       "      <td>0</td>\n",
       "      <td>0</td>\n",
       "      <td>0</td>\n",
       "      <td>0</td>\n",
       "      <td>0</td>\n",
       "      <td>0</td>\n",
       "      <td>0</td>\n",
       "      <td>1</td>\n",
       "      <td>0</td>\n",
       "      <td>0</td>\n",
       "    </tr>\n",
       "    <tr>\n",
       "      <th>3</th>\n",
       "      <td>Avatar</td>\n",
       "      <td>7.573</td>\n",
       "      <td>Released</td>\n",
       "      <td>162</td>\n",
       "      <td>79.931999</td>\n",
       "      <td>2009</td>\n",
       "      <td>4</td>\n",
       "      <td>1</td>\n",
       "      <td>1</td>\n",
       "      <td>0</td>\n",
       "      <td>0</td>\n",
       "      <td>0</td>\n",
       "      <td>0</td>\n",
       "      <td>0</td>\n",
       "      <td>0</td>\n",
       "      <td>1</td>\n",
       "      <td>0</td>\n",
       "      <td>0</td>\n",
       "      <td>0</td>\n",
       "      <td>0</td>\n",
       "      <td>0</td>\n",
       "      <td>1</td>\n",
       "      <td>0</td>\n",
       "      <td>0</td>\n",
       "      <td>0</td>\n",
       "      <td>0</td>\n",
       "    </tr>\n",
       "    <tr>\n",
       "      <th>4</th>\n",
       "      <td>The Avengers</td>\n",
       "      <td>7.710</td>\n",
       "      <td>Released</td>\n",
       "      <td>143</td>\n",
       "      <td>98.082001</td>\n",
       "      <td>2012</td>\n",
       "      <td>3</td>\n",
       "      <td>1</td>\n",
       "      <td>1</td>\n",
       "      <td>0</td>\n",
       "      <td>0</td>\n",
       "      <td>0</td>\n",
       "      <td>0</td>\n",
       "      <td>0</td>\n",
       "      <td>0</td>\n",
       "      <td>0</td>\n",
       "      <td>0</td>\n",
       "      <td>0</td>\n",
       "      <td>0</td>\n",
       "      <td>0</td>\n",
       "      <td>0</td>\n",
       "      <td>1</td>\n",
       "      <td>0</td>\n",
       "      <td>0</td>\n",
       "      <td>0</td>\n",
       "      <td>0</td>\n",
       "    </tr>\n",
       "  </tbody>\n",
       "</table>\n",
       "</div>"
      ],
      "text/plain": [
       "             title  vote_average    status  runtime  popularity  release_year  \\\n",
       "0        Inception         8.364  Released      148   83.952003          2010   \n",
       "1     Interstellar         8.417  Released      169  140.240997          2014   \n",
       "2  The Dark Knight         8.512  Released      152  130.643005          2008   \n",
       "3           Avatar         7.573  Released      162   79.931999          2009   \n",
       "4     The Avengers         7.710  Released      143   98.082001          2012   \n",
       "\n",
       "   genre_count  Action  Adventure  Animation  Comedy  Crime  Documentary  \\\n",
       "0            3       1          1          0       0      0            0   \n",
       "1            3       0          1          0       0      0            0   \n",
       "2            4       1          0          0       0      1            0   \n",
       "3            4       1          1          0       0      0            0   \n",
       "4            3       1          1          0       0      0            0   \n",
       "\n",
       "   Drama  Family  Fantasy  History  Horror  Music  Mystery  Romance  \\\n",
       "0      0       0        0        0       0      0        0        0   \n",
       "1      1       0        0        0       0      0        0        0   \n",
       "2      1       0        0        0       0      0        0        0   \n",
       "3      0       0        1        0       0      0        0        0   \n",
       "4      0       0        0        0       0      0        0        0   \n",
       "\n",
       "   Science Fiction  TV Movie  Thriller  War  Western  \n",
       "0                1         0         0    0        0  \n",
       "1                1         0         0    0        0  \n",
       "2                0         0         1    0        0  \n",
       "3                1         0         0    0        0  \n",
       "4                1         0         0    0        0  "
      ]
     },
     "execution_count": 38,
     "metadata": {},
     "output_type": "execute_result"
    }
   ],
   "source": [
    "moviesDF.toPandas().head()"
   ]
  },
  {
   "cell_type": "code",
   "execution_count": 39,
   "id": "433bb70d",
   "metadata": {
    "scrolled": false
   },
   "outputs": [
    {
     "name": "stderr",
     "output_type": "stream",
     "text": [
      "                                                                                \r"
     ]
    },
    {
     "data": {
      "image/png": "[encoded data removed]",
      "text/plain": [
       "<Figure size 576x432 with 1 Axes>"
      ]
     },
     "metadata": {
      "needs_background": "light"
     },
     "output_type": "display_data"
    },
    {
     "name": "stderr",
     "output_type": "stream",
     "text": [
      "                                                                                \r"
     ]
    },
    {
     "data": {
      "image/png": "[encoded data removed]",
      "text/plain": [
       "<Figure size 576x432 with 1 Axes>"
      ]
     },
     "metadata": {
      "needs_background": "light"
     },
     "output_type": "display_data"
    },
    {
     "name": "stderr",
     "output_type": "stream",
     "text": [
      "                                                                                \r"
     ]
    },
    {
     "data": {
      "image/png": "[encoded data removed]",
      "text/plain": [
       "<Figure size 576x432 with 1 Axes>"
      ]
     },
     "metadata": {
      "needs_background": "light"
     },
     "output_type": "display_data"
    },
    {
     "name": "stderr",
     "output_type": "stream",
     "text": [
      "                                                                                \r"
     ]
    },
    {
     "data": {
      "image/png": "[encoded data removed]",
      "text/plain": [
       "<Figure size 576x432 with 1 Axes>"
      ]
     },
     "metadata": {
      "needs_background": "light"
     },
     "output_type": "display_data"
    },
    {
     "name": "stderr",
     "output_type": "stream",
     "text": [
      "                                                                                \r"
     ]
    },
    {
     "data": {
      "image/png": "[encoded data removed]",
      "text/plain": [
       "<Figure size 576x432 with 1 Axes>"
      ]
     },
     "metadata": {
      "needs_background": "light"
     },
     "output_type": "display_data"
    }
   ],
   "source": [
    "plotHistogram(moviesDF)"
   ]
  },
  {
   "cell_type": "code",
   "execution_count": 40,
   "id": "9ff9899e",
   "metadata": {
    "scrolled": false
   },
   "outputs": [
    {
     "name": "stderr",
     "output_type": "stream",
     "text": [
      "                                                                                \r"
     ]
    },
    {
     "data": {
      "image/png": "[encoded data removed]",
      "text/plain": [
       "<Figure size 1152x360 with 2 Axes>"
      ]
     },
     "metadata": {
      "needs_background": "light"
     },
     "output_type": "display_data"
    }
   ],
   "source": [
    "plotCorrelation(moviesDF)"
   ]
  },
  {
   "cell_type": "code",
   "execution_count": 41,
   "id": "7a3cf503",
   "metadata": {},
   "outputs": [],
   "source": [
    "def plotBoxPlot (df):\n",
    "    for column in numericalColumns:\n",
    "        tempPanda = df.select(column).toPandas()\n",
    "        plt.figure(figsize = (8,6))\n",
    "        sns.boxplot(x = tempPanda[column])\n",
    "        plt.xlabel(column)\n",
    "        plt.title(f\"Box plot of {column}\")\n",
    "        plt.show()"
   ]
  },
  {
   "cell_type": "code",
   "execution_count": 42,
   "id": "68cb82cf",
   "metadata": {
    "scrolled": false
   },
   "outputs": [
    {
     "name": "stderr",
     "output_type": "stream",
     "text": [
      "                                                                                \r"
     ]
    },
    {
     "data": {
      "image/png": "[encoded data removed]",
      "text/plain": [
       "<Figure size 576x432 with 1 Axes>"
      ]
     },
     "metadata": {
      "needs_background": "light"
     },
     "output_type": "display_data"
    },
    {
     "name": "stderr",
     "output_type": "stream",
     "text": [
      "                                                                                \r"
     ]
    },
    {
     "data": {
      "image/png": "[encoded data removed]",
      "text/plain": [
       "<Figure size 576x432 with 1 Axes>"
      ]
     },
     "metadata": {
      "needs_background": "light"
     },
     "output_type": "display_data"
    },
    {
     "name": "stderr",
     "output_type": "stream",
     "text": [
      "                                                                                \r"
     ]
    },
    {
     "data": {
      "image/png": "[encoded data removed]",
      "text/plain": [
       "<Figure size 576x432 with 1 Axes>"
      ]
     },
     "metadata": {
      "needs_background": "light"
     },
     "output_type": "display_data"
    },
    {
     "name": "stderr",
     "output_type": "stream",
     "text": [
      "                                                                                \r"
     ]
    },
    {
     "data": {
      "image/png": "[encoded data removed]",
      "text/plain": [
       "<Figure size 576x432 with 1 Axes>"
      ]
     },
     "metadata": {
      "needs_background": "light"
     },
     "output_type": "display_data"
    },
    {
     "name": "stderr",
     "output_type": "stream",
     "text": [
      "                                                                                \r"
     ]
    },
    {
     "data": {
      "image/png": "[encoded data removed]",
      "text/plain": [
       "<Figure size 576x432 with 1 Axes>"
      ]
     },
     "metadata": {
      "needs_background": "light"
     },
     "output_type": "display_data"
    }
   ],
   "source": [
    "plotBoxPlot (moviesDF)"
   ]
  },
  {
   "cell_type": "code",
   "execution_count": 43,
   "id": "e8d1f5fc",
   "metadata": {
    "scrolled": true
   },
   "outputs": [
    {
     "name": "stderr",
     "output_type": "stream",
     "text": [
      "                                                                                \r"
     ]
    },
    {
     "data": {
      "text/plain": [
       "363071"
      ]
     },
     "execution_count": 43,
     "metadata": {},
     "output_type": "execute_result"
    }
   ],
   "source": [
    "moviesDF.where(\"runtime <= 96\").count()"
   ]
  },
  {
   "cell_type": "code",
   "execution_count": 44,
   "id": "94809c5e",
   "metadata": {},
   "outputs": [],
   "source": [
    "tempDF1980 = moviesDF.where(\"runtime < 180\")"
   ]
  },
  {
   "cell_type": "code",
   "execution_count": 45,
   "id": "590fd924",
   "metadata": {},
   "outputs": [
    {
     "name": "stderr",
     "output_type": "stream",
     "text": [
      "                                                                                \r"
     ]
    },
    {
     "data": {
      "text/plain": [
       "471590"
      ]
     },
     "execution_count": 45,
     "metadata": {},
     "output_type": "execute_result"
    }
   ],
   "source": [
    "tempDF1980.count()"
   ]
  },
  {
   "cell_type": "code",
   "execution_count": 46,
   "id": "30fedcea",
   "metadata": {},
   "outputs": [
    {
     "name": "stderr",
     "output_type": "stream",
     "text": [
      "                                                                                \r"
     ]
    },
    {
     "data": {
      "image/png": "[encoded data removed]",
      "text/plain": [
       "<Figure size 576x432 with 1 Axes>"
      ]
     },
     "metadata": {
      "needs_background": "light"
     },
     "output_type": "display_data"
    },
    {
     "name": "stderr",
     "output_type": "stream",
     "text": [
      "                                                                                \r"
     ]
    },
    {
     "data": {
      "image/png": "[encoded data removed]",
      "text/plain": [
       "<Figure size 576x432 with 1 Axes>"
      ]
     },
     "metadata": {
      "needs_background": "light"
     },
     "output_type": "display_data"
    },
    {
     "name": "stderr",
     "output_type": "stream",
     "text": [
      "                                                                                \r"
     ]
    },
    {
     "data": {
      "image/png": "[encoded data removed]",
      "text/plain": [
       "<Figure size 576x432 with 1 Axes>"
      ]
     },
     "metadata": {
      "needs_background": "light"
     },
     "output_type": "display_data"
    },
    {
     "name": "stderr",
     "output_type": "stream",
     "text": [
      "                                                                                \r"
     ]
    },
    {
     "data": {
      "image/png": "[encoded data removed]",
      "text/plain": [
       "<Figure size 576x432 with 1 Axes>"
      ]
     },
     "metadata": {
      "needs_background": "light"
     },
     "output_type": "display_data"
    },
    {
     "name": "stderr",
     "output_type": "stream",
     "text": [
      "                                                                                \r"
     ]
    },
    {
     "data": {
      "image/png": "[encoded data removed]",
      "text/plain": [
       "<Figure size 576x432 with 1 Axes>"
      ]
     },
     "metadata": {
      "needs_background": "light"
     },
     "output_type": "display_data"
    }
   ],
   "source": [
    "plotBoxPlot (tempDF1980)"
   ]
  },
  {
   "cell_type": "markdown",
   "id": "ab9591d5",
   "metadata": {},
   "source": [
    "### Save the cleaned data"
   ]
  },
  {
   "cell_type": "code",
   "execution_count": 47,
   "id": "c1d1f3d0",
   "metadata": {},
   "outputs": [
    {
     "name": "stderr",
     "output_type": "stream",
     "text": [
      "----------------------------------------                                        \n",
      "Exception occurred during processing of request from ('127.0.0.1', 58896)\n",
      "Traceback (most recent call last):\n",
      "  File \"/usr/lib/python3.10/socketserver.py\", line 316, in _handle_request_noblock\n",
      "    self.process_request(request, client_address)\n",
      "  File \"/usr/lib/python3.10/socketserver.py\", line 347, in process_request\n",
      "    self.finish_request(request, client_address)\n",
      "  File \"/usr/lib/python3.10/socketserver.py\", line 360, in finish_request\n",
      "    self.RequestHandlerClass(request, client_address, self)\n",
      "  File \"/usr/lib/python3.10/socketserver.py\", line 747, in __init__\n",
      "    self.handle()\n",
      "  File \"/usr/local/spark/python/pyspark/accumulators.py\", line 262, in handle\n",
      "    poll(accum_updates)\n",
      "  File \"/usr/local/spark/python/pyspark/accumulators.py\", line 235, in poll\n",
      "    if func():\n",
      "  File \"/usr/local/spark/python/pyspark/accumulators.py\", line 239, in accum_updates\n",
      "    num_updates = read_int(self.rfile)\n",
      "  File \"/usr/local/spark/python/pyspark/serializers.py\", line 564, in read_int\n",
      "    raise EOFError\n",
      "EOFError\n",
      "----------------------------------------\n"
     ]
    }
   ],
   "source": [
    "cleanedDataPath = \"/CA1/data/cleaned\"\n",
    "moviesDF.write.csv(cleanedDataPath, header=True, mode=\"overwrite\")"
   ]
  },
  {
   "cell_type": "code",
   "execution_count": null,
   "id": "54bf0380",
   "metadata": {},
   "outputs": [],
   "source": []
  },
  {
   "cell_type": "code",
   "execution_count": null,
   "id": "22edfa16",
   "metadata": {},
   "outputs": [],
   "source": []
  }
 ],
 "metadata": {
  "kernelspec": {
   "display_name": "Python 3 (ipykernel)",
   "language": "python",
   "name": "python3"
  },
  "language_info": {
   "codemirror_mode": {
    "name": "ipython",
    "version": 3
   },
   "file_extension": ".py",
   "mimetype": "text/x-python",
   "name": "python",
   "nbconvert_exporter": "python",
   "pygments_lexer": "ipython3",
   "version": "3.10.12"
  }
 },
 "nbformat": 4,
 "nbformat_minor": 5
}
